{
 "cells": [
  {
   "cell_type": "code",
   "execution_count": 1,
   "metadata": {},
   "outputs": [],
   "source": [
    "# load autoreload extension\n",
    "%load_ext autoreload\n",
    "%autoreload 1"
   ]
  },
  {
   "cell_type": "code",
   "execution_count": 2,
   "metadata": {},
   "outputs": [],
   "source": [
    "%matplotlib inline"
   ]
  },
  {
   "cell_type": "code",
   "execution_count": 3,
   "metadata": {},
   "outputs": [],
   "source": [
    "import pandas as pd\n",
    "import os\n",
    "\n",
    "import numpy as np\n",
    "import seaborn as sns\n",
    "import matplotlib.pyplot as plt\n",
    "from pathlib import Path\n",
    "\n",
    "%aimport titanic_src.utils\n",
    "%aimport titanic_src.features.transform_features\n",
    "%aimport titanic_src.models.train_model\n",
    "%aimport titanic_src.visualization.visualize\n",
    "%aimport titanic_src.features.build_features\n",
    "\n",
    "tm = titanic_src.models.train_model\n",
    "tf = titanic_src.features.transform_features\n",
    "bf = titanic_src.features.build_features\n",
    "vs = titanic_src.visualization.visualize\n",
    "\n",
    "from titanic_src.visualization.visualize import plot_learning_curves_cv, plot_learning_curves\n",
    "from titanic_src.models.train_model import get_estimators, score_df, train_val_diff, find_best_voter"
   ]
  },
  {
   "cell_type": "code",
   "execution_count": 4,
   "metadata": {},
   "outputs": [],
   "source": [
    "from sklearn.ensemble import AdaBoostClassifier\n",
    "from sklearn.ensemble import ExtraTreesClassifier\n",
    "from sklearn.ensemble import GradientBoostingClassifier\n",
    "from sklearn.ensemble import RandomForestClassifier\n",
    "from sklearn.tree import DecisionTreeClassifier\n",
    "\n",
    "from sklearn.linear_model import LogisticRegression\n",
    "\n",
    "from sklearn.neighbors import KNeighborsClassifier\n",
    "from sklearn.naive_bayes import GaussianNB\n",
    "from sklearn.gaussian_process import GaussianProcessClassifier\n",
    "from sklearn.gaussian_process.kernels import RBF\n",
    "from sklearn.neural_network import MLPClassifier\n",
    "from sklearn.svm import SVC"
   ]
  },
  {
   "cell_type": "code",
   "execution_count": 5,
   "metadata": {},
   "outputs": [],
   "source": [
    "from sklearn.kernel_approximation import RBFSampler\n",
    "from sklearn.linear_model import SGDClassifier"
   ]
  },
  {
   "cell_type": "code",
   "execution_count": 6,
   "metadata": {},
   "outputs": [],
   "source": [
    "from sklearn.preprocessing import QuantileTransformer, RobustScaler, StandardScaler, CategoricalEncoder, LabelEncoder\n",
    "from sklearn.pipeline import Pipeline\n",
    "from sklearn.decomposition import PCA\n",
    "from sklearn.model_selection import GridSearchCV\n",
    "\n",
    "from sklearn.model_selection import train_test_split, cross_val_score, StratifiedKFold\n",
    "from sklearn.metrics import accuracy_score"
   ]
  },
  {
   "cell_type": "code",
   "execution_count": 7,
   "metadata": {},
   "outputs": [],
   "source": [
    "from titanic_src.features.transform_features import *"
   ]
  },
  {
   "cell_type": "code",
   "execution_count": 8,
   "metadata": {},
   "outputs": [],
   "source": [
    "train_data = titanic_src.utils.read_csv('data/processed/final_train.csv',index_col=0)\n",
    "\n",
    "X_train_full = train_data.loc[:,~train_data.columns.isin(['Survived'])]\n",
    "y_train_full = train_data['Survived'].as_matrix()\n",
    "y_train_full_nm = train_data['Survived']\n",
    "\n",
    "# X_train, X_val ,y_train, y_val = train_test_split(X_train_full, y_train_full)"
   ]
  },
  {
   "cell_type": "code",
   "execution_count": 9,
   "metadata": {},
   "outputs": [
    {
     "data": {
      "text/plain": [
       "Index(['Age', 'SibSp', 'Fare', 'FamilySize', 'NumOfCabins', 'Parch', 'Master.',\n",
       "       'Miss.', 'Mr.', 'Mrs.', 'Offcr.', 'Royal.', 'female', 'male', 'C', 'Q',\n",
       "       'S', 'A', 'B', 'C.1', 'D', 'E', 'F', 'G', 'T', 'ZZ', '1', '2', '3',\n",
       "       '0_0', '15_0', '30_0', '45_0', '60_0', '75_0', 'Alone', 'Kernel',\n",
       "       'Large', 'Small'],\n",
       "      dtype='object')"
      ]
     },
     "execution_count": 9,
     "metadata": {},
     "output_type": "execute_result"
    }
   ],
   "source": [
    "X_train_full.columns"
   ]
  },
  {
   "cell_type": "code",
   "execution_count": 10,
   "metadata": {},
   "outputs": [],
   "source": [
    "test_data = titanic_src.utils.read_csv('data/processed/final_test.csv',index_col=0)\n",
    "test_data['T'] = np.zeros(len(test_data))"
   ]
  },
  {
   "cell_type": "markdown",
   "metadata": {},
   "source": [
    "Let's try a few classifiers with default settings and compare their accuracies.\n",
    "\n",
    "We also need to compare the outputs of the different models - which ones make which errors."
   ]
  },
  {
   "cell_type": "code",
   "execution_count": 11,
   "metadata": {},
   "outputs": [],
   "source": [
    "models = [('DecisionTreeClassifier',DecisionTreeClassifier()),\n",
    "          ('RandomForestClassifier',RandomForestClassifier()),\n",
    "          ('ExtraTreesClassifier',ExtraTreesClassifier()),\n",
    "          ('GradientBoostingClassifier',GradientBoostingClassifier()),\n",
    "          ('AdaBoostClassifier',AdaBoostClassifier()),\n",
    "          ('LogisticRegression',LogisticRegression()),\n",
    "          ('MLPClassifier',MLPClassifier(max_iter=1000)),\n",
    "          ('SVC_lin',SVC(kernel='linear',probability=True,gamma='auto')),\n",
    "          ('SVC_rbf',SVC(probability=True,gamma='auto')),\n",
    "          ('KNeighborsClassifier',KNeighborsClassifier(n_neighbors=5)),\n",
    "          ('GaussianNB',GaussianNB()),\n",
    "          ('GaussianProcessClassifier',GaussianProcessClassifier())]"
   ]
  },
  {
   "cell_type": "code",
   "execution_count": 12,
   "metadata": {},
   "outputs": [
    {
     "data": {
      "text/html": [
       "<div>\n",
       "<style scoped>\n",
       "    .dataframe tbody tr th:only-of-type {\n",
       "        vertical-align: middle;\n",
       "    }\n",
       "\n",
       "    .dataframe tbody tr th {\n",
       "        vertical-align: top;\n",
       "    }\n",
       "\n",
       "    .dataframe thead th {\n",
       "        text-align: right;\n",
       "    }\n",
       "</style>\n",
       "<table border=\"1\" class=\"dataframe\">\n",
       "  <thead>\n",
       "    <tr style=\"text-align: right;\">\n",
       "      <th></th>\n",
       "      <th>Model</th>\n",
       "      <th>Average CVS</th>\n",
       "      <th>All CVS</th>\n",
       "    </tr>\n",
       "  </thead>\n",
       "  <tbody>\n",
       "    <tr>\n",
       "      <th>7</th>\n",
       "      <td>SVC_lin</td>\n",
       "      <td>0.827178</td>\n",
       "      <td>[0.8379888268156425, 0.8212290502793296, 0.820...</td>\n",
       "    </tr>\n",
       "    <tr>\n",
       "      <th>5</th>\n",
       "      <td>LogisticRegression</td>\n",
       "      <td>0.826054</td>\n",
       "      <td>[0.8268156424581006, 0.8268156424581006, 0.803...</td>\n",
       "    </tr>\n",
       "    <tr>\n",
       "      <th>3</th>\n",
       "      <td>GradientBoostingClassifier</td>\n",
       "      <td>0.822727</td>\n",
       "      <td>[0.8044692737430168, 0.8156424581005587, 0.831...</td>\n",
       "    </tr>\n",
       "    <tr>\n",
       "      <th>6</th>\n",
       "      <td>MLPClassifier</td>\n",
       "      <td>0.811523</td>\n",
       "      <td>[0.7932960893854749, 0.8100558659217877, 0.808...</td>\n",
       "    </tr>\n",
       "    <tr>\n",
       "      <th>4</th>\n",
       "      <td>AdaBoostClassifier</td>\n",
       "      <td>0.809263</td>\n",
       "      <td>[0.8044692737430168, 0.7932960893854749, 0.786...</td>\n",
       "    </tr>\n",
       "    <tr>\n",
       "      <th>1</th>\n",
       "      <td>RandomForestClassifier</td>\n",
       "      <td>0.795805</td>\n",
       "      <td>[0.7877094972067039, 0.7877094972067039, 0.814...</td>\n",
       "    </tr>\n",
       "    <tr>\n",
       "      <th>10</th>\n",
       "      <td>GaussianNB</td>\n",
       "      <td>0.780200</td>\n",
       "      <td>[0.7206703910614525, 0.7541899441340782, 0.797...</td>\n",
       "    </tr>\n",
       "    <tr>\n",
       "      <th>2</th>\n",
       "      <td>ExtraTreesClassifier</td>\n",
       "      <td>0.767758</td>\n",
       "      <td>[0.7318435754189944, 0.7653631284916201, 0.786...</td>\n",
       "    </tr>\n",
       "    <tr>\n",
       "      <th>0</th>\n",
       "      <td>DecisionTreeClassifier</td>\n",
       "      <td>0.762146</td>\n",
       "      <td>[0.7262569832402235, 0.7374301675977654, 0.825...</td>\n",
       "    </tr>\n",
       "    <tr>\n",
       "      <th>8</th>\n",
       "      <td>SVC_rbf</td>\n",
       "      <td>0.756535</td>\n",
       "      <td>[0.7094972067039106, 0.7541899441340782, 0.758...</td>\n",
       "    </tr>\n",
       "    <tr>\n",
       "      <th>11</th>\n",
       "      <td>GaussianProcessClassifier</td>\n",
       "      <td>0.730736</td>\n",
       "      <td>[0.7039106145251397, 0.7039106145251397, 0.775...</td>\n",
       "    </tr>\n",
       "    <tr>\n",
       "      <th>9</th>\n",
       "      <td>KNeighborsClassifier</td>\n",
       "      <td>0.715049</td>\n",
       "      <td>[0.664804469273743, 0.6983240223463687, 0.6966...</td>\n",
       "    </tr>\n",
       "  </tbody>\n",
       "</table>\n",
       "</div>"
      ],
      "text/plain": [
       "                         Model  Average CVS  \\\n",
       "7                      SVC_lin     0.827178   \n",
       "5           LogisticRegression     0.826054   \n",
       "3   GradientBoostingClassifier     0.822727   \n",
       "6                MLPClassifier     0.811523   \n",
       "4           AdaBoostClassifier     0.809263   \n",
       "1       RandomForestClassifier     0.795805   \n",
       "10                  GaussianNB     0.780200   \n",
       "2         ExtraTreesClassifier     0.767758   \n",
       "0       DecisionTreeClassifier     0.762146   \n",
       "8                      SVC_rbf     0.756535   \n",
       "11   GaussianProcessClassifier     0.730736   \n",
       "9         KNeighborsClassifier     0.715049   \n",
       "\n",
       "                                              All CVS  \n",
       "7   [0.8379888268156425, 0.8212290502793296, 0.820...  \n",
       "5   [0.8268156424581006, 0.8268156424581006, 0.803...  \n",
       "3   [0.8044692737430168, 0.8156424581005587, 0.831...  \n",
       "6   [0.7932960893854749, 0.8100558659217877, 0.808...  \n",
       "4   [0.8044692737430168, 0.7932960893854749, 0.786...  \n",
       "1   [0.7877094972067039, 0.7877094972067039, 0.814...  \n",
       "10  [0.7206703910614525, 0.7541899441340782, 0.797...  \n",
       "2   [0.7318435754189944, 0.7653631284916201, 0.786...  \n",
       "0   [0.7262569832402235, 0.7374301675977654, 0.825...  \n",
       "8   [0.7094972067039106, 0.7541899441340782, 0.758...  \n",
       "11  [0.7039106145251397, 0.7039106145251397, 0.775...  \n",
       "9   [0.664804469273743, 0.6983240223463687, 0.6966...  "
      ]
     },
     "execution_count": 12,
     "metadata": {},
     "output_type": "execute_result"
    }
   ],
   "source": [
    "results = []\n",
    "cols = ['Model', 'Average CVS', 'All CVS']\n",
    "for mn, model in models:\n",
    "    result = [mn]\n",
    "    cvs = cross_val_score(model,X_train_full,y_train_full,cv=5,scoring='accuracy',n_jobs=-1)\n",
    "    cvs_ave = np.mean(cvs)\n",
    "    result.append(cvs_ave)\n",
    "    result.append(cvs)\n",
    "    results.append(result)\n",
    "results = pd.DataFrame(results,columns=cols)\n",
    "results.sort_values(by='Average CVS',ascending=False)"
   ]
  },
  {
   "cell_type": "markdown",
   "metadata": {},
   "source": [
    "## DecisionTreeClassifier Tuning"
   ]
  },
  {
   "cell_type": "code",
   "execution_count": 80,
   "metadata": {},
   "outputs": [],
   "source": [
    "num_columns = ['Age','Fare','NumOfCabins','FamilySize','Parch','SibSp',]\n",
    "cat_columns = list(set(X_train_full.columns) - set(num_columns))\n"
   ]
  },
  {
   "cell_type": "code",
   "execution_count": 81,
   "metadata": {},
   "outputs": [],
   "source": [
    "dtc = tm.ModelTester(DecisionTreeClassifier(),num_columns,cat_columns)"
   ]
  },
  {
   "cell_type": "code",
   "execution_count": 82,
   "metadata": {},
   "outputs": [],
   "source": [
    "params = {'max_depth':[1,4,5,7],\n",
    "          'min_samples_leaf':[2,3,4,5,6,7,8],\n",
    "          'criterion':['gini'],\n",
    "          'min_samples_split':[2,4,7,9,],\n",
    "          'max_features':np.linspace(0.3,0.8,6)}"
   ]
  },
  {
   "cell_type": "code",
   "execution_count": 83,
   "metadata": {},
   "outputs": [
    {
     "name": "stdout",
     "output_type": "stream",
     "text": [
      "Starting 5 repeats of grid search procedure\n",
      "Fitting 2 folds for each of 672 candidates, totalling 1344 fits\n"
     ]
    },
    {
     "name": "stderr",
     "output_type": "stream",
     "text": [
      "[Parallel(n_jobs=-1)]: Done 268 tasks      | elapsed:    0.9s\n",
      "[Parallel(n_jobs=-1)]: Done 1344 out of 1344 | elapsed:    2.0s finished\n"
     ]
    },
    {
     "name": "stdout",
     "output_type": "stream",
     "text": [
      "Repeat 1 of 5 done\n",
      "Repeat 2 of 5 done\n",
      "Repeat 3 of 5 done\n",
      "Repeat 4 of 5 done\n",
      "Repeat 5 of 5 done\n"
     ]
    }
   ],
   "source": [
    "dtc.set_clf_params(params)\n",
    "dtc.do_grid_search(X=X_train_full,y=y_train_full,repeats=5,scoring='accuracy',cv=2)\n"
   ]
  },
  {
   "cell_type": "code",
   "execution_count": 84,
   "metadata": {},
   "outputs": [
    {
     "data": {
      "text/html": [
       "<div>\n",
       "<style scoped>\n",
       "    .dataframe tbody tr th:only-of-type {\n",
       "        vertical-align: middle;\n",
       "    }\n",
       "\n",
       "    .dataframe tbody tr th {\n",
       "        vertical-align: top;\n",
       "    }\n",
       "\n",
       "    .dataframe thead th {\n",
       "        text-align: right;\n",
       "    }\n",
       "</style>\n",
       "<table border=\"1\" class=\"dataframe\">\n",
       "  <thead>\n",
       "    <tr style=\"text-align: right;\">\n",
       "      <th></th>\n",
       "      <th>score</th>\n",
       "      <th>count</th>\n",
       "      <th>clf__min_samples_split</th>\n",
       "      <th>clf__criterion</th>\n",
       "      <th>clf__max_features</th>\n",
       "      <th>clf__min_samples_leaf</th>\n",
       "      <th>clf__max_depth</th>\n",
       "      <th>ad_action</th>\n",
       "      <th>model</th>\n",
       "      <th>params</th>\n",
       "    </tr>\n",
       "  </thead>\n",
       "  <tbody>\n",
       "    <tr>\n",
       "      <th>4</th>\n",
       "      <td>0.815944</td>\n",
       "      <td>1</td>\n",
       "      <td>9</td>\n",
       "      <td>gini</td>\n",
       "      <td>0.5</td>\n",
       "      <td>7</td>\n",
       "      <td>5</td>\n",
       "      <td>None</td>\n",
       "      <td>Pipeline(memory=None,\\n     steps=[('union', F...</td>\n",
       "      <td>{'clf__min_samples_split': 9, 'clf__criterion'...</td>\n",
       "    </tr>\n",
       "    <tr>\n",
       "      <th>0</th>\n",
       "      <td>0.827160</td>\n",
       "      <td>1</td>\n",
       "      <td>7</td>\n",
       "      <td>gini</td>\n",
       "      <td>0.3</td>\n",
       "      <td>6</td>\n",
       "      <td>4</td>\n",
       "      <td>None</td>\n",
       "      <td>Pipeline(memory=None,\\n     steps=[('union', F...</td>\n",
       "      <td>{'clf__min_samples_split': 7, 'clf__criterion'...</td>\n",
       "    </tr>\n",
       "    <tr>\n",
       "      <th>2</th>\n",
       "      <td>0.818174</td>\n",
       "      <td>1</td>\n",
       "      <td>7</td>\n",
       "      <td>gini</td>\n",
       "      <td>0.5</td>\n",
       "      <td>5</td>\n",
       "      <td>4</td>\n",
       "      <td>None</td>\n",
       "      <td>Pipeline(memory=None,\\n     steps=[('union', F...</td>\n",
       "      <td>{'clf__min_samples_split': 7, 'clf__criterion'...</td>\n",
       "    </tr>\n",
       "    <tr>\n",
       "      <th>3</th>\n",
       "      <td>0.817053</td>\n",
       "      <td>1</td>\n",
       "      <td>7</td>\n",
       "      <td>gini</td>\n",
       "      <td>0.5</td>\n",
       "      <td>4</td>\n",
       "      <td>4</td>\n",
       "      <td>None</td>\n",
       "      <td>Pipeline(memory=None,\\n     steps=[('union', F...</td>\n",
       "      <td>{'clf__min_samples_split': 7, 'clf__criterion'...</td>\n",
       "    </tr>\n",
       "    <tr>\n",
       "      <th>1</th>\n",
       "      <td>0.820421</td>\n",
       "      <td>1</td>\n",
       "      <td>4</td>\n",
       "      <td>gini</td>\n",
       "      <td>0.3</td>\n",
       "      <td>2</td>\n",
       "      <td>5</td>\n",
       "      <td>None</td>\n",
       "      <td>Pipeline(memory=None,\\n     steps=[('union', F...</td>\n",
       "      <td>{'clf__min_samples_split': 4, 'clf__criterion'...</td>\n",
       "    </tr>\n",
       "  </tbody>\n",
       "</table>\n",
       "</div>"
      ],
      "text/plain": [
       "      score  count clf__min_samples_split clf__criterion clf__max_features  \\\n",
       "4  0.815944      1                      9           gini               0.5   \n",
       "0  0.827160      1                      7           gini               0.3   \n",
       "2  0.818174      1                      7           gini               0.5   \n",
       "3  0.817053      1                      7           gini               0.5   \n",
       "1  0.820421      1                      4           gini               0.3   \n",
       "\n",
       "  clf__min_samples_leaf clf__max_depth ad_action  \\\n",
       "4                     7              5      None   \n",
       "0                     6              4      None   \n",
       "2                     5              4      None   \n",
       "3                     4              4      None   \n",
       "1                     2              5      None   \n",
       "\n",
       "                                               model  \\\n",
       "4  Pipeline(memory=None,\\n     steps=[('union', F...   \n",
       "0  Pipeline(memory=None,\\n     steps=[('union', F...   \n",
       "2  Pipeline(memory=None,\\n     steps=[('union', F...   \n",
       "3  Pipeline(memory=None,\\n     steps=[('union', F...   \n",
       "1  Pipeline(memory=None,\\n     steps=[('union', F...   \n",
       "\n",
       "                                              params  \n",
       "4  {'clf__min_samples_split': 9, 'clf__criterion'...  \n",
       "0  {'clf__min_samples_split': 7, 'clf__criterion'...  \n",
       "2  {'clf__min_samples_split': 7, 'clf__criterion'...  \n",
       "3  {'clf__min_samples_split': 7, 'clf__criterion'...  \n",
       "1  {'clf__min_samples_split': 4, 'clf__criterion'...  "
      ]
     },
     "execution_count": 84,
     "metadata": {},
     "output_type": "execute_result"
    }
   ],
   "source": [
    "dtc.best_df_.sort_values(['clf__min_samples_leaf','clf__min_samples_split','clf__max_features','clf__max_depth'],ascending=[False,False,True,True])"
   ]
  },
  {
   "cell_type": "code",
   "execution_count": 85,
   "metadata": {},
   "outputs": [
    {
     "data": {
      "text/plain": [
       "0.8136783565997048"
      ]
     },
     "execution_count": 85,
     "metadata": {},
     "output_type": "execute_result"
    }
   ],
   "source": [
    "cross_val_score(dtc.best_df_['model'].iloc[0],X_train_full,y_train_full,cv=10,scoring='accuracy').mean()"
   ]
  },
  {
   "cell_type": "code",
   "execution_count": 86,
   "metadata": {},
   "outputs": [
    {
     "data": {
      "image/png": "[encoded data removed]",
      "text/plain": [
       "<matplotlib.figure.Figure at 0x7fdcfc869dd8>"
      ]
     },
     "metadata": {},
     "output_type": "display_data"
    }
   ],
   "source": [
    "plot_learning_curves_cv(dtc.best_df_['model'].iloc[0],X_train_full,y_train_full_nm,accuracy_score,cv=10,increments=50)"
   ]
  },
  {
   "cell_type": "code",
   "execution_count": 87,
   "metadata": {},
   "outputs": [],
   "source": [
    "utils.save_pipeline(dtc.best_model_,'models/grid_search_results/best_dtc.pkl')"
   ]
  },
  {
   "cell_type": "markdown",
   "metadata": {},
   "source": [
    "## RandomForrestClassifier Tuning"
   ]
  },
  {
   "cell_type": "code",
   "execution_count": 58,
   "metadata": {},
   "outputs": [],
   "source": [
    "num_columns = ['Age','Fare','NumOfCabins','FamilySize','Parch','SibSp',]\n",
    "cat_columns = list(set(X_train_full.columns) - set(num_columns))"
   ]
  },
  {
   "cell_type": "code",
   "execution_count": 59,
   "metadata": {},
   "outputs": [],
   "source": [
    "rfc = tm.ModelTester(RandomForestClassifier(),num_columns,cat_columns)"
   ]
  },
  {
   "cell_type": "code",
   "execution_count": 68,
   "metadata": {},
   "outputs": [
    {
     "name": "stdout",
     "output_type": "stream",
     "text": [
      "Starting 5 repeats of grid search procedure\n",
      "Fitting 3 folds for each of 32 candidates, totalling 96 fits\n"
     ]
    },
    {
     "name": "stderr",
     "output_type": "stream",
     "text": [
      "[Parallel(n_jobs=-1)]: Done  52 tasks      | elapsed:    0.7s\n",
      "[Parallel(n_jobs=-1)]: Done  96 out of  96 | elapsed:    1.1s finished\n"
     ]
    },
    {
     "name": "stdout",
     "output_type": "stream",
     "text": [
      "Repeat 1 of 5 done\n",
      "Repeat 2 of 5 done\n",
      "Repeat 3 of 5 done\n",
      "Repeat 4 of 5 done\n",
      "Repeat 5 of 5 done\n"
     ]
    }
   ],
   "source": [
    "params = {'bootstrap':[True],\n",
    "          'max_depth':[4,5],\n",
    "          'min_samples_leaf':[2,4,6,8],\n",
    "          'criterion':['entropy'],\n",
    "          'min_samples_split':[2,4,6,8],\n",
    "          'n_estimators':[50]} #limited to 50 to give best results\n",
    "         \n",
    "rfc.set_clf_params(params)\n",
    "rfc.do_grid_search(X=X_train_full,y=y_train_full,repeats=5,scoring='accuracy',cv=3)\n"
   ]
  },
  {
   "cell_type": "code",
   "execution_count": 70,
   "metadata": {},
   "outputs": [
    {
     "data": {
      "text/html": [
       "<div>\n",
       "<style scoped>\n",
       "    .dataframe tbody tr th:only-of-type {\n",
       "        vertical-align: middle;\n",
       "    }\n",
       "\n",
       "    .dataframe tbody tr th {\n",
       "        vertical-align: top;\n",
       "    }\n",
       "\n",
       "    .dataframe thead th {\n",
       "        text-align: right;\n",
       "    }\n",
       "</style>\n",
       "<table border=\"1\" class=\"dataframe\">\n",
       "  <thead>\n",
       "    <tr style=\"text-align: right;\">\n",
       "      <th></th>\n",
       "      <th>score</th>\n",
       "      <th>count</th>\n",
       "      <th>clf__criterion</th>\n",
       "      <th>clf__max_depth</th>\n",
       "      <th>clf__min_samples_leaf</th>\n",
       "      <th>ad_action</th>\n",
       "      <th>clf__n_estimators</th>\n",
       "      <th>clf__bootstrap</th>\n",
       "      <th>clf__min_samples_split</th>\n",
       "      <th>model</th>\n",
       "      <th>params</th>\n",
       "    </tr>\n",
       "  </thead>\n",
       "  <tbody>\n",
       "    <tr>\n",
       "      <th>0</th>\n",
       "      <td>0.833895</td>\n",
       "      <td>1</td>\n",
       "      <td>entropy</td>\n",
       "      <td>4</td>\n",
       "      <td>4</td>\n",
       "      <td>None</td>\n",
       "      <td>50</td>\n",
       "      <td>True</td>\n",
       "      <td>4</td>\n",
       "      <td>Pipeline(memory=None,\\n     steps=[('union', F...</td>\n",
       "      <td>{'clf__criterion': 'entropy', 'clf__min_sample...</td>\n",
       "    </tr>\n",
       "    <tr>\n",
       "      <th>1</th>\n",
       "      <td>0.833895</td>\n",
       "      <td>1</td>\n",
       "      <td>entropy</td>\n",
       "      <td>5</td>\n",
       "      <td>2</td>\n",
       "      <td>None</td>\n",
       "      <td>50</td>\n",
       "      <td>True</td>\n",
       "      <td>2</td>\n",
       "      <td>Pipeline(memory=None,\\n     steps=[('union', F...</td>\n",
       "      <td>{'clf__criterion': 'entropy', 'clf__min_sample...</td>\n",
       "    </tr>\n",
       "    <tr>\n",
       "      <th>2</th>\n",
       "      <td>0.833895</td>\n",
       "      <td>1</td>\n",
       "      <td>entropy</td>\n",
       "      <td>5</td>\n",
       "      <td>2</td>\n",
       "      <td>None</td>\n",
       "      <td>50</td>\n",
       "      <td>True</td>\n",
       "      <td>4</td>\n",
       "      <td>Pipeline(memory=None,\\n     steps=[('union', F...</td>\n",
       "      <td>{'clf__criterion': 'entropy', 'clf__min_sample...</td>\n",
       "    </tr>\n",
       "    <tr>\n",
       "      <th>3</th>\n",
       "      <td>0.831650</td>\n",
       "      <td>1</td>\n",
       "      <td>entropy</td>\n",
       "      <td>4</td>\n",
       "      <td>2</td>\n",
       "      <td>None</td>\n",
       "      <td>50</td>\n",
       "      <td>True</td>\n",
       "      <td>6</td>\n",
       "      <td>Pipeline(memory=None,\\n     steps=[('union', F...</td>\n",
       "      <td>{'clf__criterion': 'entropy', 'clf__min_sample...</td>\n",
       "    </tr>\n",
       "    <tr>\n",
       "      <th>4</th>\n",
       "      <td>0.831650</td>\n",
       "      <td>1</td>\n",
       "      <td>entropy</td>\n",
       "      <td>4</td>\n",
       "      <td>2</td>\n",
       "      <td>None</td>\n",
       "      <td>50</td>\n",
       "      <td>True</td>\n",
       "      <td>2</td>\n",
       "      <td>Pipeline(memory=None,\\n     steps=[('union', F...</td>\n",
       "      <td>{'clf__criterion': 'entropy', 'clf__min_sample...</td>\n",
       "    </tr>\n",
       "  </tbody>\n",
       "</table>\n",
       "</div>"
      ],
      "text/plain": [
       "      score  count clf__criterion clf__max_depth clf__min_samples_leaf  \\\n",
       "0  0.833895      1        entropy              4                     4   \n",
       "1  0.833895      1        entropy              5                     2   \n",
       "2  0.833895      1        entropy              5                     2   \n",
       "3  0.831650      1        entropy              4                     2   \n",
       "4  0.831650      1        entropy              4                     2   \n",
       "\n",
       "  ad_action clf__n_estimators clf__bootstrap clf__min_samples_split  \\\n",
       "0      None                50           True                      4   \n",
       "1      None                50           True                      2   \n",
       "2      None                50           True                      4   \n",
       "3      None                50           True                      6   \n",
       "4      None                50           True                      2   \n",
       "\n",
       "                                               model  \\\n",
       "0  Pipeline(memory=None,\\n     steps=[('union', F...   \n",
       "1  Pipeline(memory=None,\\n     steps=[('union', F...   \n",
       "2  Pipeline(memory=None,\\n     steps=[('union', F...   \n",
       "3  Pipeline(memory=None,\\n     steps=[('union', F...   \n",
       "4  Pipeline(memory=None,\\n     steps=[('union', F...   \n",
       "\n",
       "                                              params  \n",
       "0  {'clf__criterion': 'entropy', 'clf__min_sample...  \n",
       "1  {'clf__criterion': 'entropy', 'clf__min_sample...  \n",
       "2  {'clf__criterion': 'entropy', 'clf__min_sample...  \n",
       "3  {'clf__criterion': 'entropy', 'clf__min_sample...  \n",
       "4  {'clf__criterion': 'entropy', 'clf__min_sample...  "
      ]
     },
     "execution_count": 70,
     "metadata": {},
     "output_type": "execute_result"
    }
   ],
   "source": [
    "rfc.best_df_"
   ]
  },
  {
   "cell_type": "code",
   "execution_count": 73,
   "metadata": {},
   "outputs": [
    {
     "data": {
      "image/png": "[encoded data removed]",
      "text/plain": [
       "<matplotlib.figure.Figure at 0x7f62057645c0>"
      ]
     },
     "metadata": {},
     "output_type": "display_data"
    }
   ],
   "source": [
    "plot_learning_curves_cv(rfc.best_df_['model'].iloc[0],X_train_full,y_train_full_nm,accuracy_score,cv=10,increments=30)"
   ]
  },
  {
   "cell_type": "code",
   "execution_count": 74,
   "metadata": {},
   "outputs": [],
   "source": [
    "utils.save_pipeline(rfc.best_df_['model'].iloc[0],'models/grid_search_results/best_rf.pkl')"
   ]
  },
  {
   "cell_type": "code",
   "execution_count": 75,
   "metadata": {},
   "outputs": [
    {
     "data": {
      "image/png": "[encoded data removed]",
      "text/plain": [
       "<matplotlib.figure.Figure at 0x7f62056879e8>"
      ]
     },
     "metadata": {},
     "output_type": "display_data"
    }
   ],
   "source": [
    "clf=rfc.best_df_['model'].iloc[0].steps[-1][1]\n",
    "indices = list(reversed(list(np.argsort(clf.feature_importances_))))\n",
    "ax = sns.barplot(x=clf.feature_importances_[indices],y=np.array(num_columns+cat_columns)[indices],orient='h')\n",
    "ax.figure.set_size_inches(5,10)"
   ]
  },
  {
   "cell_type": "code",
   "execution_count": 79,
   "metadata": {},
   "outputs": [
    {
     "name": "stdout",
     "output_type": "stream",
     "text": [
      "Starting 5 repeats of grid search procedure\n",
      "Fitting 3 folds for each of 32 candidates, totalling 96 fits\n"
     ]
    },
    {
     "name": "stderr",
     "output_type": "stream",
     "text": [
      "[Parallel(n_jobs=-1)]: Done  52 tasks      | elapsed:    0.7s\n"
     ]
    },
    {
     "name": "stdout",
     "output_type": "stream",
     "text": [
      "Repeat 1 of 5 done\n"
     ]
    },
    {
     "name": "stderr",
     "output_type": "stream",
     "text": [
      "[Parallel(n_jobs=-1)]: Done  96 out of  96 | elapsed:    1.1s finished\n"
     ]
    },
    {
     "name": "stdout",
     "output_type": "stream",
     "text": [
      "Repeat 2 of 5 done\n",
      "Repeat 3 of 5 done\n",
      "Repeat 4 of 5 done\n",
      "Repeat 5 of 5 done\n"
     ]
    }
   ],
   "source": [
    "rfc1 = tm.ModelTester(RandomForestClassifier(),num_columns,cat_columns)\n",
    "\n",
    "params = {'bootstrap':[True],\n",
    "          'max_depth':[4,5],\n",
    "          'min_samples_leaf':[2,4,6,8],\n",
    "          'criterion':['entropy'],\n",
    "          'min_samples_split':[2,4,6,8],\n",
    "          'n_estimators':[50]} #limited to 50 to give best results\n",
    "         \n",
    "rfc1.set_clf_params(params)\n",
    "rfc1.add_additional_action(ColumnSelector(indices[:10]),clear_previous=True)\n",
    "rfc1.do_grid_search(X=X_train_full,y=y_train_full,repeats=5,scoring='accuracy',cv=3)\n"
   ]
  },
  {
   "cell_type": "code",
   "execution_count": 80,
   "metadata": {},
   "outputs": [
    {
     "data": {
      "text/html": [
       "<div>\n",
       "<style scoped>\n",
       "    .dataframe tbody tr th:only-of-type {\n",
       "        vertical-align: middle;\n",
       "    }\n",
       "\n",
       "    .dataframe tbody tr th {\n",
       "        vertical-align: top;\n",
       "    }\n",
       "\n",
       "    .dataframe thead th {\n",
       "        text-align: right;\n",
       "    }\n",
       "</style>\n",
       "<table border=\"1\" class=\"dataframe\">\n",
       "  <thead>\n",
       "    <tr style=\"text-align: right;\">\n",
       "      <th></th>\n",
       "      <th>score</th>\n",
       "      <th>count</th>\n",
       "      <th>clf__criterion</th>\n",
       "      <th>clf__max_depth</th>\n",
       "      <th>clf__min_samples_leaf</th>\n",
       "      <th>ad_action</th>\n",
       "      <th>clf__n_estimators</th>\n",
       "      <th>clf__bootstrap</th>\n",
       "      <th>clf__min_samples_split</th>\n",
       "      <th>model</th>\n",
       "      <th>params</th>\n",
       "    </tr>\n",
       "  </thead>\n",
       "  <tbody>\n",
       "    <tr>\n",
       "      <th>0</th>\n",
       "      <td>0.831650</td>\n",
       "      <td>1</td>\n",
       "      <td>entropy</td>\n",
       "      <td>5</td>\n",
       "      <td>2</td>\n",
       "      <td>ColumnSelector(col=[23,36,30,9</td>\n",
       "      <td>50</td>\n",
       "      <td>True</td>\n",
       "      <td>8</td>\n",
       "      <td>Pipeline(memory=None,\\n     steps=[('union', F...</td>\n",
       "      <td>{'clf__criterion': 'entropy', 'clf__min_sample...</td>\n",
       "    </tr>\n",
       "    <tr>\n",
       "      <th>1</th>\n",
       "      <td>0.830527</td>\n",
       "      <td>1</td>\n",
       "      <td>entropy</td>\n",
       "      <td>5</td>\n",
       "      <td>2</td>\n",
       "      <td>ColumnSelector(col=[23,36,30,9</td>\n",
       "      <td>50</td>\n",
       "      <td>True</td>\n",
       "      <td>2</td>\n",
       "      <td>Pipeline(memory=None,\\n     steps=[('union', F...</td>\n",
       "      <td>{'clf__criterion': 'entropy', 'clf__min_sample...</td>\n",
       "    </tr>\n",
       "    <tr>\n",
       "      <th>2</th>\n",
       "      <td>0.830527</td>\n",
       "      <td>1</td>\n",
       "      <td>entropy</td>\n",
       "      <td>5</td>\n",
       "      <td>2</td>\n",
       "      <td>ColumnSelector(col=[23,36,30,9</td>\n",
       "      <td>50</td>\n",
       "      <td>True</td>\n",
       "      <td>6</td>\n",
       "      <td>Pipeline(memory=None,\\n     steps=[('union', F...</td>\n",
       "      <td>{'clf__criterion': 'entropy', 'clf__min_sample...</td>\n",
       "    </tr>\n",
       "    <tr>\n",
       "      <th>3</th>\n",
       "      <td>0.828283</td>\n",
       "      <td>1</td>\n",
       "      <td>entropy</td>\n",
       "      <td>5</td>\n",
       "      <td>2</td>\n",
       "      <td>ColumnSelector(col=[23,36,30,9</td>\n",
       "      <td>50</td>\n",
       "      <td>True</td>\n",
       "      <td>4</td>\n",
       "      <td>Pipeline(memory=None,\\n     steps=[('union', F...</td>\n",
       "      <td>{'clf__criterion': 'entropy', 'clf__min_sample...</td>\n",
       "    </tr>\n",
       "    <tr>\n",
       "      <th>4</th>\n",
       "      <td>0.824916</td>\n",
       "      <td>1</td>\n",
       "      <td>entropy</td>\n",
       "      <td>4</td>\n",
       "      <td>6</td>\n",
       "      <td>ColumnSelector(col=[23,36,30,9</td>\n",
       "      <td>50</td>\n",
       "      <td>True</td>\n",
       "      <td>4</td>\n",
       "      <td>Pipeline(memory=None,\\n     steps=[('union', F...</td>\n",
       "      <td>{'clf__criterion': 'entropy', 'clf__min_sample...</td>\n",
       "    </tr>\n",
       "  </tbody>\n",
       "</table>\n",
       "</div>"
      ],
      "text/plain": [
       "      score  count clf__criterion clf__max_depth clf__min_samples_leaf  \\\n",
       "0  0.831650      1        entropy              5                     2   \n",
       "1  0.830527      1        entropy              5                     2   \n",
       "2  0.830527      1        entropy              5                     2   \n",
       "3  0.828283      1        entropy              5                     2   \n",
       "4  0.824916      1        entropy              4                     6   \n",
       "\n",
       "                        ad_action clf__n_estimators clf__bootstrap  \\\n",
       "0  ColumnSelector(col=[23,36,30,9                50           True   \n",
       "1  ColumnSelector(col=[23,36,30,9                50           True   \n",
       "2  ColumnSelector(col=[23,36,30,9                50           True   \n",
       "3  ColumnSelector(col=[23,36,30,9                50           True   \n",
       "4  ColumnSelector(col=[23,36,30,9                50           True   \n",
       "\n",
       "  clf__min_samples_split                                              model  \\\n",
       "0                      8  Pipeline(memory=None,\\n     steps=[('union', F...   \n",
       "1                      2  Pipeline(memory=None,\\n     steps=[('union', F...   \n",
       "2                      6  Pipeline(memory=None,\\n     steps=[('union', F...   \n",
       "3                      4  Pipeline(memory=None,\\n     steps=[('union', F...   \n",
       "4                      4  Pipeline(memory=None,\\n     steps=[('union', F...   \n",
       "\n",
       "                                              params  \n",
       "0  {'clf__criterion': 'entropy', 'clf__min_sample...  \n",
       "1  {'clf__criterion': 'entropy', 'clf__min_sample...  \n",
       "2  {'clf__criterion': 'entropy', 'clf__min_sample...  \n",
       "3  {'clf__criterion': 'entropy', 'clf__min_sample...  \n",
       "4  {'clf__criterion': 'entropy', 'clf__min_sample...  "
      ]
     },
     "execution_count": 80,
     "metadata": {},
     "output_type": "execute_result"
    }
   ],
   "source": [
    "rfc1.best_df_"
   ]
  },
  {
   "cell_type": "code",
   "execution_count": 81,
   "metadata": {},
   "outputs": [
    {
     "data": {
      "image/png": "[encoded data removed]",
      "text/plain": [
       "<matplotlib.figure.Figure at 0x7f620574e5f8>"
      ]
     },
     "metadata": {},
     "output_type": "display_data"
    }
   ],
   "source": [
    "plot_learning_curves_cv(rfc1.best_df_['model'].iloc[0],X_train_full,y_train_full_nm,accuracy_score,increments=50)"
   ]
  },
  {
   "cell_type": "code",
   "execution_count": 82,
   "metadata": {},
   "outputs": [],
   "source": [
    "utils.save_pipeline(rfc1.best_df_['model'].iloc[0],'models/grid_search_results/best_rf_sel.pkl')"
   ]
  },
  {
   "cell_type": "markdown",
   "metadata": {},
   "source": [
    "## GradientBoostingClassifier Tuning"
   ]
  },
  {
   "cell_type": "code",
   "execution_count": 179,
   "metadata": {},
   "outputs": [],
   "source": [
    "num_columns = ['Age','Fare','NumOfCabins','FamilySize','Parch','SibSp',]\n",
    "cat_columns = list(set(X_train_full.columns) - set(num_columns))\n",
    "\n",
    "gbc = tm.ModelTester(GradientBoostingClassifier(),num_columns,cat_columns)"
   ]
  },
  {
   "cell_type": "code",
   "execution_count": 181,
   "metadata": {},
   "outputs": [
    {
     "name": "stdout",
     "output_type": "stream",
     "text": [
      "Starting 5 repeats of grid search procedure\n",
      "Fitting 3 folds for each of 540 candidates, totalling 1620 fits\n"
     ]
    },
    {
     "name": "stderr",
     "output_type": "stream",
     "text": [
      "[Parallel(n_jobs=-1)]: Done  88 tasks      | elapsed:    1.4s\n",
      "[Parallel(n_jobs=-1)]: Done 688 tasks      | elapsed:   11.1s\n",
      "[Parallel(n_jobs=-1)]: Done 1620 out of 1620 | elapsed:   31.2s finished\n"
     ]
    },
    {
     "name": "stdout",
     "output_type": "stream",
     "text": [
      "Repeat 1 of 5 done\n",
      "Repeat 2 of 5 done\n",
      "Repeat 3 of 5 done\n",
      "Repeat 4 of 5 done\n",
      "Repeat 5 of 5 done\n"
     ]
    }
   ],
   "source": [
    "gbc.set_clf_params({'learning_rate':[0.1],\n",
    "                    'max_depth':[1,2],\n",
    "                    'min_samples_leaf':[5,6,7],\n",
    "                    'min_samples_split':[5,6,7],\n",
    "                    'n_estimators':list(range(100,400,50)),\n",
    "                    'max_features':np.linspace(0.1,1,5)})\n",
    "gbc.do_grid_search(X=X_train_full,y=y_train_full,repeats=5,scoring='accuracy',cv=3)\n"
   ]
  },
  {
   "cell_type": "code",
   "execution_count": 182,
   "metadata": {},
   "outputs": [
    {
     "data": {
      "text/html": [
       "<div>\n",
       "<style scoped>\n",
       "    .dataframe tbody tr th:only-of-type {\n",
       "        vertical-align: middle;\n",
       "    }\n",
       "\n",
       "    .dataframe tbody tr th {\n",
       "        vertical-align: top;\n",
       "    }\n",
       "\n",
       "    .dataframe thead th {\n",
       "        text-align: right;\n",
       "    }\n",
       "</style>\n",
       "<table border=\"1\" class=\"dataframe\">\n",
       "  <thead>\n",
       "    <tr style=\"text-align: right;\">\n",
       "      <th></th>\n",
       "      <th>score</th>\n",
       "      <th>count</th>\n",
       "      <th>clf__min_samples_leaf</th>\n",
       "      <th>clf__min_samples_split</th>\n",
       "      <th>clf__max_features</th>\n",
       "      <th>ad_action</th>\n",
       "      <th>clf__n_estimators</th>\n",
       "      <th>clf__learning_rate</th>\n",
       "      <th>clf__max_depth</th>\n",
       "      <th>model</th>\n",
       "      <th>params</th>\n",
       "    </tr>\n",
       "  </thead>\n",
       "  <tbody>\n",
       "    <tr>\n",
       "      <th>0</th>\n",
       "      <td>0.836139</td>\n",
       "      <td>1</td>\n",
       "      <td>6</td>\n",
       "      <td>7</td>\n",
       "      <td>0.1</td>\n",
       "      <td>None</td>\n",
       "      <td>200</td>\n",
       "      <td>0.1</td>\n",
       "      <td>2</td>\n",
       "      <td>Pipeline(memory=None,\\n     steps=[('union', F...</td>\n",
       "      <td>{'clf__learning_rate': 0.1, 'clf__n_estimators...</td>\n",
       "    </tr>\n",
       "    <tr>\n",
       "      <th>1</th>\n",
       "      <td>0.835017</td>\n",
       "      <td>3</td>\n",
       "      <td>7</td>\n",
       "      <td>5</td>\n",
       "      <td>1.0</td>\n",
       "      <td>None</td>\n",
       "      <td>350</td>\n",
       "      <td>0.1</td>\n",
       "      <td>2</td>\n",
       "      <td>Pipeline(memory=None,\\n     steps=[('union', F...</td>\n",
       "      <td>{'clf__learning_rate': 0.1, 'clf__n_estimators...</td>\n",
       "    </tr>\n",
       "    <tr>\n",
       "      <th>2</th>\n",
       "      <td>0.835017</td>\n",
       "      <td>1</td>\n",
       "      <td>7</td>\n",
       "      <td>7</td>\n",
       "      <td>0.1</td>\n",
       "      <td>None</td>\n",
       "      <td>150</td>\n",
       "      <td>0.1</td>\n",
       "      <td>2</td>\n",
       "      <td>Pipeline(memory=None,\\n     steps=[('union', F...</td>\n",
       "      <td>{'clf__learning_rate': 0.1, 'clf__n_estimators...</td>\n",
       "    </tr>\n",
       "  </tbody>\n",
       "</table>\n",
       "</div>"
      ],
      "text/plain": [
       "      score  count clf__min_samples_leaf clf__min_samples_split  \\\n",
       "0  0.836139      1                     6                      7   \n",
       "1  0.835017      3                     7                      5   \n",
       "2  0.835017      1                     7                      7   \n",
       "\n",
       "  clf__max_features ad_action clf__n_estimators clf__learning_rate  \\\n",
       "0               0.1      None               200                0.1   \n",
       "1               1.0      None               350                0.1   \n",
       "2               0.1      None               150                0.1   \n",
       "\n",
       "  clf__max_depth                                              model  \\\n",
       "0              2  Pipeline(memory=None,\\n     steps=[('union', F...   \n",
       "1              2  Pipeline(memory=None,\\n     steps=[('union', F...   \n",
       "2              2  Pipeline(memory=None,\\n     steps=[('union', F...   \n",
       "\n",
       "                                              params  \n",
       "0  {'clf__learning_rate': 0.1, 'clf__n_estimators...  \n",
       "1  {'clf__learning_rate': 0.1, 'clf__n_estimators...  \n",
       "2  {'clf__learning_rate': 0.1, 'clf__n_estimators...  "
      ]
     },
     "execution_count": 182,
     "metadata": {},
     "output_type": "execute_result"
    }
   ],
   "source": [
    "gbc.best_df_"
   ]
  },
  {
   "cell_type": "code",
   "execution_count": 434,
   "metadata": {},
   "outputs": [
    {
     "data": {
      "image/png": "[encoded data removed]",
      "text/plain": [
       "<matplotlib.figure.Figure at 0x7fcebe5cadd8>"
      ]
     },
     "metadata": {},
     "output_type": "display_data"
    }
   ],
   "source": [
    "plot_learning_curves_cv(gbc.best_df_['model'].iloc[0],X_train_full,y_train_full_nm,accuracy_score,increments=25)"
   ]
  },
  {
   "cell_type": "code",
   "execution_count": 437,
   "metadata": {},
   "outputs": [],
   "source": [
    "utils.save_pipeline(gbc.best_model_,'models/grid_search_results/best_gbc.pkl')"
   ]
  },
  {
   "cell_type": "code",
   "execution_count": 438,
   "metadata": {},
   "outputs": [
    {
     "data": {
      "image/png": "[encoded data removed]",
      "text/plain": [
       "<matplotlib.figure.Figure at 0x7fcebe92ee10>"
      ]
     },
     "metadata": {},
     "output_type": "display_data"
    }
   ],
   "source": [
    "clf=gbc.best_model_.steps[-1][1]\n",
    "indices = list(reversed(list(np.argsort(clf.feature_importances_))))\n",
    "ax = sns.barplot(x=clf.feature_importances_[indices],y=np.array(num_columns+cat_columns)[indices],orient='h')\n",
    "ax.figure.set_size_inches(5,10)"
   ]
  },
  {
   "cell_type": "code",
   "execution_count": 456,
   "metadata": {},
   "outputs": [
    {
     "name": "stdout",
     "output_type": "stream",
     "text": [
      "Starting 5 repeats of grid search procedure\n",
      "Fitting 3 folds for each of 540 candidates, totalling 1620 fits\n"
     ]
    },
    {
     "name": "stderr",
     "output_type": "stream",
     "text": [
      "[Parallel(n_jobs=-1)]: Done  88 tasks      | elapsed:    1.4s\n",
      "[Parallel(n_jobs=-1)]: Done 688 tasks      | elapsed:   10.2s\n",
      "[Parallel(n_jobs=-1)]: Done 1620 out of 1620 | elapsed:   30.7s finished\n"
     ]
    },
    {
     "name": "stdout",
     "output_type": "stream",
     "text": [
      "Repeat 1 of 5 done\n",
      "Repeat 2 of 5 done\n",
      "Repeat 3 of 5 done\n",
      "Repeat 4 of 5 done\n",
      "Repeat 5 of 5 done\n"
     ]
    }
   ],
   "source": [
    "gbc1 = tm.ModelTester(GradientBoostingClassifier(),num_columns,cat_columns)\n",
    "\n",
    "gbc1.add_additional_action(ColumnSelector(indices[:-11]),clear_previous=True)\n",
    "\n",
    "gbc1.set_clf_params({'learning_rate':[0.1],\n",
    "                    'max_depth':[1,2],\n",
    "                    'min_samples_leaf':[5,6,7],\n",
    "                    'min_samples_split':[5,6,7],\n",
    "                    'n_estimators':list(range(100,400,50)),\n",
    "                    'max_features':np.linspace(0.1,1,5)})\n",
    "gbc1.do_grid_search(X=X_train_full,y=y_train_full,repeats=5,scoring='accuracy',cv=3)"
   ]
  },
  {
   "cell_type": "code",
   "execution_count": 457,
   "metadata": {},
   "outputs": [
    {
     "data": {
      "text/html": [
       "<div>\n",
       "<style scoped>\n",
       "    .dataframe tbody tr th:only-of-type {\n",
       "        vertical-align: middle;\n",
       "    }\n",
       "\n",
       "    .dataframe tbody tr th {\n",
       "        vertical-align: top;\n",
       "    }\n",
       "\n",
       "    .dataframe thead th {\n",
       "        text-align: right;\n",
       "    }\n",
       "</style>\n",
       "<table border=\"1\" class=\"dataframe\">\n",
       "  <thead>\n",
       "    <tr style=\"text-align: right;\">\n",
       "      <th></th>\n",
       "      <th>score</th>\n",
       "      <th>count</th>\n",
       "      <th>clf__min_samples_leaf</th>\n",
       "      <th>clf__min_samples_split</th>\n",
       "      <th>clf__max_features</th>\n",
       "      <th>ad_action</th>\n",
       "      <th>clf__n_estimators</th>\n",
       "      <th>clf__learning_rate</th>\n",
       "      <th>clf__max_depth</th>\n",
       "      <th>model</th>\n",
       "      <th>params</th>\n",
       "    </tr>\n",
       "  </thead>\n",
       "  <tbody>\n",
       "    <tr>\n",
       "      <th>0</th>\n",
       "      <td>0.835017</td>\n",
       "      <td>1</td>\n",
       "      <td>5</td>\n",
       "      <td>5</td>\n",
       "      <td>0.1</td>\n",
       "      <td>ColumnSelector(col=[1,0,3,8,37</td>\n",
       "      <td>100</td>\n",
       "      <td>0.1</td>\n",
       "      <td>2</td>\n",
       "      <td>Pipeline(memory=None,\\n     steps=[('union', F...</td>\n",
       "      <td>{'clf__learning_rate': 0.1, 'clf__n_estimators...</td>\n",
       "    </tr>\n",
       "    <tr>\n",
       "      <th>1</th>\n",
       "      <td>0.833895</td>\n",
       "      <td>1</td>\n",
       "      <td>6</td>\n",
       "      <td>7</td>\n",
       "      <td>0.1</td>\n",
       "      <td>ColumnSelector(col=[1,0,3,8,37</td>\n",
       "      <td>150</td>\n",
       "      <td>0.1</td>\n",
       "      <td>2</td>\n",
       "      <td>Pipeline(memory=None,\\n     steps=[('union', F...</td>\n",
       "      <td>{'clf__learning_rate': 0.1, 'clf__n_estimators...</td>\n",
       "    </tr>\n",
       "    <tr>\n",
       "      <th>2</th>\n",
       "      <td>0.833895</td>\n",
       "      <td>1</td>\n",
       "      <td>5</td>\n",
       "      <td>5</td>\n",
       "      <td>0.1</td>\n",
       "      <td>ColumnSelector(col=[1,0,3,8,37</td>\n",
       "      <td>150</td>\n",
       "      <td>0.1</td>\n",
       "      <td>2</td>\n",
       "      <td>Pipeline(memory=None,\\n     steps=[('union', F...</td>\n",
       "      <td>{'clf__learning_rate': 0.1, 'clf__n_estimators...</td>\n",
       "    </tr>\n",
       "    <tr>\n",
       "      <th>3</th>\n",
       "      <td>0.832772</td>\n",
       "      <td>1</td>\n",
       "      <td>6</td>\n",
       "      <td>6</td>\n",
       "      <td>0.1</td>\n",
       "      <td>ColumnSelector(col=[1,0,3,8,37</td>\n",
       "      <td>150</td>\n",
       "      <td>0.1</td>\n",
       "      <td>2</td>\n",
       "      <td>Pipeline(memory=None,\\n     steps=[('union', F...</td>\n",
       "      <td>{'clf__learning_rate': 0.1, 'clf__n_estimators...</td>\n",
       "    </tr>\n",
       "    <tr>\n",
       "      <th>4</th>\n",
       "      <td>0.832772</td>\n",
       "      <td>1</td>\n",
       "      <td>5</td>\n",
       "      <td>6</td>\n",
       "      <td>0.1</td>\n",
       "      <td>ColumnSelector(col=[1,0,3,8,37</td>\n",
       "      <td>100</td>\n",
       "      <td>0.1</td>\n",
       "      <td>2</td>\n",
       "      <td>Pipeline(memory=None,\\n     steps=[('union', F...</td>\n",
       "      <td>{'clf__learning_rate': 0.1, 'clf__n_estimators...</td>\n",
       "    </tr>\n",
       "  </tbody>\n",
       "</table>\n",
       "</div>"
      ],
      "text/plain": [
       "      score  count clf__min_samples_leaf clf__min_samples_split  \\\n",
       "0  0.835017      1                     5                      5   \n",
       "1  0.833895      1                     6                      7   \n",
       "2  0.833895      1                     5                      5   \n",
       "3  0.832772      1                     6                      6   \n",
       "4  0.832772      1                     5                      6   \n",
       "\n",
       "  clf__max_features                       ad_action clf__n_estimators  \\\n",
       "0               0.1  ColumnSelector(col=[1,0,3,8,37               100   \n",
       "1               0.1  ColumnSelector(col=[1,0,3,8,37               150   \n",
       "2               0.1  ColumnSelector(col=[1,0,3,8,37               150   \n",
       "3               0.1  ColumnSelector(col=[1,0,3,8,37               150   \n",
       "4               0.1  ColumnSelector(col=[1,0,3,8,37               100   \n",
       "\n",
       "  clf__learning_rate clf__max_depth  \\\n",
       "0                0.1              2   \n",
       "1                0.1              2   \n",
       "2                0.1              2   \n",
       "3                0.1              2   \n",
       "4                0.1              2   \n",
       "\n",
       "                                               model  \\\n",
       "0  Pipeline(memory=None,\\n     steps=[('union', F...   \n",
       "1  Pipeline(memory=None,\\n     steps=[('union', F...   \n",
       "2  Pipeline(memory=None,\\n     steps=[('union', F...   \n",
       "3  Pipeline(memory=None,\\n     steps=[('union', F...   \n",
       "4  Pipeline(memory=None,\\n     steps=[('union', F...   \n",
       "\n",
       "                                              params  \n",
       "0  {'clf__learning_rate': 0.1, 'clf__n_estimators...  \n",
       "1  {'clf__learning_rate': 0.1, 'clf__n_estimators...  \n",
       "2  {'clf__learning_rate': 0.1, 'clf__n_estimators...  \n",
       "3  {'clf__learning_rate': 0.1, 'clf__n_estimators...  \n",
       "4  {'clf__learning_rate': 0.1, 'clf__n_estimators...  "
      ]
     },
     "execution_count": 457,
     "metadata": {},
     "output_type": "execute_result"
    }
   ],
   "source": [
    "gbc1.best_df_"
   ]
  },
  {
   "cell_type": "code",
   "execution_count": 444,
   "metadata": {},
   "outputs": [
    {
     "data": {
      "text/plain": [
       "0.8283356032232436"
      ]
     },
     "execution_count": 444,
     "metadata": {},
     "output_type": "execute_result"
    }
   ],
   "source": [
    "cross_val_score(gbc1.best_df_['model'].iloc[0],X_train_full,y_train_full_nm,scoring='accuracy',cv=StratifiedKFold(n_splits=10,random_state=4)).mean()"
   ]
  },
  {
   "cell_type": "code",
   "execution_count": 458,
   "metadata": {},
   "outputs": [
    {
     "data": {
      "image/png": "[encoded data removed]",
      "text/plain": [
       "<matplotlib.figure.Figure at 0x7fcebe8957b8>"
      ]
     },
     "metadata": {},
     "output_type": "display_data"
    }
   ],
   "source": [
    "plot_learning_curves_cv(gbc1.best_df_['model'].iloc[0],X_train_full,y_train_full_nm,accuracy_score,cv=5,increments=25)"
   ]
  },
  {
   "cell_type": "code",
   "execution_count": 463,
   "metadata": {},
   "outputs": [],
   "source": [
    "utils.save_pipeline(gbc1.best_df_['model'].iloc[0],'models/grid_search_results/best_gbc_sel.pkl')"
   ]
  },
  {
   "cell_type": "markdown",
   "metadata": {},
   "source": [
    "## AdaBoostClassifier tuning"
   ]
  },
  {
   "cell_type": "code",
   "execution_count": 42,
   "metadata": {},
   "outputs": [],
   "source": [
    "num_columns = ['Age','Fare','NumOfCabins','FamilySize','Parch','SibSp',]\n",
    "cat_columns = list(set(X_train_full.columns) - set(num_columns))\n",
    "\n",
    "\n",
    "abc = tm.ModelTester(AdaBoostClassifier(),num_columns,cat_columns)"
   ]
  },
  {
   "cell_type": "code",
   "execution_count": 43,
   "metadata": {},
   "outputs": [
    {
     "name": "stdout",
     "output_type": "stream",
     "text": [
      "Starting 1 repeats of grid search procedure\n",
      "Fitting 3 folds for each of 720 candidates, totalling 2160 fits\n"
     ]
    },
    {
     "name": "stderr",
     "output_type": "stream",
     "text": [
      "[Parallel(n_jobs=-1)]: Done  52 tasks      | elapsed:    3.3s\n",
      "[Parallel(n_jobs=-1)]: Done 220 tasks      | elapsed:   14.5s\n",
      "[Parallel(n_jobs=-1)]: Done 470 tasks      | elapsed:   30.5s\n",
      "[Parallel(n_jobs=-1)]: Done 820 tasks      | elapsed:   53.4s\n",
      "[Parallel(n_jobs=-1)]: Done 1270 tasks      | elapsed:  1.4min\n",
      "[Parallel(n_jobs=-1)]: Done 1820 tasks      | elapsed:  2.1min\n",
      "[Parallel(n_jobs=-1)]: Done 2160 out of 2160 | elapsed:  2.5min finished\n"
     ]
    },
    {
     "name": "stdout",
     "output_type": "stream",
     "text": [
      "Repeat 1 of 1 done\n"
     ]
    }
   ],
   "source": [
    "abc.set_clf_params({'base_estimator':[DecisionTreeClassifier(max_depth=1,criterion='gini')],\n",
    "                    'base_estimator__min_samples_leaf':[2,3,4,5,6],\n",
    "                    'base_estimator__min_samples_split':[2,3,4,5],\n",
    "                    'learning_rate':[1,0.1,0.01,0.001],\n",
    "                    'n_estimators':list(range(50,500,50)),})\n",
    "abc.do_grid_search(X=X_train_full,y=y_train_full,repeats=1,scoring='accuracy',cv=3)\n"
   ]
  },
  {
   "cell_type": "code",
   "execution_count": 44,
   "metadata": {},
   "outputs": [
    {
     "data": {
      "text/html": [
       "<div>\n",
       "<style scoped>\n",
       "    .dataframe tbody tr th:only-of-type {\n",
       "        vertical-align: middle;\n",
       "    }\n",
       "\n",
       "    .dataframe tbody tr th {\n",
       "        vertical-align: top;\n",
       "    }\n",
       "\n",
       "    .dataframe thead th {\n",
       "        text-align: right;\n",
       "    }\n",
       "</style>\n",
       "<table border=\"1\" class=\"dataframe\">\n",
       "  <thead>\n",
       "    <tr style=\"text-align: right;\">\n",
       "      <th></th>\n",
       "      <th>score</th>\n",
       "      <th>count</th>\n",
       "      <th>clf__base_estimator</th>\n",
       "      <th>ad_action</th>\n",
       "      <th>...base_estimator__min_samples_split</th>\n",
       "      <th>clf__n_estimators</th>\n",
       "      <th>clf__learning_rate</th>\n",
       "      <th>...base_estimator__min_samples_leaf</th>\n",
       "      <th>model</th>\n",
       "      <th>params</th>\n",
       "    </tr>\n",
       "  </thead>\n",
       "  <tbody>\n",
       "    <tr>\n",
       "      <th>0</th>\n",
       "      <td>0.826038</td>\n",
       "      <td>1</td>\n",
       "      <td>DecisionTreeClassifier(class_w</td>\n",
       "      <td>None</td>\n",
       "      <td>2</td>\n",
       "      <td>50</td>\n",
       "      <td>1</td>\n",
       "      <td>3</td>\n",
       "      <td>Pipeline(memory=None,\\n     steps=[('union', F...</td>\n",
       "      <td>{'clf__base_estimator': DecisionTreeClassifier...</td>\n",
       "    </tr>\n",
       "  </tbody>\n",
       "</table>\n",
       "</div>"
      ],
      "text/plain": [
       "      score  count             clf__base_estimator ad_action  \\\n",
       "0  0.826038      1  DecisionTreeClassifier(class_w      None   \n",
       "\n",
       "  ...base_estimator__min_samples_split clf__n_estimators clf__learning_rate  \\\n",
       "0                                    2                50                  1   \n",
       "\n",
       "  ...base_estimator__min_samples_leaf  \\\n",
       "0                                   3   \n",
       "\n",
       "                                               model  \\\n",
       "0  Pipeline(memory=None,\\n     steps=[('union', F...   \n",
       "\n",
       "                                              params  \n",
       "0  {'clf__base_estimator': DecisionTreeClassifier...  "
      ]
     },
     "execution_count": 44,
     "metadata": {},
     "output_type": "execute_result"
    }
   ],
   "source": [
    "abc.best_df_"
   ]
  },
  {
   "cell_type": "code",
   "execution_count": 45,
   "metadata": {},
   "outputs": [
    {
     "data": {
      "text/plain": [
       "0.8126168993303825"
      ]
     },
     "execution_count": 45,
     "metadata": {},
     "output_type": "execute_result"
    }
   ],
   "source": [
    "cross_val_score(abc.best_df_['model'].iloc[0],X_train_full,y_train_full_nm,scoring='accuracy',cv=StratifiedKFold(n_splits=10,random_state=4)).mean()"
   ]
  },
  {
   "cell_type": "code",
   "execution_count": 46,
   "metadata": {},
   "outputs": [
    {
     "data": {
      "image/png": "[encoded data removed]",
      "text/plain": [
       "<matplotlib.figure.Figure at 0x7f6204f245c0>"
      ]
     },
     "metadata": {},
     "output_type": "display_data"
    }
   ],
   "source": [
    "plot_learning_curves_cv(abc.best_model_,X_train_full,y_train_full_nm,accuracy_score,increments=25)"
   ]
  },
  {
   "cell_type": "code",
   "execution_count": 48,
   "metadata": {},
   "outputs": [],
   "source": [
    "utils.save_pipeline(abc.best_model_,'models/grid_search_results/best_abc.pkl')"
   ]
  },
  {
   "cell_type": "code",
   "execution_count": 49,
   "metadata": {},
   "outputs": [
    {
     "data": {
      "image/png": "[encoded data removed]",
      "text/plain": [
       "<matplotlib.figure.Figure at 0x7f6204f18240>"
      ]
     },
     "metadata": {},
     "output_type": "display_data"
    }
   ],
   "source": [
    "clf=abc.best_model_.steps[-1][1]\n",
    "indices = list(reversed(list(np.argsort(clf.feature_importances_))))\n",
    "ax = sns.barplot(x=clf.feature_importances_[indices],y=np.array(num_columns+cat_columns)[indices],orient='h')\n",
    "ax.figure.set_size_inches(5,10)"
   ]
  },
  {
   "cell_type": "code",
   "execution_count": 51,
   "metadata": {},
   "outputs": [
    {
     "name": "stdout",
     "output_type": "stream",
     "text": [
      "Starting 1 repeats of grid search procedure\n",
      "Fitting 3 folds for each of 720 candidates, totalling 2160 fits\n"
     ]
    },
    {
     "name": "stderr",
     "output_type": "stream",
     "text": [
      "[Parallel(n_jobs=-1)]: Done  52 tasks      | elapsed:    3.1s\n",
      "[Parallel(n_jobs=-1)]: Done 224 tasks      | elapsed:   12.8s\n",
      "[Parallel(n_jobs=-1)]: Done 474 tasks      | elapsed:   27.2s\n",
      "[Parallel(n_jobs=-1)]: Done 824 tasks      | elapsed:   48.5s\n",
      "[Parallel(n_jobs=-1)]: Done 1274 tasks      | elapsed:  1.3min\n",
      "[Parallel(n_jobs=-1)]: Done 1824 tasks      | elapsed:  1.9min\n",
      "[Parallel(n_jobs=-1)]: Done 2160 out of 2160 | elapsed:  2.2min finished\n"
     ]
    },
    {
     "name": "stdout",
     "output_type": "stream",
     "text": [
      "Repeat 1 of 1 done\n"
     ]
    }
   ],
   "source": [
    "abc1 = tm.ModelTester(AdaBoostClassifier(),num_columns,cat_columns)\n",
    "\n",
    "abc1.add_additional_action(ColumnSelector(indices[:7]),clear_previous=True)\n",
    "\n",
    "abc1.set_clf_params({'base_estimator':[DecisionTreeClassifier(max_depth=1,criterion='gini')],\n",
    "                    'base_estimator__min_samples_leaf':[2,3,4,5,6],\n",
    "                    'base_estimator__min_samples_split':[2,3,4,5],\n",
    "                    'learning_rate':[1,0.1,0.01,0.001],\n",
    "                    'n_estimators':list(range(50,500,50)),})\n",
    "abc1.do_grid_search(X=X_train_full,y=y_train_full,repeats=1,scoring='accuracy',cv=3)\n"
   ]
  },
  {
   "cell_type": "code",
   "execution_count": 53,
   "metadata": {},
   "outputs": [
    {
     "data": {
      "text/html": [
       "<div>\n",
       "<style scoped>\n",
       "    .dataframe tbody tr th:only-of-type {\n",
       "        vertical-align: middle;\n",
       "    }\n",
       "\n",
       "    .dataframe tbody tr th {\n",
       "        vertical-align: top;\n",
       "    }\n",
       "\n",
       "    .dataframe thead th {\n",
       "        text-align: right;\n",
       "    }\n",
       "</style>\n",
       "<table border=\"1\" class=\"dataframe\">\n",
       "  <thead>\n",
       "    <tr style=\"text-align: right;\">\n",
       "      <th></th>\n",
       "      <th>score</th>\n",
       "      <th>count</th>\n",
       "      <th>clf__base_estimator</th>\n",
       "      <th>ad_action</th>\n",
       "      <th>...base_estimator__min_samples_split</th>\n",
       "      <th>clf__n_estimators</th>\n",
       "      <th>clf__learning_rate</th>\n",
       "      <th>...base_estimator__min_samples_leaf</th>\n",
       "      <th>model</th>\n",
       "      <th>params</th>\n",
       "    </tr>\n",
       "  </thead>\n",
       "  <tbody>\n",
       "    <tr>\n",
       "      <th>0</th>\n",
       "      <td>0.821549</td>\n",
       "      <td>1</td>\n",
       "      <td>DecisionTreeClassifier(class_w</td>\n",
       "      <td>ColumnSelector(col=[1,0,3,20,2</td>\n",
       "      <td>2</td>\n",
       "      <td>350</td>\n",
       "      <td>0.01</td>\n",
       "      <td>2</td>\n",
       "      <td>Pipeline(memory=None,\\n     steps=[('union', F...</td>\n",
       "      <td>{'clf__base_estimator': DecisionTreeClassifier...</td>\n",
       "    </tr>\n",
       "  </tbody>\n",
       "</table>\n",
       "</div>"
      ],
      "text/plain": [
       "      score  count             clf__base_estimator  \\\n",
       "0  0.821549      1  DecisionTreeClassifier(class_w   \n",
       "\n",
       "                        ad_action ...base_estimator__min_samples_split  \\\n",
       "0  ColumnSelector(col=[1,0,3,20,2                                    2   \n",
       "\n",
       "  clf__n_estimators clf__learning_rate ...base_estimator__min_samples_leaf  \\\n",
       "0               350               0.01                                   2   \n",
       "\n",
       "                                               model  \\\n",
       "0  Pipeline(memory=None,\\n     steps=[('union', F...   \n",
       "\n",
       "                                              params  \n",
       "0  {'clf__base_estimator': DecisionTreeClassifier...  "
      ]
     },
     "execution_count": 53,
     "metadata": {},
     "output_type": "execute_result"
    }
   ],
   "source": [
    "abc1.best_df_\n"
   ]
  },
  {
   "cell_type": "code",
   "execution_count": 54,
   "metadata": {},
   "outputs": [
    {
     "data": {
      "text/plain": [
       "0.8215185563500171"
      ]
     },
     "execution_count": 54,
     "metadata": {},
     "output_type": "execute_result"
    }
   ],
   "source": [
    "cross_val_score(abc1.best_df_['model'].iloc[0],X_train_full,y_train_full_nm,scoring='accuracy',cv=StratifiedKFold(n_splits=10,random_state=4)).mean()"
   ]
  },
  {
   "cell_type": "code",
   "execution_count": 55,
   "metadata": {},
   "outputs": [
    {
     "data": {
      "image/png": "[encoded data removed]",
      "text/plain": [
       "<matplotlib.figure.Figure at 0x7f61d586b0b8>"
      ]
     },
     "metadata": {},
     "output_type": "display_data"
    }
   ],
   "source": [
    "plot_learning_curves_cv(abc1.best_model_,X_train_full,y_train_full_nm,accuracy_score,increments=25)"
   ]
  },
  {
   "cell_type": "code",
   "execution_count": 57,
   "metadata": {},
   "outputs": [],
   "source": [
    "utils.save_pipeline(abc1.best_model_,'models/grid_search_results/best_abc_sel.pkl')"
   ]
  },
  {
   "cell_type": "markdown",
   "metadata": {},
   "source": [
    "## LogisticRegression tuning"
   ]
  },
  {
   "cell_type": "code",
   "execution_count": 487,
   "metadata": {},
   "outputs": [],
   "source": [
    "from sklearn.feature_selection import RFECV\n",
    "num_columns = ['Age','Fare','NumOfCabins','FamilySize','Parch','SibSp',]\n",
    "cat_columns = list(set(X_train_full.columns) - set(num_columns))\n",
    "\n",
    "\n",
    "lgc = tm.ModelTester(ColumnSelector([list(range(len(num_columns + cat_columns)))]),num_columns,cat_columns)\n",
    "clf = lgc._make_model_pipeline()"
   ]
  },
  {
   "cell_type": "code",
   "execution_count": 488,
   "metadata": {},
   "outputs": [],
   "source": [
    "num_pipe = Pipeline([\n",
    "            ('num_selector', DataFrameSelector(num_columns)),\n",
    "            ('scaler', QuantileTransformer(output_distribution='normal')),\n",
    "])\n",
    "union = FeatureUnion([\n",
    "            ('num_pipe', num_pipe),\n",
    "            ('cat_selector', DataFrameSelector(cat_columns))\n",
    "])\n",
    "\n",
    "X_train_new = union.fit_transform(X_train_full)"
   ]
  },
  {
   "cell_type": "code",
   "execution_count": 489,
   "metadata": {},
   "outputs": [
    {
     "name": "stdout",
     "output_type": "stream",
     "text": [
      "Fitting 3 folds for each of 96 candidates, totalling 288 fits\n"
     ]
    },
    {
     "name": "stderr",
     "output_type": "stream",
     "text": [
      "[Parallel(n_jobs=-1)]: Done  34 tasks      | elapsed:    4.4s\n",
      "[Parallel(n_jobs=-1)]: Done 184 tasks      | elapsed:   22.0s\n",
      "[Parallel(n_jobs=-1)]: Done 288 out of 288 | elapsed:   35.7s finished\n"
     ]
    },
    {
     "data": {
      "text/plain": [
       "GridSearchCV(cv=3, error_score='raise-deprecating',\n",
       "       estimator=RFECV(cv=5,\n",
       "   estimator=LogisticRegression(C=1.0, class_weight=None, dual=False, fit_intercept=True,\n",
       "          intercept_scaling=1, max_iter=100, multi_class='ovr', n_jobs=1,\n",
       "          penalty='l2', random_state=None, solver='liblinear', tol=0.0001,\n",
       "          verbose=0, warm_start=False),\n",
       "   n_jobs=1, scoring='accuracy', step=1, verbose=0),\n",
       "       fit_params=None, iid='warn', n_jobs=-1,\n",
       "       param_grid={'estimator__intercept_scaling': [0.1, 0.5, 1, 2, 3, 4], 'estimator__max_iter': [1000], 'estimator__class_weight': [None, 'balanced'], 'estimator__dual': [False], 'estimator__C': [0.9, 0.99], 'estimator__penalty': ['l2', 'l1'], 'estimator__fit_intercept': [True, False]},\n",
       "       pre_dispatch='2*n_jobs', refit=True, return_train_score='warn',\n",
       "       scoring=None, verbose=1)"
      ]
     },
     "execution_count": 489,
     "metadata": {},
     "output_type": "execute_result"
    }
   ],
   "source": [
    "params = {'estimator__C':[0.9,0.99],\n",
    "          'estimator__penalty':['l2','l1'],\n",
    "          'estimator__max_iter':[1000],\n",
    "          'estimator__fit_intercept':[True,False],\n",
    "          'estimator__intercept_scaling':[0.1,0.5,1,2,3,4],\n",
    "          'estimator__class_weight':[None,'balanced'],\n",
    "          'estimator__dual':[False]}\n",
    "\n",
    "clf = LogisticRegression()\n",
    "estimator = RFECV(clf,scoring='accuracy',cv=5)\n",
    "grid_search = GridSearchCV(estimator,param_grid=params,cv=3,n_jobs=-1,verbose=1)\n",
    "grid_search.fit(X_train_full,y_train_full)"
   ]
  },
  {
   "cell_type": "code",
   "execution_count": 490,
   "metadata": {},
   "outputs": [],
   "source": [
    "selected_colums = np.array(range(39))[grid_search.best_estimator_.support_]"
   ]
  },
  {
   "cell_type": "code",
   "execution_count": 524,
   "metadata": {},
   "outputs": [
    {
     "data": {
      "text/plain": [
       "0.83616035537436"
      ]
     },
     "execution_count": 524,
     "metadata": {},
     "output_type": "execute_result"
    },
    {
     "data": {
      "image/png": "[encoded data removed]",
      "text/plain": [
       "<matplotlib.figure.Figure at 0x7fcebe788f60>"
      ]
     },
     "metadata": {},
     "output_type": "display_data"
    }
   ],
   "source": [
    "plot_learning_curves_cv(grid_search.best_estimator_.estimator_,X_train_full.iloc[:,grid_search.best_estimator_.support_],y_train_full_nm,accuracy_score,increments=25)\n",
    "cross_val_score(grid_search.best_estimator_.estimator_,X_train_full.iloc[:,grid_search.best_estimator_.support_],y_train_full_nm,cv=5).mean()"
   ]
  },
  {
   "cell_type": "code",
   "execution_count": 515,
   "metadata": {},
   "outputs": [],
   "source": [
    "num_columns = ['Age','Fare','NumOfCabins','FamilySize','Parch','SibSp',]\n",
    "cat_columns = list(set(X_train_full.columns) - set(num_columns))\n",
    "\n",
    "lgc = tm.ModelTester(LogisticRegression(),num_columns,cat_columns)"
   ]
  },
  {
   "cell_type": "code",
   "execution_count": 517,
   "metadata": {},
   "outputs": [],
   "source": [
    "lgc.add_additional_action(ColumnSelector(col=selected_colums),clear_previous=True)\n",
    "\n",
    "lgc.set_scalers([QuantileTransformer(output_distribution='normal'),StandardScaler()])\n",
    "lgc.set_clf_params({'C':[0.9,0.99],\n",
    "                    'penalty':['l2','l1'],\n",
    "                    'max_iter':[1000],\n",
    "                    'fit_intercept':[True,False],\n",
    "                    'intercept_scaling':[0.1,0.5,1,2,3,4],\n",
    "                    'class_weight':[None,'balanced'],\n",
    "                    'dual':[False]})"
   ]
  },
  {
   "cell_type": "code",
   "execution_count": 518,
   "metadata": {},
   "outputs": [
    {
     "name": "stdout",
     "output_type": "stream",
     "text": [
      "Starting 5 repeats of grid search procedure\n",
      "Fitting 2 folds for each of 192 candidates, totalling 384 fits\n"
     ]
    },
    {
     "name": "stderr",
     "output_type": "stream",
     "text": [
      "[Parallel(n_jobs=-1)]: Done 196 tasks      | elapsed:    0.8s\n"
     ]
    },
    {
     "name": "stdout",
     "output_type": "stream",
     "text": [
      "Repeat 1 of 5 done\n"
     ]
    },
    {
     "name": "stderr",
     "output_type": "stream",
     "text": [
      "[Parallel(n_jobs=-1)]: Done 384 out of 384 | elapsed:    1.3s finished\n"
     ]
    },
    {
     "name": "stdout",
     "output_type": "stream",
     "text": [
      "Repeat 2 of 5 done\n",
      "Repeat 3 of 5 done\n",
      "Repeat 4 of 5 done\n",
      "Repeat 5 of 5 done\n"
     ]
    }
   ],
   "source": [
    "lgc.do_grid_search(X=X_train_full,y=y_train_full,repeats=5,scoring='accuracy',cv=2)"
   ]
  },
  {
   "cell_type": "code",
   "execution_count": 519,
   "metadata": {},
   "outputs": [
    {
     "data": {
      "text/html": [
       "<div>\n",
       "<style scoped>\n",
       "    .dataframe tbody tr th:only-of-type {\n",
       "        vertical-align: middle;\n",
       "    }\n",
       "\n",
       "    .dataframe tbody tr th {\n",
       "        vertical-align: top;\n",
       "    }\n",
       "\n",
       "    .dataframe thead th {\n",
       "        text-align: right;\n",
       "    }\n",
       "</style>\n",
       "<table border=\"1\" class=\"dataframe\">\n",
       "  <thead>\n",
       "    <tr style=\"text-align: right;\">\n",
       "      <th></th>\n",
       "      <th>score</th>\n",
       "      <th>count</th>\n",
       "      <th>clf__penalty</th>\n",
       "      <th>...num_pipe__scaler</th>\n",
       "      <th>clf__max_iter</th>\n",
       "      <th>clf__class_weight</th>\n",
       "      <th>clf__dual</th>\n",
       "      <th>ad_action</th>\n",
       "      <th>clf__C</th>\n",
       "      <th>clf__intercept_scaling</th>\n",
       "      <th>clf__fit_intercept</th>\n",
       "      <th>model</th>\n",
       "      <th>params</th>\n",
       "    </tr>\n",
       "  </thead>\n",
       "  <tbody>\n",
       "    <tr>\n",
       "      <th>0</th>\n",
       "      <td>0.826042</td>\n",
       "      <td>5</td>\n",
       "      <td>l2</td>\n",
       "      <td>QuantileTransformer(copy=True,</td>\n",
       "      <td>1000</td>\n",
       "      <td>None</td>\n",
       "      <td>False</td>\n",
       "      <td>ColumnSelector(col=array([6,8,</td>\n",
       "      <td>0.99</td>\n",
       "      <td>2</td>\n",
       "      <td>True</td>\n",
       "      <td>Pipeline(memory=None,\\n     steps=[('union', F...</td>\n",
       "      <td>{'clf__penalty': 'l2', 'union__num_pipe__scale...</td>\n",
       "    </tr>\n",
       "  </tbody>\n",
       "</table>\n",
       "</div>"
      ],
      "text/plain": [
       "      score  count clf__penalty             ...num_pipe__scaler clf__max_iter  \\\n",
       "0  0.826042      5           l2  QuantileTransformer(copy=True,          1000   \n",
       "\n",
       "  clf__class_weight clf__dual                       ad_action clf__C  \\\n",
       "0              None     False  ColumnSelector(col=array([6,8,   0.99   \n",
       "\n",
       "  clf__intercept_scaling clf__fit_intercept  \\\n",
       "0                      2               True   \n",
       "\n",
       "                                               model  \\\n",
       "0  Pipeline(memory=None,\\n     steps=[('union', F...   \n",
       "\n",
       "                                              params  \n",
       "0  {'clf__penalty': 'l2', 'union__num_pipe__scale...  "
      ]
     },
     "execution_count": 519,
     "metadata": {},
     "output_type": "execute_result"
    }
   ],
   "source": [
    "lgc.best_df_"
   ]
  },
  {
   "cell_type": "code",
   "execution_count": 527,
   "metadata": {},
   "outputs": [
    {
     "data": {
      "text/plain": [
       "0.8282981500397231"
      ]
     },
     "execution_count": 527,
     "metadata": {},
     "output_type": "execute_result"
    },
    {
     "data": {
      "image/png": "[encoded data removed]",
      "text/plain": [
       "<matplotlib.figure.Figure at 0x7fceb7cd6860>"
      ]
     },
     "metadata": {},
     "output_type": "display_data"
    }
   ],
   "source": [
    "plot_learning_curves_cv(lgc.best_df_['model'].iloc[0],X_train_full,y_train_full_nm,accuracy_score,increments=28)\n",
    "cross_val_score(lgc.best_df_['model'].iloc[0],X_train_full,y_train_full,cv=10).mean()"
   ]
  },
  {
   "cell_type": "code",
   "execution_count": 528,
   "metadata": {},
   "outputs": [],
   "source": [
    "utils.save_pipeline(lgc.best_model_,'models/grid_search_results/best_lgc.pkl')"
   ]
  },
  {
   "cell_type": "markdown",
   "metadata": {},
   "source": [
    "## SVC_lin Tuning"
   ]
  },
  {
   "cell_type": "code",
   "execution_count": 15,
   "metadata": {},
   "outputs": [],
   "source": [
    "from sklearn.feature_selection import RFECV\n",
    "num_columns = ['Age','Fare','NumOfCabins','FamilySize','Parch','SibSp',]\n",
    "cat_columns = list(set(X_train_full.columns) - set(num_columns))\n",
    "\n",
    "\n",
    "svc_lin = tm.ModelTester(ColumnSelector([list(range(len(num_columns + cat_columns)))]),num_columns,cat_columns)\n",
    "clf = svc_lin._make_model_pipeline()"
   ]
  },
  {
   "cell_type": "code",
   "execution_count": 16,
   "metadata": {},
   "outputs": [],
   "source": [
    "num_pipe = Pipeline([\n",
    "            ('num_selector', DataFrameSelector(num_columns)),\n",
    "            ('scaler', StandardScaler()),\n",
    "])\n",
    "union = FeatureUnion([\n",
    "            ('num_pipe', num_pipe),\n",
    "            ('cat_selector', DataFrameSelector(cat_columns))\n",
    "])\n",
    "\n",
    "X_train_new = union.fit_transform(X_train_full)"
   ]
  },
  {
   "cell_type": "code",
   "execution_count": 17,
   "metadata": {},
   "outputs": [
    {
     "name": "stdout",
     "output_type": "stream",
     "text": [
      "Fitting 3 folds for each of 3 candidates, totalling 9 fits\n"
     ]
    },
    {
     "name": "stderr",
     "output_type": "stream",
     "text": [
      "[Parallel(n_jobs=-1)]: Done   4 out of   9 | elapsed: 12.1min remaining: 15.1min\n",
      "[Parallel(n_jobs=-1)]: Done   9 out of   9 | elapsed: 25.4min finished\n"
     ]
    },
    {
     "data": {
      "text/plain": [
       "GridSearchCV(cv=3, error_score='raise-deprecating',\n",
       "       estimator=RFECV(cv=5,\n",
       "   estimator=SVC(C=1.0, cache_size=200, class_weight=None, coef0=0.0,\n",
       "  decision_function_shape='ovr', degree=3, gamma='auto_deprecated',\n",
       "  kernel='rbf', max_iter=-1, probability=True, random_state=None,\n",
       "  shrinking=True, tol=0.001, verbose=False),\n",
       "   n_jobs=1, scoring='accuracy', step=1, verbose=0),\n",
       "       fit_params=None, iid='warn', n_jobs=-1,\n",
       "       param_grid={'estimator__class_weight': [None], 'estimator__degree': [2], 'estimator__C': [1, 0.9, 0.99], 'estimator__shrinking': [True], 'estimator__gamma': ['auto'], 'estimator__kernel': ['linear']},\n",
       "       pre_dispatch='2*n_jobs', refit=True, return_train_score='warn',\n",
       "       scoring=None, verbose=1)"
      ]
     },
     "execution_count": 17,
     "metadata": {},
     "output_type": "execute_result"
    }
   ],
   "source": [
    "params = {'estimator__kernel':['linear'],\n",
    "          'estimator__C':[1,0.9,0.99],\n",
    "          'estimator__degree':[2],\n",
    "          'estimator__gamma':['auto'],\n",
    "          'estimator__class_weight':[None],\n",
    "          'estimator__shrinking':[True]}\n",
    "\n",
    "\n",
    "\n",
    "clf = SVC(probability=True)\n",
    "estimator = RFECV(clf,scoring='accuracy',cv=5)\n",
    "grid_search = GridSearchCV(estimator,param_grid=params,cv=3,n_jobs=-1,verbose=1)\n",
    "grid_search.fit(X_train_full,y_train_full)"
   ]
  },
  {
   "cell_type": "code",
   "execution_count": 18,
   "metadata": {},
   "outputs": [
    {
     "data": {
      "text/plain": [
       "{'estimator__C': 0.9,\n",
       " 'estimator__class_weight': None,\n",
       " 'estimator__degree': 2,\n",
       " 'estimator__gamma': 'auto',\n",
       " 'estimator__kernel': 'linear',\n",
       " 'estimator__shrinking': True}"
      ]
     },
     "execution_count": 18,
     "metadata": {},
     "output_type": "execute_result"
    }
   ],
   "source": [
    "grid_search.best_params_"
   ]
  },
  {
   "cell_type": "code",
   "execution_count": 19,
   "metadata": {},
   "outputs": [],
   "source": [
    "selected_colums = np.array(range(39))[grid_search.best_estimator_.support_]"
   ]
  },
  {
   "cell_type": "code",
   "execution_count": 20,
   "metadata": {},
   "outputs": [
    {
     "data": {
      "text/plain": [
       "0.8282604131199637"
      ]
     },
     "execution_count": 20,
     "metadata": {},
     "output_type": "execute_result"
    }
   ],
   "source": [
    "cross_val_score(grid_search.best_estimator_.estimator_,X_train_new[:,grid_search.best_estimator_.support_],y_train_full_nm,scoring='accuracy',cv=StratifiedKFold(n_splits=10,random_state=4)).mean()"
   ]
  },
  {
   "cell_type": "code",
   "execution_count": 21,
   "metadata": {},
   "outputs": [],
   "source": [
    "num_columns = ['Age','Fare','NumOfCabins','FamilySize','Parch','SibSp',]\n",
    "cat_columns = list(set(X_train_full.columns) - set(num_columns))\n",
    "\n",
    "svc_lin = tm.ModelTester(SVC(probability=True),num_columns,cat_columns)\n"
   ]
  },
  {
   "cell_type": "code",
   "execution_count": 23,
   "metadata": {},
   "outputs": [],
   "source": [
    "svc_lin.add_additional_action(ColumnSelector(col=selected_colums),clear_previous=True)\n",
    "\n",
    "svc_lin.set_scalers([StandardScaler()])\n",
    "svc_lin.set_clf_params({'kernel':['linear'],\n",
    "                          'C':[0.9,0.99],\n",
    "                          'degree':[2],\n",
    "                          'gamma':['auto'],\n",
    "                          'class_weight':[None,'balanced'],\n",
    "                          'shrinking':[True,False]}\n",
    ")"
   ]
  },
  {
   "cell_type": "code",
   "execution_count": 24,
   "metadata": {},
   "outputs": [
    {
     "name": "stdout",
     "output_type": "stream",
     "text": [
      "Starting 5 repeats of grid search procedure\n",
      "Fitting 3 folds for each of 8 candidates, totalling 24 fits\n"
     ]
    },
    {
     "name": "stderr",
     "output_type": "stream",
     "text": [
      "[Parallel(n_jobs=-1)]: Done   9 out of  24 | elapsed:    0.4s remaining:    0.6s\n",
      "[Parallel(n_jobs=-1)]: Done  24 out of  24 | elapsed:    0.9s finished\n"
     ]
    },
    {
     "name": "stdout",
     "output_type": "stream",
     "text": [
      "Repeat 1 of 5 done\n",
      "Repeat 2 of 5 done\n",
      "Repeat 3 of 5 done\n",
      "Repeat 4 of 5 done\n",
      "Repeat 5 of 5 done\n"
     ]
    }
   ],
   "source": [
    "svc_lin.do_grid_search(X=X_train_full,y=y_train_full,repeats=5,scoring='accuracy',cv=3)"
   ]
  },
  {
   "cell_type": "code",
   "execution_count": 25,
   "metadata": {},
   "outputs": [
    {
     "data": {
      "text/html": [
       "<div>\n",
       "<style scoped>\n",
       "    .dataframe tbody tr th:only-of-type {\n",
       "        vertical-align: middle;\n",
       "    }\n",
       "\n",
       "    .dataframe tbody tr th {\n",
       "        vertical-align: top;\n",
       "    }\n",
       "\n",
       "    .dataframe thead th {\n",
       "        text-align: right;\n",
       "    }\n",
       "</style>\n",
       "<table border=\"1\" class=\"dataframe\">\n",
       "  <thead>\n",
       "    <tr style=\"text-align: right;\">\n",
       "      <th></th>\n",
       "      <th>score</th>\n",
       "      <th>count</th>\n",
       "      <th>ad_action</th>\n",
       "      <th>clf__degree</th>\n",
       "      <th>clf__C</th>\n",
       "      <th>clf__kernel</th>\n",
       "      <th>clf__gamma</th>\n",
       "      <th>clf__shrinking</th>\n",
       "      <th>clf__class_weight</th>\n",
       "      <th>...num_pipe__scaler</th>\n",
       "      <th>model</th>\n",
       "      <th>params</th>\n",
       "    </tr>\n",
       "  </thead>\n",
       "  <tbody>\n",
       "    <tr>\n",
       "      <th>0</th>\n",
       "      <td>0.823793</td>\n",
       "      <td>5</td>\n",
       "      <td>ColumnSelector(col=array([0,1,</td>\n",
       "      <td>2</td>\n",
       "      <td>0.9</td>\n",
       "      <td>linear</td>\n",
       "      <td>auto</td>\n",
       "      <td>True</td>\n",
       "      <td>None</td>\n",
       "      <td>StandardScaler(copy=True,with_</td>\n",
       "      <td>Pipeline(memory=None,\\n     steps=[('union', F...</td>\n",
       "      <td>{'clf__C': 0.9, 'clf__kernel': 'linear', 'clf_...</td>\n",
       "    </tr>\n",
       "  </tbody>\n",
       "</table>\n",
       "</div>"
      ],
      "text/plain": [
       "      score  count                       ad_action clf__degree clf__C  \\\n",
       "0  0.823793      5  ColumnSelector(col=array([0,1,           2    0.9   \n",
       "\n",
       "  clf__kernel clf__gamma clf__shrinking clf__class_weight  \\\n",
       "0      linear       auto           True              None   \n",
       "\n",
       "              ...num_pipe__scaler  \\\n",
       "0  StandardScaler(copy=True,with_   \n",
       "\n",
       "                                               model  \\\n",
       "0  Pipeline(memory=None,\\n     steps=[('union', F...   \n",
       "\n",
       "                                              params  \n",
       "0  {'clf__C': 0.9, 'clf__kernel': 'linear', 'clf_...  "
      ]
     },
     "execution_count": 25,
     "metadata": {},
     "output_type": "execute_result"
    }
   ],
   "source": [
    "svc_lin.best_df_"
   ]
  },
  {
   "cell_type": "code",
   "execution_count": 26,
   "metadata": {},
   "outputs": [
    {
     "data": {
      "text/plain": [
       "0.8237934904601572"
      ]
     },
     "execution_count": 26,
     "metadata": {},
     "output_type": "execute_result"
    }
   ],
   "source": [
    "cross_val_score(svc_lin.best_model_,X_train_full,y_train_full,scoring='accuracy').mean()"
   ]
  },
  {
   "cell_type": "code",
   "execution_count": 32,
   "metadata": {},
   "outputs": [
    {
     "data": {
      "image/png": "[encoded data removed]",
      "text/plain": [
       "<matplotlib.figure.Figure at 0x7efe05233710>"
      ]
     },
     "metadata": {},
     "output_type": "display_data"
    }
   ],
   "source": [
    "plot_learning_curves_cv(svc_lin.best_df_['model'].iloc[0],X_train_full,y_train_full_nm,accuracy_score,increments=15)"
   ]
  },
  {
   "cell_type": "code",
   "execution_count": 33,
   "metadata": {},
   "outputs": [],
   "source": [
    "utils.save_pipeline(svc_lin.best_model_,'models/grid_search_results/best_svc_lin.pkl')"
   ]
  },
  {
   "cell_type": "markdown",
   "metadata": {},
   "source": [
    "## SVC_rbf Tuning"
   ]
  },
  {
   "cell_type": "code",
   "execution_count": 39,
   "metadata": {},
   "outputs": [],
   "source": [
    "num_columns = ['Age','Fare','NumOfCabins','FamilySize','Parch','SibSp',]\n",
    "cat_columns = list(set(X_train_full.columns) - set(num_columns))\n",
    "\n",
    "svc_rbf = tm.ModelTester(SVC(probability=True),num_columns,cat_columns)\n"
   ]
  },
  {
   "cell_type": "code",
   "execution_count": 47,
   "metadata": {},
   "outputs": [],
   "source": [
    "svc_rbf.set_scalers([StandardScaler(),QuantileTransformer(output_distribution='normal')])\n",
    "svc_rbf.set_clf_params({'kernel':['rbf'],\n",
    "                          'C':[0.9,0.99,0.8,0.7,0.6,0.5],\n",
    "                          'degree':[2],\n",
    "                          'gamma':['auto'],\n",
    "                          'class_weight':[None,'balanced'],\n",
    "                          'shrinking':[True,False]}\n",
    ")"
   ]
  },
  {
   "cell_type": "code",
   "execution_count": 48,
   "metadata": {},
   "outputs": [
    {
     "name": "stdout",
     "output_type": "stream",
     "text": [
      "Starting 5 repeats of grid search procedure\n",
      "Fitting 3 folds for each of 48 candidates, totalling 144 fits\n"
     ]
    },
    {
     "name": "stderr",
     "output_type": "stream",
     "text": [
      "[Parallel(n_jobs=-1)]: Done  52 tasks      | elapsed:    1.2s\n",
      "[Parallel(n_jobs=-1)]: Done 144 out of 144 | elapsed:    3.1s finished\n"
     ]
    },
    {
     "name": "stdout",
     "output_type": "stream",
     "text": [
      "Repeat 1 of 5 done\n",
      "Repeat 2 of 5 done\n",
      "Repeat 3 of 5 done\n",
      "Repeat 4 of 5 done\n",
      "Repeat 5 of 5 done\n"
     ]
    }
   ],
   "source": [
    "svc_rbf.do_grid_search(X=X_train_full,y=y_train_full,repeats=5,scoring='accuracy',cv=3)"
   ]
  },
  {
   "cell_type": "code",
   "execution_count": 49,
   "metadata": {},
   "outputs": [
    {
     "data": {
      "text/html": [
       "<div>\n",
       "<style scoped>\n",
       "    .dataframe tbody tr th:only-of-type {\n",
       "        vertical-align: middle;\n",
       "    }\n",
       "\n",
       "    .dataframe tbody tr th {\n",
       "        vertical-align: top;\n",
       "    }\n",
       "\n",
       "    .dataframe thead th {\n",
       "        text-align: right;\n",
       "    }\n",
       "</style>\n",
       "<table border=\"1\" class=\"dataframe\">\n",
       "  <thead>\n",
       "    <tr style=\"text-align: right;\">\n",
       "      <th></th>\n",
       "      <th>score</th>\n",
       "      <th>count</th>\n",
       "      <th>ad_action</th>\n",
       "      <th>clf__degree</th>\n",
       "      <th>clf__C</th>\n",
       "      <th>clf__kernel</th>\n",
       "      <th>clf__gamma</th>\n",
       "      <th>clf__shrinking</th>\n",
       "      <th>clf__class_weight</th>\n",
       "      <th>...num_pipe__scaler</th>\n",
       "      <th>model</th>\n",
       "      <th>params</th>\n",
       "    </tr>\n",
       "  </thead>\n",
       "  <tbody>\n",
       "    <tr>\n",
       "      <th>0</th>\n",
       "      <td>0.833895</td>\n",
       "      <td>5</td>\n",
       "      <td>None</td>\n",
       "      <td>2</td>\n",
       "      <td>0.8</td>\n",
       "      <td>rbf</td>\n",
       "      <td>auto</td>\n",
       "      <td>True</td>\n",
       "      <td>None</td>\n",
       "      <td>StandardScaler(copy=True,with_</td>\n",
       "      <td>Pipeline(memory=None,\\n     steps=[('union', F...</td>\n",
       "      <td>{'clf__C': 0.8, 'clf__kernel': 'rbf', 'clf__ga...</td>\n",
       "    </tr>\n",
       "  </tbody>\n",
       "</table>\n",
       "</div>"
      ],
      "text/plain": [
       "      score  count ad_action clf__degree clf__C clf__kernel clf__gamma  \\\n",
       "0  0.833895      5      None           2    0.8         rbf       auto   \n",
       "\n",
       "  clf__shrinking clf__class_weight             ...num_pipe__scaler  \\\n",
       "0           True              None  StandardScaler(copy=True,with_   \n",
       "\n",
       "                                               model  \\\n",
       "0  Pipeline(memory=None,\\n     steps=[('union', F...   \n",
       "\n",
       "                                              params  \n",
       "0  {'clf__C': 0.8, 'clf__kernel': 'rbf', 'clf__ga...  "
      ]
     },
     "execution_count": 49,
     "metadata": {},
     "output_type": "execute_result"
    }
   ],
   "source": [
    "svc_rbf.best_df_"
   ]
  },
  {
   "cell_type": "code",
   "execution_count": 50,
   "metadata": {},
   "outputs": [
    {
     "data": {
      "text/plain": [
       "0.8338945005611672"
      ]
     },
     "execution_count": 50,
     "metadata": {},
     "output_type": "execute_result"
    }
   ],
   "source": [
    "cross_val_score(svc_rbf.best_model_,X_train_full,y_train_full,scoring='accuracy').mean()"
   ]
  },
  {
   "cell_type": "code",
   "execution_count": 64,
   "metadata": {},
   "outputs": [
    {
     "data": {
      "image/png": "[encoded data removed]",
      "text/plain": [
       "<matplotlib.figure.Figure at 0x7efe051a8b38>"
      ]
     },
     "metadata": {},
     "output_type": "display_data"
    }
   ],
   "source": [
    "plot_learning_curves_cv(svc_rbf.best_df_['model'].iloc[0],X_train_full,y_train_full_nm,accuracy_score,increments=28)"
   ]
  },
  {
   "cell_type": "code",
   "execution_count": 65,
   "metadata": {},
   "outputs": [],
   "source": [
    "utils.save_pipeline(svc_rbf.best_model_,'models/grid_search_results/best_svc_rbf.pkl')"
   ]
  },
  {
   "cell_type": "markdown",
   "metadata": {},
   "source": [
    "## SVC_poly Tuning"
   ]
  },
  {
   "cell_type": "code",
   "execution_count": 66,
   "metadata": {},
   "outputs": [],
   "source": [
    "num_columns = ['Age','Fare','NumOfCabins','FamilySize','Parch','SibSp',]\n",
    "cat_columns = list(set(X_train_full.columns) - set(num_columns))\n",
    "\n",
    "svc_poly = tm.ModelTester(SVC(probability=True),num_columns,cat_columns)\n"
   ]
  },
  {
   "cell_type": "code",
   "execution_count": 68,
   "metadata": {},
   "outputs": [],
   "source": [
    "svc_poly.set_scalers([StandardScaler(),QuantileTransformer(output_distribution='normal')])\n",
    "svc_poly.set_clf_params({'kernel':['poly'],\n",
    "                          'C':[0.9,0.99,0.8,0.7,0.6,0.5],\n",
    "                          'degree':[2,3],\n",
    "                          'gamma':['auto'],\n",
    "                          'class_weight':[None,'balanced'],\n",
    "                          'shrinking':[True,False]}\n",
    ")"
   ]
  },
  {
   "cell_type": "code",
   "execution_count": 69,
   "metadata": {},
   "outputs": [
    {
     "name": "stdout",
     "output_type": "stream",
     "text": [
      "Starting 5 repeats of grid search procedure\n",
      "Fitting 3 folds for each of 96 candidates, totalling 288 fits\n"
     ]
    },
    {
     "name": "stderr",
     "output_type": "stream",
     "text": [
      "[Parallel(n_jobs=-1)]: Done  52 tasks      | elapsed:    1.1s\n",
      "[Parallel(n_jobs=-1)]: Done 288 out of 288 | elapsed:    5.3s finished\n"
     ]
    },
    {
     "name": "stdout",
     "output_type": "stream",
     "text": [
      "Repeat 1 of 5 done\n",
      "Repeat 2 of 5 done\n",
      "Repeat 3 of 5 done\n",
      "Repeat 4 of 5 done\n",
      "Repeat 5 of 5 done\n"
     ]
    }
   ],
   "source": [
    "svc_poly.do_grid_search(X=X_train_full,y=y_train_full,repeats=5,scoring='accuracy',cv=3)"
   ]
  },
  {
   "cell_type": "code",
   "execution_count": 71,
   "metadata": {},
   "outputs": [
    {
     "data": {
      "text/html": [
       "<div>\n",
       "<style scoped>\n",
       "    .dataframe tbody tr th:only-of-type {\n",
       "        vertical-align: middle;\n",
       "    }\n",
       "\n",
       "    .dataframe tbody tr th {\n",
       "        vertical-align: top;\n",
       "    }\n",
       "\n",
       "    .dataframe thead th {\n",
       "        text-align: right;\n",
       "    }\n",
       "</style>\n",
       "<table border=\"1\" class=\"dataframe\">\n",
       "  <thead>\n",
       "    <tr style=\"text-align: right;\">\n",
       "      <th></th>\n",
       "      <th>score</th>\n",
       "      <th>count</th>\n",
       "      <th>ad_action</th>\n",
       "      <th>clf__degree</th>\n",
       "      <th>clf__C</th>\n",
       "      <th>clf__kernel</th>\n",
       "      <th>clf__gamma</th>\n",
       "      <th>clf__shrinking</th>\n",
       "      <th>clf__class_weight</th>\n",
       "      <th>...num_pipe__scaler</th>\n",
       "      <th>model</th>\n",
       "      <th>params</th>\n",
       "    </tr>\n",
       "  </thead>\n",
       "  <tbody>\n",
       "    <tr>\n",
       "      <th>0</th>\n",
       "      <td>0.828283</td>\n",
       "      <td>5</td>\n",
       "      <td>None</td>\n",
       "      <td>2</td>\n",
       "      <td>0.99</td>\n",
       "      <td>poly</td>\n",
       "      <td>auto</td>\n",
       "      <td>True</td>\n",
       "      <td>None</td>\n",
       "      <td>StandardScaler(copy=True,with_</td>\n",
       "      <td>Pipeline(memory=None,\\n     steps=[('union', F...</td>\n",
       "      <td>{'clf__C': 0.99, 'clf__kernel': 'poly', 'clf__...</td>\n",
       "    </tr>\n",
       "  </tbody>\n",
       "</table>\n",
       "</div>"
      ],
      "text/plain": [
       "      score  count ad_action clf__degree clf__C clf__kernel clf__gamma  \\\n",
       "0  0.828283      5      None           2   0.99        poly       auto   \n",
       "\n",
       "  clf__shrinking clf__class_weight             ...num_pipe__scaler  \\\n",
       "0           True              None  StandardScaler(copy=True,with_   \n",
       "\n",
       "                                               model  \\\n",
       "0  Pipeline(memory=None,\\n     steps=[('union', F...   \n",
       "\n",
       "                                              params  \n",
       "0  {'clf__C': 0.99, 'clf__kernel': 'poly', 'clf__...  "
      ]
     },
     "execution_count": 71,
     "metadata": {},
     "output_type": "execute_result"
    }
   ],
   "source": [
    "svc_poly.best_df_"
   ]
  },
  {
   "cell_type": "code",
   "execution_count": 72,
   "metadata": {},
   "outputs": [
    {
     "data": {
      "text/plain": [
       "0.8282828282828283"
      ]
     },
     "execution_count": 72,
     "metadata": {},
     "output_type": "execute_result"
    }
   ],
   "source": [
    "cross_val_score(svc_poly.best_model_,X_train_full,y_train_full,scoring='accuracy').mean()"
   ]
  },
  {
   "cell_type": "code",
   "execution_count": 73,
   "metadata": {},
   "outputs": [
    {
     "data": {
      "image/png": "[encoded data removed]",
      "text/plain": [
       "<matplotlib.figure.Figure at 0x7efe0514aef0>"
      ]
     },
     "metadata": {},
     "output_type": "display_data"
    }
   ],
   "source": [
    "plot_learning_curves_cv(svc_poly.best_df_['model'].iloc[0],X_train_full,y_train_full_nm,accuracy_score,increments=28)"
   ]
  },
  {
   "cell_type": "code",
   "execution_count": 74,
   "metadata": {},
   "outputs": [],
   "source": [
    "utils.save_pipeline(svc_rbf.best_model_,'models/grid_search_results/best_svc_poly.pkl')"
   ]
  },
  {
   "cell_type": "markdown",
   "metadata": {},
   "source": [
    "## MLPClassifier Tuning"
   ]
  },
  {
   "cell_type": "code",
   "execution_count": 118,
   "metadata": {},
   "outputs": [],
   "source": [
    "num_columns = ['Age','Fare','NumOfCabins','FamilySize','Parch','SibSp',]\n",
    "cat_columns = list(set(X_train_full.columns) - set(num_columns))\n",
    "\n",
    "mlp = tm.ModelTester(MLPClassifier(solver='lbfgs',max_iter=1000),num_columns,cat_columns)\n"
   ]
  },
  {
   "cell_type": "code",
   "execution_count": 119,
   "metadata": {},
   "outputs": [],
   "source": [
    "mlp.add_additional_action(PCA(n_components=0.95))\n",
    "mlp.set_scalers([QuantileTransformer(output_distribution='normal')])\n",
    "mlp.set_clf_params({'alpha':[0.1,],\n",
    "                    'hidden_layer_sizes':[(39,20,10),(39,20,10,5,),(30,15,5),]})"
   ]
  },
  {
   "cell_type": "code",
   "execution_count": 130,
   "metadata": {},
   "outputs": [
    {
     "name": "stdout",
     "output_type": "stream",
     "text": [
      "Starting 3 repeats of grid search procedure\n",
      "Fitting 2 folds for each of 6 candidates, totalling 12 fits\n"
     ]
    },
    {
     "name": "stderr",
     "output_type": "stream",
     "text": [
      "[Parallel(n_jobs=-1)]: Done  10 out of  12 | elapsed:   13.2s remaining:    2.6s\n",
      "[Parallel(n_jobs=-1)]: Done  12 out of  12 | elapsed:   13.8s finished\n"
     ]
    },
    {
     "name": "stdout",
     "output_type": "stream",
     "text": [
      "Repeat 1 of 3 done\n",
      "Repeat 2 of 3 done\n",
      "Repeat 3 of 3 done\n"
     ]
    }
   ],
   "source": [
    "mlp.do_grid_search(X=X_train_full,y=y_train_full,repeats=3,scoring='accuracy',cv=2)"
   ]
  },
  {
   "cell_type": "code",
   "execution_count": 131,
   "metadata": {},
   "outputs": [
    {
     "data": {
      "text/html": [
       "<div>\n",
       "<style scoped>\n",
       "    .dataframe tbody tr th:only-of-type {\n",
       "        vertical-align: middle;\n",
       "    }\n",
       "\n",
       "    .dataframe tbody tr th {\n",
       "        vertical-align: top;\n",
       "    }\n",
       "\n",
       "    .dataframe thead th {\n",
       "        text-align: right;\n",
       "    }\n",
       "</style>\n",
       "<table border=\"1\" class=\"dataframe\">\n",
       "  <thead>\n",
       "    <tr style=\"text-align: right;\">\n",
       "      <th></th>\n",
       "      <th>score</th>\n",
       "      <th>count</th>\n",
       "      <th>clf__hidden_layer_sizes</th>\n",
       "      <th>...num_pipe__scaler</th>\n",
       "      <th>clf__alpha</th>\n",
       "      <th>ad_action</th>\n",
       "      <th>model</th>\n",
       "      <th>params</th>\n",
       "    </tr>\n",
       "  </thead>\n",
       "  <tbody>\n",
       "    <tr>\n",
       "      <th>0</th>\n",
       "      <td>0.803605</td>\n",
       "      <td>1</td>\n",
       "      <td>(30,15,5)</td>\n",
       "      <td>QuantileTransformer(copy=True,</td>\n",
       "      <td>0.1</td>\n",
       "      <td>None</td>\n",
       "      <td>Pipeline(memory=None,\\n     steps=[('union', F...</td>\n",
       "      <td>{'clf__hidden_layer_sizes': (30, 15, 5), 'unio...</td>\n",
       "    </tr>\n",
       "    <tr>\n",
       "      <th>1</th>\n",
       "      <td>0.775561</td>\n",
       "      <td>1</td>\n",
       "      <td>(30,15,5)</td>\n",
       "      <td>QuantileTransformer(copy=True,</td>\n",
       "      <td>0.1</td>\n",
       "      <td>PCA(copy=True,iterated_power='</td>\n",
       "      <td>Pipeline(memory=None,\\n     steps=[('union', F...</td>\n",
       "      <td>{'clf__hidden_layer_sizes': (30, 15, 5), 'unio...</td>\n",
       "    </tr>\n",
       "    <tr>\n",
       "      <th>2</th>\n",
       "      <td>0.771071</td>\n",
       "      <td>1</td>\n",
       "      <td>(39,20,10,5)</td>\n",
       "      <td>QuantileTransformer(copy=True,</td>\n",
       "      <td>0.1</td>\n",
       "      <td>PCA(copy=True,iterated_power='</td>\n",
       "      <td>Pipeline(memory=None,\\n     steps=[('union', F...</td>\n",
       "      <td>{'clf__hidden_layer_sizes': (39, 20, 10, 5), '...</td>\n",
       "    </tr>\n",
       "  </tbody>\n",
       "</table>\n",
       "</div>"
      ],
      "text/plain": [
       "      score  count clf__hidden_layer_sizes             ...num_pipe__scaler  \\\n",
       "0  0.803605      1               (30,15,5)  QuantileTransformer(copy=True,   \n",
       "1  0.775561      1               (30,15,5)  QuantileTransformer(copy=True,   \n",
       "2  0.771071      1            (39,20,10,5)  QuantileTransformer(copy=True,   \n",
       "\n",
       "  clf__alpha                       ad_action  \\\n",
       "0        0.1                            None   \n",
       "1        0.1  PCA(copy=True,iterated_power='   \n",
       "2        0.1  PCA(copy=True,iterated_power='   \n",
       "\n",
       "                                               model  \\\n",
       "0  Pipeline(memory=None,\\n     steps=[('union', F...   \n",
       "1  Pipeline(memory=None,\\n     steps=[('union', F...   \n",
       "2  Pipeline(memory=None,\\n     steps=[('union', F...   \n",
       "\n",
       "                                              params  \n",
       "0  {'clf__hidden_layer_sizes': (30, 15, 5), 'unio...  \n",
       "1  {'clf__hidden_layer_sizes': (30, 15, 5), 'unio...  \n",
       "2  {'clf__hidden_layer_sizes': (39, 20, 10, 5), '...  "
      ]
     },
     "execution_count": 131,
     "metadata": {},
     "output_type": "execute_result"
    }
   ],
   "source": [
    "mlp.best_df_"
   ]
  },
  {
   "cell_type": "code",
   "execution_count": 132,
   "metadata": {},
   "outputs": [
    {
     "data": {
      "text/plain": [
       "0.7901234567901234"
      ]
     },
     "execution_count": 132,
     "metadata": {},
     "output_type": "execute_result"
    }
   ],
   "source": [
    "cross_val_score(mlp.best_model_,X_train_full,y_train_full,scoring='accuracy').mean()"
   ]
  },
  {
   "cell_type": "code",
   "execution_count": 133,
   "metadata": {},
   "outputs": [
    {
     "data": {
      "image/png": "[encoded data removed]",
      "text/plain": [
       "<matplotlib.figure.Figure at 0x7efe1473a588>"
      ]
     },
     "metadata": {},
     "output_type": "display_data"
    }
   ],
   "source": [
    "plot_learning_curves_cv(mlp.best_df_['model'].iloc[0],X_train_full,y_train_full_nm,accuracy_score,increments=5)"
   ]
  },
  {
   "cell_type": "code",
   "execution_count": 134,
   "metadata": {},
   "outputs": [],
   "source": [
    "utils.save_pipeline(mlp.best_model_,'models/grid_search_results/best_mlp.pkl')"
   ]
  },
  {
   "cell_type": "markdown",
   "metadata": {},
   "source": [
    "## KNeighborsClassifier Tuning"
   ]
  },
  {
   "cell_type": "code",
   "execution_count": 123,
   "metadata": {},
   "outputs": [],
   "source": [
    "num_columns = ['Age','Fare','NumOfCabins','FamilySize','Parch','SibSp',]\n",
    "cat_columns = list(set(X_train_full.columns) - set(num_columns))\n",
    "\n",
    "knn = tm.ModelTester(KNeighborsClassifier(),num_columns,cat_columns)\n"
   ]
  },
  {
   "cell_type": "code",
   "execution_count": 124,
   "metadata": {},
   "outputs": [],
   "source": [
    "knn.add_additional_action(PCA(n_components=0.95))\n",
    "knn.set_scalers([StandardScaler()])\n",
    "knn.set_clf_params({'n_neighbors':[5,12,13,14,15,16],\n",
    "                    'weights':['uniform',],\n",
    "                    'leaf_size':[10,12,15,17,20]})"
   ]
  },
  {
   "cell_type": "code",
   "execution_count": 125,
   "metadata": {},
   "outputs": [
    {
     "name": "stdout",
     "output_type": "stream",
     "text": [
      "Starting 5 repeats of grid search procedure\n",
      "Fitting 5 folds for each of 60 candidates, totalling 300 fits\n"
     ]
    },
    {
     "name": "stderr",
     "output_type": "stream",
     "text": [
      "[Parallel(n_jobs=-1)]: Done  88 tasks      | elapsed:    0.9s\n"
     ]
    },
    {
     "name": "stdout",
     "output_type": "stream",
     "text": [
      "Repeat 1 of 5 done\n"
     ]
    },
    {
     "name": "stderr",
     "output_type": "stream",
     "text": [
      "[Parallel(n_jobs=-1)]: Done 300 out of 300 | elapsed:    5.0s finished\n"
     ]
    },
    {
     "name": "stdout",
     "output_type": "stream",
     "text": [
      "Repeat 2 of 5 done\n",
      "Repeat 3 of 5 done\n",
      "Repeat 4 of 5 done\n",
      "Repeat 5 of 5 done\n"
     ]
    }
   ],
   "source": [
    "knn.do_grid_search(X=X_train_full,y=y_train_full,repeats=5,scoring='accuracy',cv=5)"
   ]
  },
  {
   "cell_type": "code",
   "execution_count": 128,
   "metadata": {},
   "outputs": [
    {
     "data": {
      "text/html": [
       "<div>\n",
       "<style scoped>\n",
       "    .dataframe tbody tr th:only-of-type {\n",
       "        vertical-align: middle;\n",
       "    }\n",
       "\n",
       "    .dataframe tbody tr th {\n",
       "        vertical-align: top;\n",
       "    }\n",
       "\n",
       "    .dataframe thead th {\n",
       "        text-align: right;\n",
       "    }\n",
       "</style>\n",
       "<table border=\"1\" class=\"dataframe\">\n",
       "  <thead>\n",
       "    <tr style=\"text-align: right;\">\n",
       "      <th></th>\n",
       "      <th>score</th>\n",
       "      <th>count</th>\n",
       "      <th>clf__n_neighbors</th>\n",
       "      <th>ad_action</th>\n",
       "      <th>clf__weights</th>\n",
       "      <th>clf__leaf_size</th>\n",
       "      <th>...num_pipe__scaler</th>\n",
       "      <th>model</th>\n",
       "      <th>params</th>\n",
       "    </tr>\n",
       "  </thead>\n",
       "  <tbody>\n",
       "    <tr>\n",
       "      <th>0</th>\n",
       "      <td>0.811466</td>\n",
       "      <td>5</td>\n",
       "      <td>15</td>\n",
       "      <td>PCA(copy=True,iterated_power='</td>\n",
       "      <td>uniform</td>\n",
       "      <td>10</td>\n",
       "      <td>StandardScaler(copy=True,with_</td>\n",
       "      <td>Pipeline(memory=None,\\n     steps=[('union', F...</td>\n",
       "      <td>{'clf__n_neighbors': 15, 'ad_action': PCA(copy...</td>\n",
       "    </tr>\n",
       "  </tbody>\n",
       "</table>\n",
       "</div>"
      ],
      "text/plain": [
       "      score  count clf__n_neighbors                       ad_action  \\\n",
       "0  0.811466      5               15  PCA(copy=True,iterated_power='   \n",
       "\n",
       "  clf__weights clf__leaf_size             ...num_pipe__scaler  \\\n",
       "0      uniform             10  StandardScaler(copy=True,with_   \n",
       "\n",
       "                                               model  \\\n",
       "0  Pipeline(memory=None,\\n     steps=[('union', F...   \n",
       "\n",
       "                                              params  \n",
       "0  {'clf__n_neighbors': 15, 'ad_action': PCA(copy...  "
      ]
     },
     "execution_count": 128,
     "metadata": {},
     "output_type": "execute_result"
    }
   ],
   "source": [
    "knn.best_df_"
   ]
  },
  {
   "cell_type": "code",
   "execution_count": 129,
   "metadata": {},
   "outputs": [
    {
     "data": {
      "text/plain": [
       "0.8181818181818182"
      ]
     },
     "execution_count": 129,
     "metadata": {},
     "output_type": "execute_result"
    }
   ],
   "source": [
    "cross_val_score(knn.best_model_,X_train_full,y_train_full,scoring='accuracy').mean()"
   ]
  },
  {
   "cell_type": "code",
   "execution_count": 130,
   "metadata": {},
   "outputs": [
    {
     "data": {
      "image/png": "[encoded data removed]",
      "text/plain": [
       "<matplotlib.figure.Figure at 0x7ff7e07ea278>"
      ]
     },
     "metadata": {},
     "output_type": "display_data"
    }
   ],
   "source": [
    "plot_learning_curves_cv(knn.best_df_['model'].iloc[0],X_train_full,y_train_full_nm,accuracy_score,cv=10,increments=20)"
   ]
  },
  {
   "cell_type": "code",
   "execution_count": 215,
   "metadata": {},
   "outputs": [],
   "source": [
    "utils.save_pipeline(knn.best_model_,'models/grid_search_results/best_knn.pkl')"
   ]
  },
  {
   "cell_type": "markdown",
   "metadata": {},
   "source": [
    "## Voting Classifier"
   ]
  },
  {
   "cell_type": "code",
   "execution_count": 21,
   "metadata": {},
   "outputs": [],
   "source": [
    "from itertools import combinations\n",
    "from sklearn.ensemble import VotingClassifier\n",
    "import os\n",
    "from scipy.special import binom\n",
    "import datetime"
   ]
  },
  {
   "cell_type": "code",
   "execution_count": 88,
   "metadata": {},
   "outputs": [],
   "source": [
    "all_models_path = os.listdir(os.path.join(utils.get_project_dir(),'models/grid_search_results'))\n",
    "all_models = [(mod_path.split('.')[0],utils.load_pipeline(path.join('models/grid_search_results',mod_path))) for mod_path in all_models_path]"
   ]
  },
  {
   "cell_type": "code",
   "execution_count": 89,
   "metadata": {},
   "outputs": [],
   "source": [
    "all_models_dict = dict(all_models)"
   ]
  },
  {
   "cell_type": "code",
   "execution_count": 90,
   "metadata": {},
   "outputs": [
    {
     "data": {
      "text/html": [
       "<div>\n",
       "<style scoped>\n",
       "    .dataframe tbody tr th:only-of-type {\n",
       "        vertical-align: middle;\n",
       "    }\n",
       "\n",
       "    .dataframe tbody tr th {\n",
       "        vertical-align: top;\n",
       "    }\n",
       "\n",
       "    .dataframe thead th {\n",
       "        text-align: right;\n",
       "    }\n",
       "</style>\n",
       "<table border=\"1\" class=\"dataframe\">\n",
       "  <thead>\n",
       "    <tr style=\"text-align: right;\">\n",
       "      <th></th>\n",
       "      <th>Model</th>\n",
       "      <th>Average CVS</th>\n",
       "      <th>All CVS</th>\n",
       "    </tr>\n",
       "  </thead>\n",
       "  <tbody>\n",
       "    <tr>\n",
       "      <th>4</th>\n",
       "      <td>best_gbc</td>\n",
       "      <td>0.833891</td>\n",
       "      <td>[0.8222222222222222, 0.8333333333333334, 0.775...</td>\n",
       "    </tr>\n",
       "    <tr>\n",
       "      <th>5</th>\n",
       "      <td>best_gbc_sel</td>\n",
       "      <td>0.832793</td>\n",
       "      <td>[0.8111111111111111, 0.8444444444444444, 0.775...</td>\n",
       "    </tr>\n",
       "    <tr>\n",
       "      <th>0</th>\n",
       "      <td>best_svc_rbf</td>\n",
       "      <td>0.832780</td>\n",
       "      <td>[0.8222222222222222, 0.8555555555555555, 0.786...</td>\n",
       "    </tr>\n",
       "    <tr>\n",
       "      <th>1</th>\n",
       "      <td>best_svc_poly</td>\n",
       "      <td>0.832780</td>\n",
       "      <td>[0.8222222222222222, 0.8555555555555555, 0.786...</td>\n",
       "    </tr>\n",
       "    <tr>\n",
       "      <th>6</th>\n",
       "      <td>best_rf</td>\n",
       "      <td>0.832768</td>\n",
       "      <td>[0.8333333333333334, 0.8555555555555555, 0.775...</td>\n",
       "    </tr>\n",
       "    <tr>\n",
       "      <th>3</th>\n",
       "      <td>best_rf_sel</td>\n",
       "      <td>0.832755</td>\n",
       "      <td>[0.8333333333333334, 0.8555555555555555, 0.775...</td>\n",
       "    </tr>\n",
       "    <tr>\n",
       "      <th>7</th>\n",
       "      <td>best_lgc</td>\n",
       "      <td>0.828298</td>\n",
       "      <td>[0.8222222222222222, 0.8333333333333334, 0.775...</td>\n",
       "    </tr>\n",
       "    <tr>\n",
       "      <th>8</th>\n",
       "      <td>best_svc_lin</td>\n",
       "      <td>0.828260</td>\n",
       "      <td>[0.8, 0.8777777777777778, 0.7865168539325843, ...</td>\n",
       "    </tr>\n",
       "    <tr>\n",
       "      <th>2</th>\n",
       "      <td>best_dtc</td>\n",
       "      <td>0.810371</td>\n",
       "      <td>[0.8222222222222222, 0.7888888888888889, 0.786...</td>\n",
       "    </tr>\n",
       "  </tbody>\n",
       "</table>\n",
       "</div>"
      ],
      "text/plain": [
       "           Model  Average CVS  \\\n",
       "4       best_gbc     0.833891   \n",
       "5   best_gbc_sel     0.832793   \n",
       "0   best_svc_rbf     0.832780   \n",
       "1  best_svc_poly     0.832780   \n",
       "6        best_rf     0.832768   \n",
       "3    best_rf_sel     0.832755   \n",
       "7       best_lgc     0.828298   \n",
       "8   best_svc_lin     0.828260   \n",
       "2       best_dtc     0.810371   \n",
       "\n",
       "                                             All CVS  \n",
       "4  [0.8222222222222222, 0.8333333333333334, 0.775...  \n",
       "5  [0.8111111111111111, 0.8444444444444444, 0.775...  \n",
       "0  [0.8222222222222222, 0.8555555555555555, 0.786...  \n",
       "1  [0.8222222222222222, 0.8555555555555555, 0.786...  \n",
       "6  [0.8333333333333334, 0.8555555555555555, 0.775...  \n",
       "3  [0.8333333333333334, 0.8555555555555555, 0.775...  \n",
       "7  [0.8222222222222222, 0.8333333333333334, 0.775...  \n",
       "8  [0.8, 0.8777777777777778, 0.7865168539325843, ...  \n",
       "2  [0.8222222222222222, 0.7888888888888889, 0.786...  "
      ]
     },
     "execution_count": 90,
     "metadata": {},
     "output_type": "execute_result"
    }
   ],
   "source": [
    "results = []\n",
    "cols = ['Model', 'Average CVS', 'All CVS']\n",
    "for mn, model in estimators:\n",
    "    result = [mn]\n",
    "    cvs = cross_val_score(model,X_train_full,y_train_full,cv=10,scoring='accuracy',n_jobs=-1)\n",
    "    cvs_ave = np.mean(cvs)\n",
    "    result.append(cvs_ave)\n",
    "    result.append(cvs)\n",
    "    results.append(result)\n",
    "results = pd.DataFrame(results,columns=cols)\n",
    "results.sort_values(by='Average CVS',ascending=False)"
   ]
  },
  {
   "cell_type": "code",
   "execution_count": 91,
   "metadata": {},
   "outputs": [],
   "source": [
    "best_models = results.sort_values(by='Average CVS',ascending=False).iloc[:9]['Model']\n",
    "estimators = [(model,all_models_dict[model]) for model in best_models]\n",
    "estimator_dict = dict(estimators)"
   ]
  },
  {
   "cell_type": "markdown",
   "metadata": {},
   "source": [
    "### Hard Voter"
   ]
  },
  {
   "cell_type": "code",
   "execution_count": 46,
   "metadata": {},
   "outputs": [
    {
     "name": "stdout",
     "output_type": "stream",
     "text": [
      "Starting search for best estimator combination for voting.\n",
      "Num of estimators : 9\n",
      "Num of combinations : 502.0\n",
      "10 % complete; 0:03:17.559650 elapsed \n",
      "20 % complete; 0:05:57.838706 elapsed \n",
      "30 % complete; 0:08:19.271681 elapsed \n",
      "40 % complete; 0:10:44.149616 elapsed \n",
      "50 % complete; 0:13:01.365320 elapsed \n",
      "60 % complete; 0:15:06.324671 elapsed \n",
      "70 % complete; 0:16:51.814273 elapsed \n",
      "80 % complete; 0:18:16.531371 elapsed \n",
      "90 % complete; 0:19:31.103719 elapsed \n",
      "100 % complete; 0:20:31.030177 elapsed \n",
      "Best score: 0.8373029948715984\n"
     ]
    }
   ],
   "source": [
    "best_hard_score, best_hard_voter, hard_combo_score_std = find_best_voter(estimators,X_train_full,y_train_full,calc_diff=True)"
   ]
  },
  {
   "cell_type": "code",
   "execution_count": 62,
   "metadata": {},
   "outputs": [
    {
     "data": {
      "text/html": [
       "<div>\n",
       "<style scoped>\n",
       "    .dataframe tbody tr th:only-of-type {\n",
       "        vertical-align: middle;\n",
       "    }\n",
       "\n",
       "    .dataframe tbody tr th {\n",
       "        vertical-align: top;\n",
       "    }\n",
       "\n",
       "    .dataframe thead th {\n",
       "        text-align: right;\n",
       "    }\n",
       "</style>\n",
       "<table border=\"1\" class=\"dataframe\">\n",
       "  <thead>\n",
       "    <tr style=\"text-align: right;\">\n",
       "      <th></th>\n",
       "      <th>estimator</th>\n",
       "      <th>score</th>\n",
       "      <th>stdev</th>\n",
       "      <th>diff</th>\n",
       "      <th>lowest</th>\n",
       "      <th>highest</th>\n",
       "    </tr>\n",
       "  </thead>\n",
       "  <tbody>\n",
       "    <tr>\n",
       "      <th>210</th>\n",
       "      <td>['best_svc_poly','best_svc_lin']</td>\n",
       "      <td>0.833907</td>\n",
       "      <td>0.019546</td>\n",
       "      <td>0.000550</td>\n",
       "      <td>0.814</td>\n",
       "      <td>0.853</td>\n",
       "    </tr>\n",
       "    <tr>\n",
       "      <th>481</th>\n",
       "      <td>['best_svc_rbf','best_svc_lin']</td>\n",
       "      <td>0.833907</td>\n",
       "      <td>0.019546</td>\n",
       "      <td>0.000550</td>\n",
       "      <td>0.814</td>\n",
       "      <td>0.853</td>\n",
       "    </tr>\n",
       "    <tr>\n",
       "      <th>294</th>\n",
       "      <td>['best_svc_rbf','best_svc_poly','best_dtc','be...</td>\n",
       "      <td>0.831672</td>\n",
       "      <td>0.023163</td>\n",
       "      <td>0.000819</td>\n",
       "      <td>0.809</td>\n",
       "      <td>0.855</td>\n",
       "    </tr>\n",
       "    <tr>\n",
       "      <th>380</th>\n",
       "      <td>['best_svc_rbf','best_svc_poly','best_rf_sel',...</td>\n",
       "      <td>0.833907</td>\n",
       "      <td>0.019546</td>\n",
       "      <td>0.000830</td>\n",
       "      <td>0.814</td>\n",
       "      <td>0.853</td>\n",
       "    </tr>\n",
       "    <tr>\n",
       "      <th>491</th>\n",
       "      <td>['best_svc_rbf','best_svc_poly','best_rf','bes...</td>\n",
       "      <td>0.832783</td>\n",
       "      <td>0.021050</td>\n",
       "      <td>0.000830</td>\n",
       "      <td>0.812</td>\n",
       "      <td>0.854</td>\n",
       "    </tr>\n",
       "    <tr>\n",
       "      <th>223</th>\n",
       "      <td>['best_svc_rbf','best_svc_poly','best_gbc_sel'...</td>\n",
       "      <td>0.832790</td>\n",
       "      <td>0.018452</td>\n",
       "      <td>0.001098</td>\n",
       "      <td>0.814</td>\n",
       "      <td>0.851</td>\n",
       "    </tr>\n",
       "    <tr>\n",
       "      <th>49</th>\n",
       "      <td>['best_svc_rbf','best_svc_poly','best_gbc','be...</td>\n",
       "      <td>0.833920</td>\n",
       "      <td>0.020107</td>\n",
       "      <td>0.001379</td>\n",
       "      <td>0.814</td>\n",
       "      <td>0.854</td>\n",
       "    </tr>\n",
       "    <tr>\n",
       "      <th>264</th>\n",
       "      <td>['best_svc_rbf','best_svc_poly','best_dtc','be...</td>\n",
       "      <td>0.833907</td>\n",
       "      <td>0.019546</td>\n",
       "      <td>0.001672</td>\n",
       "      <td>0.814</td>\n",
       "      <td>0.853</td>\n",
       "    </tr>\n",
       "    <tr>\n",
       "      <th>127</th>\n",
       "      <td>['best_svc_rbf','best_rf','best_svc_lin']</td>\n",
       "      <td>0.833907</td>\n",
       "      <td>0.019546</td>\n",
       "      <td>0.001672</td>\n",
       "      <td>0.814</td>\n",
       "      <td>0.853</td>\n",
       "    </tr>\n",
       "    <tr>\n",
       "      <th>28</th>\n",
       "      <td>['best_svc_rbf','best_svc_poly','best_lgc','be...</td>\n",
       "      <td>0.832790</td>\n",
       "      <td>0.018452</td>\n",
       "      <td>0.001948</td>\n",
       "      <td>0.814</td>\n",
       "      <td>0.851</td>\n",
       "    </tr>\n",
       "    <tr>\n",
       "      <th>199</th>\n",
       "      <td>['best_svc_rbf','best_svc_poly','best_dtc','be...</td>\n",
       "      <td>0.832783</td>\n",
       "      <td>0.021050</td>\n",
       "      <td>0.001953</td>\n",
       "      <td>0.812</td>\n",
       "      <td>0.854</td>\n",
       "    </tr>\n",
       "    <tr>\n",
       "      <th>134</th>\n",
       "      <td>['best_svc_rbf','best_svc_poly','best_dtc','be...</td>\n",
       "      <td>0.833913</td>\n",
       "      <td>0.022515</td>\n",
       "      <td>0.001954</td>\n",
       "      <td>0.811</td>\n",
       "      <td>0.856</td>\n",
       "    </tr>\n",
       "    <tr>\n",
       "      <th>392</th>\n",
       "      <td>['best_svc_rbf','best_svc_poly','best_dtc','be...</td>\n",
       "      <td>0.832783</td>\n",
       "      <td>0.021050</td>\n",
       "      <td>0.001954</td>\n",
       "      <td>0.812</td>\n",
       "      <td>0.854</td>\n",
       "    </tr>\n",
       "    <tr>\n",
       "      <th>439</th>\n",
       "      <td>['best_svc_rbf','best_rf','best_lgc','best_svc...</td>\n",
       "      <td>0.832783</td>\n",
       "      <td>0.021050</td>\n",
       "      <td>0.001955</td>\n",
       "      <td>0.812</td>\n",
       "      <td>0.854</td>\n",
       "    </tr>\n",
       "    <tr>\n",
       "      <th>403</th>\n",
       "      <td>['best_svc_poly','best_rf_sel','best_rf','best...</td>\n",
       "      <td>0.828264</td>\n",
       "      <td>0.017030</td>\n",
       "      <td>0.002242</td>\n",
       "      <td>0.811</td>\n",
       "      <td>0.845</td>\n",
       "    </tr>\n",
       "    <tr>\n",
       "      <th>287</th>\n",
       "      <td>['best_svc_rbf','best_svc_poly','best_dtc','be...</td>\n",
       "      <td>0.833920</td>\n",
       "      <td>0.020107</td>\n",
       "      <td>0.002502</td>\n",
       "      <td>0.814</td>\n",
       "      <td>0.854</td>\n",
       "    </tr>\n",
       "    <tr>\n",
       "      <th>30</th>\n",
       "      <td>['best_svc_rbf','best_svc_poly','best_rf','bes...</td>\n",
       "      <td>0.830542</td>\n",
       "      <td>0.021625</td>\n",
       "      <td>0.002511</td>\n",
       "      <td>0.809</td>\n",
       "      <td>0.852</td>\n",
       "    </tr>\n",
       "    <tr>\n",
       "      <th>24</th>\n",
       "      <td>['best_svc_rbf','best_svc_poly','best_rf_sel',...</td>\n",
       "      <td>0.833907</td>\n",
       "      <td>0.019546</td>\n",
       "      <td>0.002515</td>\n",
       "      <td>0.814</td>\n",
       "      <td>0.853</td>\n",
       "    </tr>\n",
       "    <tr>\n",
       "      <th>402</th>\n",
       "      <td>['best_svc_rbf','best_svc_poly','best_rf_sel',...</td>\n",
       "      <td>0.832783</td>\n",
       "      <td>0.021050</td>\n",
       "      <td>0.002515</td>\n",
       "      <td>0.812</td>\n",
       "      <td>0.854</td>\n",
       "    </tr>\n",
       "    <tr>\n",
       "      <th>12</th>\n",
       "      <td>['best_svc_poly','best_rf','best_svc_lin']</td>\n",
       "      <td>0.833907</td>\n",
       "      <td>0.019546</td>\n",
       "      <td>0.002515</td>\n",
       "      <td>0.814</td>\n",
       "      <td>0.853</td>\n",
       "    </tr>\n",
       "    <tr>\n",
       "      <th>356</th>\n",
       "      <td>['best_svc_rbf','best_rf_sel','best_lgc','best...</td>\n",
       "      <td>0.832783</td>\n",
       "      <td>0.021050</td>\n",
       "      <td>0.002516</td>\n",
       "      <td>0.812</td>\n",
       "      <td>0.854</td>\n",
       "    </tr>\n",
       "    <tr>\n",
       "      <th>344</th>\n",
       "      <td>['best_svc_rbf','best_svc_poly','best_dtc','be...</td>\n",
       "      <td>0.831666</td>\n",
       "      <td>0.021202</td>\n",
       "      <td>0.002789</td>\n",
       "      <td>0.810</td>\n",
       "      <td>0.853</td>\n",
       "    </tr>\n",
       "    <tr>\n",
       "      <th>452</th>\n",
       "      <td>['best_svc_rbf','best_gbc','best_rf','best_svc...</td>\n",
       "      <td>0.831666</td>\n",
       "      <td>0.019975</td>\n",
       "      <td>0.002789</td>\n",
       "      <td>0.812</td>\n",
       "      <td>0.852</td>\n",
       "    </tr>\n",
       "    <tr>\n",
       "      <th>1</th>\n",
       "      <td>['best_svc_rbf','best_svc_poly','best_gbc_sel'...</td>\n",
       "      <td>0.831666</td>\n",
       "      <td>0.019975</td>\n",
       "      <td>0.002789</td>\n",
       "      <td>0.812</td>\n",
       "      <td>0.852</td>\n",
       "    </tr>\n",
       "    <tr>\n",
       "      <th>96</th>\n",
       "      <td>['best_svc_rbf','best_svc_poly','best_rf_sel',...</td>\n",
       "      <td>0.831666</td>\n",
       "      <td>0.019975</td>\n",
       "      <td>0.002791</td>\n",
       "      <td>0.812</td>\n",
       "      <td>0.852</td>\n",
       "    </tr>\n",
       "    <tr>\n",
       "      <th>420</th>\n",
       "      <td>['best_svc_rbf','best_svc_poly','best_rf_sel',...</td>\n",
       "      <td>0.831666</td>\n",
       "      <td>0.019975</td>\n",
       "      <td>0.002791</td>\n",
       "      <td>0.812</td>\n",
       "      <td>0.852</td>\n",
       "    </tr>\n",
       "    <tr>\n",
       "      <th>169</th>\n",
       "      <td>['best_svc_rbf','best_svc_poly','best_dtc','be...</td>\n",
       "      <td>0.832796</td>\n",
       "      <td>0.021572</td>\n",
       "      <td>0.002794</td>\n",
       "      <td>0.811</td>\n",
       "      <td>0.854</td>\n",
       "    </tr>\n",
       "    <tr>\n",
       "      <th>27</th>\n",
       "      <td>['best_svc_rbf','best_svc_poly','best_dtc','be...</td>\n",
       "      <td>0.833920</td>\n",
       "      <td>0.022463</td>\n",
       "      <td>0.002795</td>\n",
       "      <td>0.811</td>\n",
       "      <td>0.856</td>\n",
       "    </tr>\n",
       "    <tr>\n",
       "      <th>389</th>\n",
       "      <td>['best_svc_rbf','best_rf_sel','best_svc_lin']</td>\n",
       "      <td>0.833907</td>\n",
       "      <td>0.019546</td>\n",
       "      <td>0.002796</td>\n",
       "      <td>0.814</td>\n",
       "      <td>0.853</td>\n",
       "    </tr>\n",
       "    <tr>\n",
       "      <th>442</th>\n",
       "      <td>['best_svc_poly','best_gbc','best_rf','best_sv...</td>\n",
       "      <td>0.832783</td>\n",
       "      <td>0.021050</td>\n",
       "      <td>0.002796</td>\n",
       "      <td>0.812</td>\n",
       "      <td>0.854</td>\n",
       "    </tr>\n",
       "    <tr>\n",
       "      <th>...</th>\n",
       "      <td>...</td>\n",
       "      <td>...</td>\n",
       "      <td>...</td>\n",
       "      <td>...</td>\n",
       "      <td>...</td>\n",
       "      <td>...</td>\n",
       "    </tr>\n",
       "    <tr>\n",
       "      <th>165</th>\n",
       "      <td>['best_rf_sel','best_gbc','best_gbc_sel','best...</td>\n",
       "      <td>0.833919</td>\n",
       "      <td>0.011214</td>\n",
       "      <td>0.018505</td>\n",
       "      <td>0.823</td>\n",
       "      <td>0.845</td>\n",
       "    </tr>\n",
       "    <tr>\n",
       "      <th>398</th>\n",
       "      <td>['best_dtc','best_rf']</td>\n",
       "      <td>0.818145</td>\n",
       "      <td>0.016481</td>\n",
       "      <td>0.018526</td>\n",
       "      <td>0.802</td>\n",
       "      <td>0.835</td>\n",
       "    </tr>\n",
       "    <tr>\n",
       "      <th>188</th>\n",
       "      <td>['best_svc_poly','best_rf_sel','best_gbc','bes...</td>\n",
       "      <td>0.833913</td>\n",
       "      <td>0.022515</td>\n",
       "      <td>0.018532</td>\n",
       "      <td>0.811</td>\n",
       "      <td>0.856</td>\n",
       "    </tr>\n",
       "    <tr>\n",
       "      <th>141</th>\n",
       "      <td>['best_svc_poly','best_dtc','best_gbc']</td>\n",
       "      <td>0.830549</td>\n",
       "      <td>0.016234</td>\n",
       "      <td>0.018758</td>\n",
       "      <td>0.814</td>\n",
       "      <td>0.847</td>\n",
       "    </tr>\n",
       "    <tr>\n",
       "      <th>284</th>\n",
       "      <td>['best_svc_poly','best_dtc','best_gbc','best_g...</td>\n",
       "      <td>0.833926</td>\n",
       "      <td>0.018408</td>\n",
       "      <td>0.018791</td>\n",
       "      <td>0.816</td>\n",
       "      <td>0.852</td>\n",
       "    </tr>\n",
       "    <tr>\n",
       "      <th>349</th>\n",
       "      <td>['best_dtc','best_gbc','best_gbc_sel','best_lgc']</td>\n",
       "      <td>0.832796</td>\n",
       "      <td>0.012663</td>\n",
       "      <td>0.018792</td>\n",
       "      <td>0.820</td>\n",
       "      <td>0.845</td>\n",
       "    </tr>\n",
       "    <tr>\n",
       "      <th>76</th>\n",
       "      <td>['best_dtc','best_gbc','best_gbc_sel','best_rf...</td>\n",
       "      <td>0.832790</td>\n",
       "      <td>0.013738</td>\n",
       "      <td>0.019067</td>\n",
       "      <td>0.819</td>\n",
       "      <td>0.847</td>\n",
       "    </tr>\n",
       "    <tr>\n",
       "      <th>362</th>\n",
       "      <td>['best_dtc','best_rf_sel','best_gbc_sel']</td>\n",
       "      <td>0.827222</td>\n",
       "      <td>0.018733</td>\n",
       "      <td>0.019584</td>\n",
       "      <td>0.808</td>\n",
       "      <td>0.846</td>\n",
       "    </tr>\n",
       "    <tr>\n",
       "      <th>306</th>\n",
       "      <td>['best_dtc','best_gbc','best_svc_lin']</td>\n",
       "      <td>0.827171</td>\n",
       "      <td>0.015499</td>\n",
       "      <td>0.019596</td>\n",
       "      <td>0.812</td>\n",
       "      <td>0.843</td>\n",
       "    </tr>\n",
       "    <tr>\n",
       "      <th>249</th>\n",
       "      <td>['best_svc_rbf','best_gbc','best_gbc_sel','bes...</td>\n",
       "      <td>0.833913</td>\n",
       "      <td>0.012367</td>\n",
       "      <td>0.019910</td>\n",
       "      <td>0.822</td>\n",
       "      <td>0.846</td>\n",
       "    </tr>\n",
       "    <tr>\n",
       "      <th>301</th>\n",
       "      <td>['best_gbc','best_svc_lin']</td>\n",
       "      <td>0.824943</td>\n",
       "      <td>0.014074</td>\n",
       "      <td>0.019913</td>\n",
       "      <td>0.811</td>\n",
       "      <td>0.839</td>\n",
       "    </tr>\n",
       "    <tr>\n",
       "      <th>175</th>\n",
       "      <td>['best_dtc','best_gbc','best_gbc_sel','best_rf...</td>\n",
       "      <td>0.827178</td>\n",
       "      <td>0.014193</td>\n",
       "      <td>0.020174</td>\n",
       "      <td>0.813</td>\n",
       "      <td>0.841</td>\n",
       "    </tr>\n",
       "    <tr>\n",
       "      <th>14</th>\n",
       "      <td>['best_rf_sel','best_gbc','best_gbc_sel','best...</td>\n",
       "      <td>0.828289</td>\n",
       "      <td>0.016058</td>\n",
       "      <td>0.020190</td>\n",
       "      <td>0.812</td>\n",
       "      <td>0.844</td>\n",
       "    </tr>\n",
       "    <tr>\n",
       "      <th>106</th>\n",
       "      <td>['best_gbc_sel','best_rf']</td>\n",
       "      <td>0.824931</td>\n",
       "      <td>0.012806</td>\n",
       "      <td>0.020451</td>\n",
       "      <td>0.812</td>\n",
       "      <td>0.838</td>\n",
       "    </tr>\n",
       "    <tr>\n",
       "      <th>204</th>\n",
       "      <td>['best_rf_sel','best_gbc']</td>\n",
       "      <td>0.824893</td>\n",
       "      <td>0.012782</td>\n",
       "      <td>0.021320</td>\n",
       "      <td>0.812</td>\n",
       "      <td>0.838</td>\n",
       "    </tr>\n",
       "    <tr>\n",
       "      <th>447</th>\n",
       "      <td>['best_dtc','best_rf_sel','best_gbc','best_gbc...</td>\n",
       "      <td>0.829438</td>\n",
       "      <td>0.013186</td>\n",
       "      <td>0.022136</td>\n",
       "      <td>0.816</td>\n",
       "      <td>0.843</td>\n",
       "    </tr>\n",
       "    <tr>\n",
       "      <th>463</th>\n",
       "      <td>['best_svc_poly','best_gbc','best_gbc_sel']</td>\n",
       "      <td>0.835037</td>\n",
       "      <td>0.010718</td>\n",
       "      <td>0.022148</td>\n",
       "      <td>0.824</td>\n",
       "      <td>0.846</td>\n",
       "    </tr>\n",
       "    <tr>\n",
       "      <th>456</th>\n",
       "      <td>['best_dtc','best_rf_sel','best_gbc']</td>\n",
       "      <td>0.833932</td>\n",
       "      <td>0.010427</td>\n",
       "      <td>0.022153</td>\n",
       "      <td>0.824</td>\n",
       "      <td>0.844</td>\n",
       "    </tr>\n",
       "    <tr>\n",
       "      <th>158</th>\n",
       "      <td>['best_gbc','best_gbc_sel','best_rf','best_lgc']</td>\n",
       "      <td>0.828308</td>\n",
       "      <td>0.007872</td>\n",
       "      <td>0.022705</td>\n",
       "      <td>0.820</td>\n",
       "      <td>0.836</td>\n",
       "    </tr>\n",
       "    <tr>\n",
       "      <th>501</th>\n",
       "      <td>['best_svc_rbf','best_dtc','best_gbc','best_gb...</td>\n",
       "      <td>0.829425</td>\n",
       "      <td>0.017435</td>\n",
       "      <td>0.022721</td>\n",
       "      <td>0.812</td>\n",
       "      <td>0.847</td>\n",
       "    </tr>\n",
       "    <tr>\n",
       "      <th>329</th>\n",
       "      <td>['best_dtc','best_rf_sel']</td>\n",
       "      <td>0.822652</td>\n",
       "      <td>0.013323</td>\n",
       "      <td>0.022732</td>\n",
       "      <td>0.809</td>\n",
       "      <td>0.836</td>\n",
       "    </tr>\n",
       "    <tr>\n",
       "      <th>258</th>\n",
       "      <td>['best_dtc','best_rf_sel','best_gbc','best_svc...</td>\n",
       "      <td>0.824924</td>\n",
       "      <td>0.013828</td>\n",
       "      <td>0.023274</td>\n",
       "      <td>0.811</td>\n",
       "      <td>0.839</td>\n",
       "    </tr>\n",
       "    <tr>\n",
       "      <th>240</th>\n",
       "      <td>['best_dtc','best_gbc','best_gbc_sel']</td>\n",
       "      <td>0.833932</td>\n",
       "      <td>0.010434</td>\n",
       "      <td>0.023817</td>\n",
       "      <td>0.823</td>\n",
       "      <td>0.844</td>\n",
       "    </tr>\n",
       "    <tr>\n",
       "      <th>260</th>\n",
       "      <td>['best_dtc','best_lgc']</td>\n",
       "      <td>0.826035</td>\n",
       "      <td>0.027697</td>\n",
       "      <td>0.023864</td>\n",
       "      <td>0.798</td>\n",
       "      <td>0.854</td>\n",
       "    </tr>\n",
       "    <tr>\n",
       "      <th>454</th>\n",
       "      <td>['best_gbc','best_gbc_sel']</td>\n",
       "      <td>0.826048</td>\n",
       "      <td>0.009813</td>\n",
       "      <td>0.024117</td>\n",
       "      <td>0.816</td>\n",
       "      <td>0.836</td>\n",
       "    </tr>\n",
       "    <tr>\n",
       "      <th>234</th>\n",
       "      <td>['best_dtc','best_gbc_sel']</td>\n",
       "      <td>0.811441</td>\n",
       "      <td>0.020931</td>\n",
       "      <td>0.024398</td>\n",
       "      <td>0.791</td>\n",
       "      <td>0.832</td>\n",
       "    </tr>\n",
       "    <tr>\n",
       "      <th>437</th>\n",
       "      <td>['best_dtc','best_gbc','best_rf']</td>\n",
       "      <td>0.832821</td>\n",
       "      <td>0.014282</td>\n",
       "      <td>0.025791</td>\n",
       "      <td>0.819</td>\n",
       "      <td>0.847</td>\n",
       "    </tr>\n",
       "    <tr>\n",
       "      <th>222</th>\n",
       "      <td>['best_rf_sel','best_gbc','best_gbc_sel']</td>\n",
       "      <td>0.833919</td>\n",
       "      <td>0.007890</td>\n",
       "      <td>0.026920</td>\n",
       "      <td>0.826</td>\n",
       "      <td>0.842</td>\n",
       "    </tr>\n",
       "    <tr>\n",
       "      <th>486</th>\n",
       "      <td>['best_svc_poly','best_dtc','best_gbc','best_g...</td>\n",
       "      <td>0.823832</td>\n",
       "      <td>0.015738</td>\n",
       "      <td>0.027723</td>\n",
       "      <td>0.808</td>\n",
       "      <td>0.840</td>\n",
       "    </tr>\n",
       "    <tr>\n",
       "      <th>224</th>\n",
       "      <td>['best_dtc','best_gbc']</td>\n",
       "      <td>0.835056</td>\n",
       "      <td>0.016547</td>\n",
       "      <td>0.029725</td>\n",
       "      <td>0.819</td>\n",
       "      <td>0.852</td>\n",
       "    </tr>\n",
       "  </tbody>\n",
       "</table>\n",
       "<p>502 rows × 6 columns</p>\n",
       "</div>"
      ],
      "text/plain": [
       "                                             estimator     score     stdev  \\\n",
       "210                   ['best_svc_poly','best_svc_lin']  0.833907  0.019546   \n",
       "481                    ['best_svc_rbf','best_svc_lin']  0.833907  0.019546   \n",
       "294  ['best_svc_rbf','best_svc_poly','best_dtc','be...  0.831672  0.023163   \n",
       "380  ['best_svc_rbf','best_svc_poly','best_rf_sel',...  0.833907  0.019546   \n",
       "491  ['best_svc_rbf','best_svc_poly','best_rf','bes...  0.832783  0.021050   \n",
       "223  ['best_svc_rbf','best_svc_poly','best_gbc_sel'...  0.832790  0.018452   \n",
       "49   ['best_svc_rbf','best_svc_poly','best_gbc','be...  0.833920  0.020107   \n",
       "264  ['best_svc_rbf','best_svc_poly','best_dtc','be...  0.833907  0.019546   \n",
       "127          ['best_svc_rbf','best_rf','best_svc_lin']  0.833907  0.019546   \n",
       "28   ['best_svc_rbf','best_svc_poly','best_lgc','be...  0.832790  0.018452   \n",
       "199  ['best_svc_rbf','best_svc_poly','best_dtc','be...  0.832783  0.021050   \n",
       "134  ['best_svc_rbf','best_svc_poly','best_dtc','be...  0.833913  0.022515   \n",
       "392  ['best_svc_rbf','best_svc_poly','best_dtc','be...  0.832783  0.021050   \n",
       "439  ['best_svc_rbf','best_rf','best_lgc','best_svc...  0.832783  0.021050   \n",
       "403  ['best_svc_poly','best_rf_sel','best_rf','best...  0.828264  0.017030   \n",
       "287  ['best_svc_rbf','best_svc_poly','best_dtc','be...  0.833920  0.020107   \n",
       "30   ['best_svc_rbf','best_svc_poly','best_rf','bes...  0.830542  0.021625   \n",
       "24   ['best_svc_rbf','best_svc_poly','best_rf_sel',...  0.833907  0.019546   \n",
       "402  ['best_svc_rbf','best_svc_poly','best_rf_sel',...  0.832783  0.021050   \n",
       "12          ['best_svc_poly','best_rf','best_svc_lin']  0.833907  0.019546   \n",
       "356  ['best_svc_rbf','best_rf_sel','best_lgc','best...  0.832783  0.021050   \n",
       "344  ['best_svc_rbf','best_svc_poly','best_dtc','be...  0.831666  0.021202   \n",
       "452  ['best_svc_rbf','best_gbc','best_rf','best_svc...  0.831666  0.019975   \n",
       "1    ['best_svc_rbf','best_svc_poly','best_gbc_sel'...  0.831666  0.019975   \n",
       "96   ['best_svc_rbf','best_svc_poly','best_rf_sel',...  0.831666  0.019975   \n",
       "420  ['best_svc_rbf','best_svc_poly','best_rf_sel',...  0.831666  0.019975   \n",
       "169  ['best_svc_rbf','best_svc_poly','best_dtc','be...  0.832796  0.021572   \n",
       "27   ['best_svc_rbf','best_svc_poly','best_dtc','be...  0.833920  0.022463   \n",
       "389      ['best_svc_rbf','best_rf_sel','best_svc_lin']  0.833907  0.019546   \n",
       "442  ['best_svc_poly','best_gbc','best_rf','best_sv...  0.832783  0.021050   \n",
       "..                                                 ...       ...       ...   \n",
       "165  ['best_rf_sel','best_gbc','best_gbc_sel','best...  0.833919  0.011214   \n",
       "398                             ['best_dtc','best_rf']  0.818145  0.016481   \n",
       "188  ['best_svc_poly','best_rf_sel','best_gbc','bes...  0.833913  0.022515   \n",
       "141            ['best_svc_poly','best_dtc','best_gbc']  0.830549  0.016234   \n",
       "284  ['best_svc_poly','best_dtc','best_gbc','best_g...  0.833926  0.018408   \n",
       "349  ['best_dtc','best_gbc','best_gbc_sel','best_lgc']  0.832796  0.012663   \n",
       "76   ['best_dtc','best_gbc','best_gbc_sel','best_rf...  0.832790  0.013738   \n",
       "362          ['best_dtc','best_rf_sel','best_gbc_sel']  0.827222  0.018733   \n",
       "306             ['best_dtc','best_gbc','best_svc_lin']  0.827171  0.015499   \n",
       "249  ['best_svc_rbf','best_gbc','best_gbc_sel','bes...  0.833913  0.012367   \n",
       "301                        ['best_gbc','best_svc_lin']  0.824943  0.014074   \n",
       "175  ['best_dtc','best_gbc','best_gbc_sel','best_rf...  0.827178  0.014193   \n",
       "14   ['best_rf_sel','best_gbc','best_gbc_sel','best...  0.828289  0.016058   \n",
       "106                         ['best_gbc_sel','best_rf']  0.824931  0.012806   \n",
       "204                         ['best_rf_sel','best_gbc']  0.824893  0.012782   \n",
       "447  ['best_dtc','best_rf_sel','best_gbc','best_gbc...  0.829438  0.013186   \n",
       "463        ['best_svc_poly','best_gbc','best_gbc_sel']  0.835037  0.010718   \n",
       "456              ['best_dtc','best_rf_sel','best_gbc']  0.833932  0.010427   \n",
       "158   ['best_gbc','best_gbc_sel','best_rf','best_lgc']  0.828308  0.007872   \n",
       "501  ['best_svc_rbf','best_dtc','best_gbc','best_gb...  0.829425  0.017435   \n",
       "329                         ['best_dtc','best_rf_sel']  0.822652  0.013323   \n",
       "258  ['best_dtc','best_rf_sel','best_gbc','best_svc...  0.824924  0.013828   \n",
       "240             ['best_dtc','best_gbc','best_gbc_sel']  0.833932  0.010434   \n",
       "260                            ['best_dtc','best_lgc']  0.826035  0.027697   \n",
       "454                        ['best_gbc','best_gbc_sel']  0.826048  0.009813   \n",
       "234                        ['best_dtc','best_gbc_sel']  0.811441  0.020931   \n",
       "437                  ['best_dtc','best_gbc','best_rf']  0.832821  0.014282   \n",
       "222          ['best_rf_sel','best_gbc','best_gbc_sel']  0.833919  0.007890   \n",
       "486  ['best_svc_poly','best_dtc','best_gbc','best_g...  0.823832  0.015738   \n",
       "224                            ['best_dtc','best_gbc']  0.835056  0.016547   \n",
       "\n",
       "         diff  lowest  highest  \n",
       "210  0.000550   0.814    0.853  \n",
       "481  0.000550   0.814    0.853  \n",
       "294  0.000819   0.809    0.855  \n",
       "380  0.000830   0.814    0.853  \n",
       "491  0.000830   0.812    0.854  \n",
       "223  0.001098   0.814    0.851  \n",
       "49   0.001379   0.814    0.854  \n",
       "264  0.001672   0.814    0.853  \n",
       "127  0.001672   0.814    0.853  \n",
       "28   0.001948   0.814    0.851  \n",
       "199  0.001953   0.812    0.854  \n",
       "134  0.001954   0.811    0.856  \n",
       "392  0.001954   0.812    0.854  \n",
       "439  0.001955   0.812    0.854  \n",
       "403  0.002242   0.811    0.845  \n",
       "287  0.002502   0.814    0.854  \n",
       "30   0.002511   0.809    0.852  \n",
       "24   0.002515   0.814    0.853  \n",
       "402  0.002515   0.812    0.854  \n",
       "12   0.002515   0.814    0.853  \n",
       "356  0.002516   0.812    0.854  \n",
       "344  0.002789   0.810    0.853  \n",
       "452  0.002789   0.812    0.852  \n",
       "1    0.002789   0.812    0.852  \n",
       "96   0.002791   0.812    0.852  \n",
       "420  0.002791   0.812    0.852  \n",
       "169  0.002794   0.811    0.854  \n",
       "27   0.002795   0.811    0.856  \n",
       "389  0.002796   0.814    0.853  \n",
       "442  0.002796   0.812    0.854  \n",
       "..        ...     ...      ...  \n",
       "165  0.018505   0.823    0.845  \n",
       "398  0.018526   0.802    0.835  \n",
       "188  0.018532   0.811    0.856  \n",
       "141  0.018758   0.814    0.847  \n",
       "284  0.018791   0.816    0.852  \n",
       "349  0.018792   0.820    0.845  \n",
       "76   0.019067   0.819    0.847  \n",
       "362  0.019584   0.808    0.846  \n",
       "306  0.019596   0.812    0.843  \n",
       "249  0.019910   0.822    0.846  \n",
       "301  0.019913   0.811    0.839  \n",
       "175  0.020174   0.813    0.841  \n",
       "14   0.020190   0.812    0.844  \n",
       "106  0.020451   0.812    0.838  \n",
       "204  0.021320   0.812    0.838  \n",
       "447  0.022136   0.816    0.843  \n",
       "463  0.022148   0.824    0.846  \n",
       "456  0.022153   0.824    0.844  \n",
       "158  0.022705   0.820    0.836  \n",
       "501  0.022721   0.812    0.847  \n",
       "329  0.022732   0.809    0.836  \n",
       "258  0.023274   0.811    0.839  \n",
       "240  0.023817   0.823    0.844  \n",
       "260  0.023864   0.798    0.854  \n",
       "454  0.024117   0.816    0.836  \n",
       "234  0.024398   0.791    0.832  \n",
       "437  0.025791   0.819    0.847  \n",
       "222  0.026920   0.826    0.842  \n",
       "486  0.027723   0.808    0.840  \n",
       "224  0.029725   0.819    0.852  \n",
       "\n",
       "[502 rows x 6 columns]"
      ]
     },
     "execution_count": 62,
     "metadata": {},
     "output_type": "execute_result"
    }
   ],
   "source": [
    "hard_report = score_df(hard_combo_score_std,lowest_precision=3,highest_precision=3)\n",
    "\n",
    "sorted_hard_report = hard_report.sort_values(by=['diff'],ascending=[True])\n",
    "\n",
    "hard_estimators = get_estimators(sorted_report.iloc[0])\n",
    "\n",
    "sorted_hard_report"
   ]
  },
  {
   "cell_type": "code",
   "execution_count": 92,
   "metadata": {},
   "outputs": [],
   "source": [
    "best_hard_voter = [(est_key,estimator_dict[est_key]) for est_key in hard_estimators]"
   ]
  },
  {
   "cell_type": "code",
   "execution_count": 93,
   "metadata": {},
   "outputs": [],
   "source": [
    "hard_voting_clf = VotingClassifier(\n",
    "    estimators=best_hard_voter,\n",
    "    voting='hard')"
   ]
  },
  {
   "cell_type": "code",
   "execution_count": 94,
   "metadata": {},
   "outputs": [
    {
     "data": {
      "text/plain": [
       "0.8327770147177784"
      ]
     },
     "execution_count": 94,
     "metadata": {},
     "output_type": "execute_result"
    }
   ],
   "source": [
    "np.mean(cross_val_score(hard_voting_clf,X_train_full,y_train_full,cv=5,scoring='accuracy',n_jobs=-1))"
   ]
  },
  {
   "cell_type": "code",
   "execution_count": 95,
   "metadata": {},
   "outputs": [
    {
     "data": {
      "image/png": "[encoded data removed]",
      "text/plain": [
       "<matplotlib.figure.Figure at 0x7fdcfc840630>"
      ]
     },
     "metadata": {},
     "output_type": "display_data"
    }
   ],
   "source": [
    "plot_learning_curves_cv(hard_voting_clf,X_train_full,y_train_full_nm,accuracy_score,increments=5)"
   ]
  },
  {
   "cell_type": "markdown",
   "metadata": {},
   "source": [
    "### Soft Voter"
   ]
  },
  {
   "cell_type": "code",
   "execution_count": 47,
   "metadata": {},
   "outputs": [
    {
     "name": "stdout",
     "output_type": "stream",
     "text": [
      "Starting search for best estimator combination for voting.\n",
      "Num of estimators : 9\n",
      "Num of combinations : 502.0\n",
      "10 % complete; 0:03:11.032939 elapsed \n",
      "20 % complete; 0:05:57.317509 elapsed \n",
      "30 % complete; 0:08:24.631235 elapsed \n",
      "40 % complete; 0:10:47.225461 elapsed \n",
      "50 % complete; 0:12:49.687347 elapsed \n",
      "60 % complete; 0:14:41.237915 elapsed \n",
      "70 % complete; 0:16:37.664705 elapsed \n",
      "80 % complete; 0:18:18.523060 elapsed \n",
      "90 % complete; 0:19:49.812457 elapsed \n",
      "100 % complete; 0:21:02.016262 elapsed \n",
      "Best score: 0.8384139653101459\n"
     ]
    }
   ],
   "source": [
    "best_soft_score, best_soft_voter, soft_combo_score_std = find_best_voter(estimators,X_train_full,y_train_full,voting='soft',cv=5,calc_diff=True)"
   ]
  },
  {
   "cell_type": "code",
   "execution_count": 98,
   "metadata": {},
   "outputs": [],
   "source": [
    "utils.save_csv(soft_report,'soft_report.csv')"
   ]
  },
  {
   "cell_type": "code",
   "execution_count": 96,
   "metadata": {},
   "outputs": [
    {
     "data": {
      "text/html": [
       "<div>\n",
       "<style scoped>\n",
       "    .dataframe tbody tr th:only-of-type {\n",
       "        vertical-align: middle;\n",
       "    }\n",
       "\n",
       "    .dataframe tbody tr th {\n",
       "        vertical-align: top;\n",
       "    }\n",
       "\n",
       "    .dataframe thead th {\n",
       "        text-align: right;\n",
       "    }\n",
       "</style>\n",
       "<table border=\"1\" class=\"dataframe\">\n",
       "  <thead>\n",
       "    <tr style=\"text-align: right;\">\n",
       "      <th></th>\n",
       "      <th>estimator</th>\n",
       "      <th>score</th>\n",
       "      <th>stdev</th>\n",
       "      <th>diff</th>\n",
       "      <th>lowest</th>\n",
       "      <th>highest</th>\n",
       "    </tr>\n",
       "  </thead>\n",
       "  <tbody>\n",
       "    <tr>\n",
       "      <th>416</th>\n",
       "      <td>['best_svc_rbf','best_svc_poly','best_dtc','be...</td>\n",
       "      <td>0.837290</td>\n",
       "      <td>0.022001</td>\n",
       "      <td>0.001092</td>\n",
       "      <td>0.815</td>\n",
       "      <td>0.859</td>\n",
       "    </tr>\n",
       "    <tr>\n",
       "      <th>117</th>\n",
       "      <td>['best_svc_rbf','best_svc_poly','best_lgc']</td>\n",
       "      <td>0.832790</td>\n",
       "      <td>0.018452</td>\n",
       "      <td>0.001387</td>\n",
       "      <td>0.814</td>\n",
       "      <td>0.851</td>\n",
       "    </tr>\n",
       "    <tr>\n",
       "      <th>448</th>\n",
       "      <td>['best_svc_rbf','best_svc_poly','best_svc_lin']</td>\n",
       "      <td>0.832790</td>\n",
       "      <td>0.018452</td>\n",
       "      <td>0.001387</td>\n",
       "      <td>0.814</td>\n",
       "      <td>0.851</td>\n",
       "    </tr>\n",
       "    <tr>\n",
       "      <th>340</th>\n",
       "      <td>['best_svc_poly','best_rf']</td>\n",
       "      <td>0.835050</td>\n",
       "      <td>0.022719</td>\n",
       "      <td>0.001653</td>\n",
       "      <td>0.812</td>\n",
       "      <td>0.858</td>\n",
       "    </tr>\n",
       "    <tr>\n",
       "      <th>148</th>\n",
       "      <td>['best_svc_rbf','best_rf']</td>\n",
       "      <td>0.831679</td>\n",
       "      <td>0.020827</td>\n",
       "      <td>0.001927</td>\n",
       "      <td>0.811</td>\n",
       "      <td>0.853</td>\n",
       "    </tr>\n",
       "    <tr>\n",
       "      <th>32</th>\n",
       "      <td>['best_svc_rbf','best_svc_poly']</td>\n",
       "      <td>0.832802</td>\n",
       "      <td>0.019370</td>\n",
       "      <td>0.001936</td>\n",
       "      <td>0.813</td>\n",
       "      <td>0.852</td>\n",
       "    </tr>\n",
       "    <tr>\n",
       "      <th>491</th>\n",
       "      <td>['best_svc_rbf','best_svc_poly','best_rf','bes...</td>\n",
       "      <td>0.832790</td>\n",
       "      <td>0.018452</td>\n",
       "      <td>0.001948</td>\n",
       "      <td>0.814</td>\n",
       "      <td>0.851</td>\n",
       "    </tr>\n",
       "    <tr>\n",
       "      <th>290</th>\n",
       "      <td>['best_svc_rbf','best_svc_poly','best_dtc','be...</td>\n",
       "      <td>0.836167</td>\n",
       "      <td>0.022689</td>\n",
       "      <td>0.002222</td>\n",
       "      <td>0.813</td>\n",
       "      <td>0.859</td>\n",
       "    </tr>\n",
       "    <tr>\n",
       "      <th>380</th>\n",
       "      <td>['best_svc_rbf','best_svc_poly','best_rf_sel',...</td>\n",
       "      <td>0.832790</td>\n",
       "      <td>0.018452</td>\n",
       "      <td>0.002509</td>\n",
       "      <td>0.814</td>\n",
       "      <td>0.851</td>\n",
       "    </tr>\n",
       "    <tr>\n",
       "      <th>410</th>\n",
       "      <td>['best_svc_rbf','best_svc_poly','best_dtc','be...</td>\n",
       "      <td>0.833932</td>\n",
       "      <td>0.022398</td>\n",
       "      <td>0.002782</td>\n",
       "      <td>0.812</td>\n",
       "      <td>0.856</td>\n",
       "    </tr>\n",
       "    <tr>\n",
       "      <th>130</th>\n",
       "      <td>['best_svc_rbf','best_svc_poly','best_dtc']</td>\n",
       "      <td>0.832796</td>\n",
       "      <td>0.016977</td>\n",
       "      <td>0.002784</td>\n",
       "      <td>0.816</td>\n",
       "      <td>0.850</td>\n",
       "    </tr>\n",
       "    <tr>\n",
       "      <th>28</th>\n",
       "      <td>['best_svc_rbf','best_svc_poly','best_lgc','be...</td>\n",
       "      <td>0.831672</td>\n",
       "      <td>0.017575</td>\n",
       "      <td>0.002785</td>\n",
       "      <td>0.814</td>\n",
       "      <td>0.849</td>\n",
       "    </tr>\n",
       "    <tr>\n",
       "      <th>326</th>\n",
       "      <td>['best_svc_rbf','best_lgc']</td>\n",
       "      <td>0.832790</td>\n",
       "      <td>0.018452</td>\n",
       "      <td>0.002790</td>\n",
       "      <td>0.814</td>\n",
       "      <td>0.851</td>\n",
       "    </tr>\n",
       "    <tr>\n",
       "      <th>498</th>\n",
       "      <td>['best_svc_poly','best_lgc']</td>\n",
       "      <td>0.832790</td>\n",
       "      <td>0.018452</td>\n",
       "      <td>0.002790</td>\n",
       "      <td>0.814</td>\n",
       "      <td>0.851</td>\n",
       "    </tr>\n",
       "    <tr>\n",
       "      <th>49</th>\n",
       "      <td>['best_svc_rbf','best_svc_poly','best_gbc','be...</td>\n",
       "      <td>0.832790</td>\n",
       "      <td>0.018452</td>\n",
       "      <td>0.002791</td>\n",
       "      <td>0.814</td>\n",
       "      <td>0.851</td>\n",
       "    </tr>\n",
       "    <tr>\n",
       "      <th>149</th>\n",
       "      <td>['best_svc_rbf','best_dtc','best_svc_lin']</td>\n",
       "      <td>0.832777</td>\n",
       "      <td>0.018194</td>\n",
       "      <td>0.003070</td>\n",
       "      <td>0.815</td>\n",
       "      <td>0.851</td>\n",
       "    </tr>\n",
       "    <tr>\n",
       "      <th>134</th>\n",
       "      <td>['best_svc_rbf','best_svc_poly','best_dtc','be...</td>\n",
       "      <td>0.832790</td>\n",
       "      <td>0.018452</td>\n",
       "      <td>0.003070</td>\n",
       "      <td>0.814</td>\n",
       "      <td>0.851</td>\n",
       "    </tr>\n",
       "    <tr>\n",
       "      <th>264</th>\n",
       "      <td>['best_svc_rbf','best_svc_poly','best_dtc','be...</td>\n",
       "      <td>0.832777</td>\n",
       "      <td>0.019206</td>\n",
       "      <td>0.003070</td>\n",
       "      <td>0.814</td>\n",
       "      <td>0.852</td>\n",
       "    </tr>\n",
       "    <tr>\n",
       "      <th>30</th>\n",
       "      <td>['best_svc_rbf','best_svc_poly','best_rf','bes...</td>\n",
       "      <td>0.832790</td>\n",
       "      <td>0.018452</td>\n",
       "      <td>0.003071</td>\n",
       "      <td>0.814</td>\n",
       "      <td>0.851</td>\n",
       "    </tr>\n",
       "    <tr>\n",
       "      <th>404</th>\n",
       "      <td>['best_svc_rbf','best_svc_poly','best_rf_sel',...</td>\n",
       "      <td>0.832809</td>\n",
       "      <td>0.023723</td>\n",
       "      <td>0.003335</td>\n",
       "      <td>0.809</td>\n",
       "      <td>0.857</td>\n",
       "    </tr>\n",
       "    <tr>\n",
       "      <th>426</th>\n",
       "      <td>['best_svc_rbf','best_svc_poly','best_dtc','be...</td>\n",
       "      <td>0.833920</td>\n",
       "      <td>0.020107</td>\n",
       "      <td>0.003344</td>\n",
       "      <td>0.814</td>\n",
       "      <td>0.854</td>\n",
       "    </tr>\n",
       "    <tr>\n",
       "      <th>464</th>\n",
       "      <td>['best_svc_rbf','best_svc_poly','best_gbc_sel'...</td>\n",
       "      <td>0.831672</td>\n",
       "      <td>0.017575</td>\n",
       "      <td>0.003347</td>\n",
       "      <td>0.814</td>\n",
       "      <td>0.849</td>\n",
       "    </tr>\n",
       "    <tr>\n",
       "      <th>24</th>\n",
       "      <td>['best_svc_rbf','best_svc_poly','best_rf_sel',...</td>\n",
       "      <td>0.832790</td>\n",
       "      <td>0.018452</td>\n",
       "      <td>0.003351</td>\n",
       "      <td>0.814</td>\n",
       "      <td>0.851</td>\n",
       "    </tr>\n",
       "    <tr>\n",
       "      <th>84</th>\n",
       "      <td>['best_svc_rbf','best_svc_poly','best_gbc_sel']</td>\n",
       "      <td>0.832790</td>\n",
       "      <td>0.018452</td>\n",
       "      <td>0.003351</td>\n",
       "      <td>0.814</td>\n",
       "      <td>0.851</td>\n",
       "    </tr>\n",
       "    <tr>\n",
       "      <th>480</th>\n",
       "      <td>['best_svc_rbf','best_svc_poly','best_gbc_sel'...</td>\n",
       "      <td>0.832790</td>\n",
       "      <td>0.018452</td>\n",
       "      <td>0.003351</td>\n",
       "      <td>0.814</td>\n",
       "      <td>0.851</td>\n",
       "    </tr>\n",
       "    <tr>\n",
       "      <th>124</th>\n",
       "      <td>['best_svc_rbf','best_svc_poly','best_gbc_sel'...</td>\n",
       "      <td>0.833920</td>\n",
       "      <td>0.020107</td>\n",
       "      <td>0.003625</td>\n",
       "      <td>0.814</td>\n",
       "      <td>0.854</td>\n",
       "    </tr>\n",
       "    <tr>\n",
       "      <th>223</th>\n",
       "      <td>['best_svc_rbf','best_svc_poly','best_gbc_sel'...</td>\n",
       "      <td>0.831672</td>\n",
       "      <td>0.017575</td>\n",
       "      <td>0.003627</td>\n",
       "      <td>0.814</td>\n",
       "      <td>0.849</td>\n",
       "    </tr>\n",
       "    <tr>\n",
       "      <th>191</th>\n",
       "      <td>['best_svc_rbf','best_svc_poly','best_gbc_sel'...</td>\n",
       "      <td>0.831672</td>\n",
       "      <td>0.017575</td>\n",
       "      <td>0.003627</td>\n",
       "      <td>0.814</td>\n",
       "      <td>0.849</td>\n",
       "    </tr>\n",
       "    <tr>\n",
       "      <th>363</th>\n",
       "      <td>['best_svc_rbf','best_dtc','best_rf_sel','best...</td>\n",
       "      <td>0.832796</td>\n",
       "      <td>0.022973</td>\n",
       "      <td>0.003632</td>\n",
       "      <td>0.810</td>\n",
       "      <td>0.856</td>\n",
       "    </tr>\n",
       "    <tr>\n",
       "      <th>127</th>\n",
       "      <td>['best_svc_rbf','best_rf','best_svc_lin']</td>\n",
       "      <td>0.830542</td>\n",
       "      <td>0.015899</td>\n",
       "      <td>0.003634</td>\n",
       "      <td>0.815</td>\n",
       "      <td>0.846</td>\n",
       "    </tr>\n",
       "    <tr>\n",
       "      <th>...</th>\n",
       "      <td>...</td>\n",
       "      <td>...</td>\n",
       "      <td>...</td>\n",
       "      <td>...</td>\n",
       "      <td>...</td>\n",
       "      <td>...</td>\n",
       "    </tr>\n",
       "    <tr>\n",
       "      <th>182</th>\n",
       "      <td>['best_rf_sel','best_gbc','best_gbc_sel','best...</td>\n",
       "      <td>0.824937</td>\n",
       "      <td>0.015819</td>\n",
       "      <td>0.017099</td>\n",
       "      <td>0.809</td>\n",
       "      <td>0.841</td>\n",
       "    </tr>\n",
       "    <tr>\n",
       "      <th>447</th>\n",
       "      <td>['best_dtc','best_rf_sel','best_gbc','best_gbc...</td>\n",
       "      <td>0.829431</td>\n",
       "      <td>0.013272</td>\n",
       "      <td>0.017365</td>\n",
       "      <td>0.816</td>\n",
       "      <td>0.843</td>\n",
       "    </tr>\n",
       "    <tr>\n",
       "      <th>419</th>\n",
       "      <td>['best_rf_sel','best_gbc','best_lgc']</td>\n",
       "      <td>0.832808</td>\n",
       "      <td>0.013967</td>\n",
       "      <td>0.017367</td>\n",
       "      <td>0.819</td>\n",
       "      <td>0.847</td>\n",
       "    </tr>\n",
       "    <tr>\n",
       "      <th>222</th>\n",
       "      <td>['best_rf_sel','best_gbc','best_gbc_sel']</td>\n",
       "      <td>0.833932</td>\n",
       "      <td>0.015346</td>\n",
       "      <td>0.017377</td>\n",
       "      <td>0.819</td>\n",
       "      <td>0.849</td>\n",
       "    </tr>\n",
       "    <tr>\n",
       "      <th>306</th>\n",
       "      <td>['best_dtc','best_gbc','best_svc_lin']</td>\n",
       "      <td>0.823807</td>\n",
       "      <td>0.012431</td>\n",
       "      <td>0.017378</td>\n",
       "      <td>0.811</td>\n",
       "      <td>0.836</td>\n",
       "    </tr>\n",
       "    <tr>\n",
       "      <th>487</th>\n",
       "      <td>['best_svc_poly','best_dtc','best_rf_sel','bes...</td>\n",
       "      <td>0.827178</td>\n",
       "      <td>0.018447</td>\n",
       "      <td>0.017381</td>\n",
       "      <td>0.809</td>\n",
       "      <td>0.846</td>\n",
       "    </tr>\n",
       "    <tr>\n",
       "      <th>67</th>\n",
       "      <td>['best_dtc','best_rf_sel','best_gbc_sel','best...</td>\n",
       "      <td>0.830568</td>\n",
       "      <td>0.020245</td>\n",
       "      <td>0.017654</td>\n",
       "      <td>0.810</td>\n",
       "      <td>0.851</td>\n",
       "    </tr>\n",
       "    <tr>\n",
       "      <th>106</th>\n",
       "      <td>['best_gbc_sel','best_rf']</td>\n",
       "      <td>0.832802</td>\n",
       "      <td>0.012109</td>\n",
       "      <td>0.017661</td>\n",
       "      <td>0.821</td>\n",
       "      <td>0.845</td>\n",
       "    </tr>\n",
       "    <tr>\n",
       "      <th>437</th>\n",
       "      <td>['best_dtc','best_gbc','best_rf']</td>\n",
       "      <td>0.830561</td>\n",
       "      <td>0.016125</td>\n",
       "      <td>0.017918</td>\n",
       "      <td>0.814</td>\n",
       "      <td>0.847</td>\n",
       "    </tr>\n",
       "    <tr>\n",
       "      <th>256</th>\n",
       "      <td>['best_dtc','best_rf_sel','best_gbc','best_gbc...</td>\n",
       "      <td>0.830593</td>\n",
       "      <td>0.018372</td>\n",
       "      <td>0.018204</td>\n",
       "      <td>0.812</td>\n",
       "      <td>0.849</td>\n",
       "    </tr>\n",
       "    <tr>\n",
       "      <th>14</th>\n",
       "      <td>['best_rf_sel','best_gbc','best_gbc_sel','best...</td>\n",
       "      <td>0.826073</td>\n",
       "      <td>0.016704</td>\n",
       "      <td>0.018497</td>\n",
       "      <td>0.809</td>\n",
       "      <td>0.843</td>\n",
       "    </tr>\n",
       "    <tr>\n",
       "      <th>175</th>\n",
       "      <td>['best_dtc','best_gbc','best_gbc_sel','best_rf...</td>\n",
       "      <td>0.831691</td>\n",
       "      <td>0.020107</td>\n",
       "      <td>0.018769</td>\n",
       "      <td>0.812</td>\n",
       "      <td>0.852</td>\n",
       "    </tr>\n",
       "    <tr>\n",
       "      <th>454</th>\n",
       "      <td>['best_gbc','best_gbc_sel']</td>\n",
       "      <td>0.833907</td>\n",
       "      <td>0.008875</td>\n",
       "      <td>0.018781</td>\n",
       "      <td>0.825</td>\n",
       "      <td>0.843</td>\n",
       "    </tr>\n",
       "    <tr>\n",
       "      <th>360</th>\n",
       "      <td>['best_dtc','best_rf_sel','best_gbc','best_gbc...</td>\n",
       "      <td>0.832789</td>\n",
       "      <td>0.012760</td>\n",
       "      <td>0.018784</td>\n",
       "      <td>0.820</td>\n",
       "      <td>0.846</td>\n",
       "    </tr>\n",
       "    <tr>\n",
       "      <th>226</th>\n",
       "      <td>['best_dtc','best_gbc','best_rf','best_lgc']</td>\n",
       "      <td>0.835075</td>\n",
       "      <td>0.015553</td>\n",
       "      <td>0.019029</td>\n",
       "      <td>0.820</td>\n",
       "      <td>0.851</td>\n",
       "    </tr>\n",
       "    <tr>\n",
       "      <th>161</th>\n",
       "      <td>['best_dtc','best_gbc_sel','best_svc_lin']</td>\n",
       "      <td>0.823820</td>\n",
       "      <td>0.014181</td>\n",
       "      <td>0.019051</td>\n",
       "      <td>0.810</td>\n",
       "      <td>0.838</td>\n",
       "    </tr>\n",
       "    <tr>\n",
       "      <th>283</th>\n",
       "      <td>['best_gbc','best_rf']</td>\n",
       "      <td>0.832796</td>\n",
       "      <td>0.014108</td>\n",
       "      <td>0.019054</td>\n",
       "      <td>0.819</td>\n",
       "      <td>0.847</td>\n",
       "    </tr>\n",
       "    <tr>\n",
       "      <th>234</th>\n",
       "      <td>['best_dtc','best_gbc_sel']</td>\n",
       "      <td>0.833907</td>\n",
       "      <td>0.012412</td>\n",
       "      <td>0.019073</td>\n",
       "      <td>0.821</td>\n",
       "      <td>0.846</td>\n",
       "    </tr>\n",
       "    <tr>\n",
       "      <th>273</th>\n",
       "      <td>['best_dtc','best_rf_sel','best_gbc','best_gbc...</td>\n",
       "      <td>0.832790</td>\n",
       "      <td>0.018430</td>\n",
       "      <td>0.019349</td>\n",
       "      <td>0.814</td>\n",
       "      <td>0.851</td>\n",
       "    </tr>\n",
       "    <tr>\n",
       "      <th>205</th>\n",
       "      <td>['best_dtc','best_rf_sel','best_gbc','best_lgc']</td>\n",
       "      <td>0.832790</td>\n",
       "      <td>0.022142</td>\n",
       "      <td>0.019638</td>\n",
       "      <td>0.811</td>\n",
       "      <td>0.855</td>\n",
       "    </tr>\n",
       "    <tr>\n",
       "      <th>101</th>\n",
       "      <td>['best_gbc','best_gbc_sel','best_rf']</td>\n",
       "      <td>0.832808</td>\n",
       "      <td>0.014440</td>\n",
       "      <td>0.019899</td>\n",
       "      <td>0.818</td>\n",
       "      <td>0.847</td>\n",
       "    </tr>\n",
       "    <tr>\n",
       "      <th>257</th>\n",
       "      <td>['best_dtc','best_gbc','best_gbc_sel','best_sv...</td>\n",
       "      <td>0.831653</td>\n",
       "      <td>0.010576</td>\n",
       "      <td>0.021310</td>\n",
       "      <td>0.821</td>\n",
       "      <td>0.842</td>\n",
       "    </tr>\n",
       "    <tr>\n",
       "      <th>362</th>\n",
       "      <td>['best_dtc','best_rf_sel','best_gbc_sel']</td>\n",
       "      <td>0.827203</td>\n",
       "      <td>0.013895</td>\n",
       "      <td>0.021852</td>\n",
       "      <td>0.813</td>\n",
       "      <td>0.841</td>\n",
       "    </tr>\n",
       "    <tr>\n",
       "      <th>85</th>\n",
       "      <td>['best_dtc','best_gbc','best_gbc_sel','best_rf']</td>\n",
       "      <td>0.835068</td>\n",
       "      <td>0.017529</td>\n",
       "      <td>0.022978</td>\n",
       "      <td>0.818</td>\n",
       "      <td>0.853</td>\n",
       "    </tr>\n",
       "    <tr>\n",
       "      <th>269</th>\n",
       "      <td>['best_dtc','best_rf_sel','best_gbc_sel','best...</td>\n",
       "      <td>0.830574</td>\n",
       "      <td>0.015175</td>\n",
       "      <td>0.025219</td>\n",
       "      <td>0.815</td>\n",
       "      <td>0.846</td>\n",
       "    </tr>\n",
       "    <tr>\n",
       "      <th>180</th>\n",
       "      <td>['best_dtc','best_gbc_sel','best_rf']</td>\n",
       "      <td>0.823826</td>\n",
       "      <td>0.016187</td>\n",
       "      <td>0.027741</td>\n",
       "      <td>0.808</td>\n",
       "      <td>0.840</td>\n",
       "    </tr>\n",
       "    <tr>\n",
       "      <th>224</th>\n",
       "      <td>['best_dtc','best_gbc']</td>\n",
       "      <td>0.819319</td>\n",
       "      <td>0.009373</td>\n",
       "      <td>0.029426</td>\n",
       "      <td>0.810</td>\n",
       "      <td>0.829</td>\n",
       "    </tr>\n",
       "    <tr>\n",
       "      <th>321</th>\n",
       "      <td>['best_dtc','best_gbc','best_lgc']</td>\n",
       "      <td>0.829444</td>\n",
       "      <td>0.017997</td>\n",
       "      <td>0.030288</td>\n",
       "      <td>0.811</td>\n",
       "      <td>0.847</td>\n",
       "    </tr>\n",
       "    <tr>\n",
       "      <th>329</th>\n",
       "      <td>['best_dtc','best_rf_sel']</td>\n",
       "      <td>0.819363</td>\n",
       "      <td>0.020350</td>\n",
       "      <td>0.030563</td>\n",
       "      <td>0.799</td>\n",
       "      <td>0.840</td>\n",
       "    </tr>\n",
       "    <tr>\n",
       "      <th>240</th>\n",
       "      <td>['best_dtc','best_gbc','best_gbc_sel']</td>\n",
       "      <td>0.837284</td>\n",
       "      <td>0.013974</td>\n",
       "      <td>0.034767</td>\n",
       "      <td>0.823</td>\n",
       "      <td>0.851</td>\n",
       "    </tr>\n",
       "  </tbody>\n",
       "</table>\n",
       "<p>502 rows × 6 columns</p>\n",
       "</div>"
      ],
      "text/plain": [
       "                                             estimator     score     stdev  \\\n",
       "416  ['best_svc_rbf','best_svc_poly','best_dtc','be...  0.837290  0.022001   \n",
       "117        ['best_svc_rbf','best_svc_poly','best_lgc']  0.832790  0.018452   \n",
       "448    ['best_svc_rbf','best_svc_poly','best_svc_lin']  0.832790  0.018452   \n",
       "340                        ['best_svc_poly','best_rf']  0.835050  0.022719   \n",
       "148                         ['best_svc_rbf','best_rf']  0.831679  0.020827   \n",
       "32                    ['best_svc_rbf','best_svc_poly']  0.832802  0.019370   \n",
       "491  ['best_svc_rbf','best_svc_poly','best_rf','bes...  0.832790  0.018452   \n",
       "290  ['best_svc_rbf','best_svc_poly','best_dtc','be...  0.836167  0.022689   \n",
       "380  ['best_svc_rbf','best_svc_poly','best_rf_sel',...  0.832790  0.018452   \n",
       "410  ['best_svc_rbf','best_svc_poly','best_dtc','be...  0.833932  0.022398   \n",
       "130        ['best_svc_rbf','best_svc_poly','best_dtc']  0.832796  0.016977   \n",
       "28   ['best_svc_rbf','best_svc_poly','best_lgc','be...  0.831672  0.017575   \n",
       "326                        ['best_svc_rbf','best_lgc']  0.832790  0.018452   \n",
       "498                       ['best_svc_poly','best_lgc']  0.832790  0.018452   \n",
       "49   ['best_svc_rbf','best_svc_poly','best_gbc','be...  0.832790  0.018452   \n",
       "149         ['best_svc_rbf','best_dtc','best_svc_lin']  0.832777  0.018194   \n",
       "134  ['best_svc_rbf','best_svc_poly','best_dtc','be...  0.832790  0.018452   \n",
       "264  ['best_svc_rbf','best_svc_poly','best_dtc','be...  0.832777  0.019206   \n",
       "30   ['best_svc_rbf','best_svc_poly','best_rf','bes...  0.832790  0.018452   \n",
       "404  ['best_svc_rbf','best_svc_poly','best_rf_sel',...  0.832809  0.023723   \n",
       "426  ['best_svc_rbf','best_svc_poly','best_dtc','be...  0.833920  0.020107   \n",
       "464  ['best_svc_rbf','best_svc_poly','best_gbc_sel'...  0.831672  0.017575   \n",
       "24   ['best_svc_rbf','best_svc_poly','best_rf_sel',...  0.832790  0.018452   \n",
       "84     ['best_svc_rbf','best_svc_poly','best_gbc_sel']  0.832790  0.018452   \n",
       "480  ['best_svc_rbf','best_svc_poly','best_gbc_sel'...  0.832790  0.018452   \n",
       "124  ['best_svc_rbf','best_svc_poly','best_gbc_sel'...  0.833920  0.020107   \n",
       "223  ['best_svc_rbf','best_svc_poly','best_gbc_sel'...  0.831672  0.017575   \n",
       "191  ['best_svc_rbf','best_svc_poly','best_gbc_sel'...  0.831672  0.017575   \n",
       "363  ['best_svc_rbf','best_dtc','best_rf_sel','best...  0.832796  0.022973   \n",
       "127          ['best_svc_rbf','best_rf','best_svc_lin']  0.830542  0.015899   \n",
       "..                                                 ...       ...       ...   \n",
       "182  ['best_rf_sel','best_gbc','best_gbc_sel','best...  0.824937  0.015819   \n",
       "447  ['best_dtc','best_rf_sel','best_gbc','best_gbc...  0.829431  0.013272   \n",
       "419              ['best_rf_sel','best_gbc','best_lgc']  0.832808  0.013967   \n",
       "222          ['best_rf_sel','best_gbc','best_gbc_sel']  0.833932  0.015346   \n",
       "306             ['best_dtc','best_gbc','best_svc_lin']  0.823807  0.012431   \n",
       "487  ['best_svc_poly','best_dtc','best_rf_sel','bes...  0.827178  0.018447   \n",
       "67   ['best_dtc','best_rf_sel','best_gbc_sel','best...  0.830568  0.020245   \n",
       "106                         ['best_gbc_sel','best_rf']  0.832802  0.012109   \n",
       "437                  ['best_dtc','best_gbc','best_rf']  0.830561  0.016125   \n",
       "256  ['best_dtc','best_rf_sel','best_gbc','best_gbc...  0.830593  0.018372   \n",
       "14   ['best_rf_sel','best_gbc','best_gbc_sel','best...  0.826073  0.016704   \n",
       "175  ['best_dtc','best_gbc','best_gbc_sel','best_rf...  0.831691  0.020107   \n",
       "454                        ['best_gbc','best_gbc_sel']  0.833907  0.008875   \n",
       "360  ['best_dtc','best_rf_sel','best_gbc','best_gbc...  0.832789  0.012760   \n",
       "226       ['best_dtc','best_gbc','best_rf','best_lgc']  0.835075  0.015553   \n",
       "161         ['best_dtc','best_gbc_sel','best_svc_lin']  0.823820  0.014181   \n",
       "283                             ['best_gbc','best_rf']  0.832796  0.014108   \n",
       "234                        ['best_dtc','best_gbc_sel']  0.833907  0.012412   \n",
       "273  ['best_dtc','best_rf_sel','best_gbc','best_gbc...  0.832790  0.018430   \n",
       "205   ['best_dtc','best_rf_sel','best_gbc','best_lgc']  0.832790  0.022142   \n",
       "101              ['best_gbc','best_gbc_sel','best_rf']  0.832808  0.014440   \n",
       "257  ['best_dtc','best_gbc','best_gbc_sel','best_sv...  0.831653  0.010576   \n",
       "362          ['best_dtc','best_rf_sel','best_gbc_sel']  0.827203  0.013895   \n",
       "85    ['best_dtc','best_gbc','best_gbc_sel','best_rf']  0.835068  0.017529   \n",
       "269  ['best_dtc','best_rf_sel','best_gbc_sel','best...  0.830574  0.015175   \n",
       "180              ['best_dtc','best_gbc_sel','best_rf']  0.823826  0.016187   \n",
       "224                            ['best_dtc','best_gbc']  0.819319  0.009373   \n",
       "321                 ['best_dtc','best_gbc','best_lgc']  0.829444  0.017997   \n",
       "329                         ['best_dtc','best_rf_sel']  0.819363  0.020350   \n",
       "240             ['best_dtc','best_gbc','best_gbc_sel']  0.837284  0.013974   \n",
       "\n",
       "         diff  lowest  highest  \n",
       "416  0.001092   0.815    0.859  \n",
       "117  0.001387   0.814    0.851  \n",
       "448  0.001387   0.814    0.851  \n",
       "340  0.001653   0.812    0.858  \n",
       "148  0.001927   0.811    0.853  \n",
       "32   0.001936   0.813    0.852  \n",
       "491  0.001948   0.814    0.851  \n",
       "290  0.002222   0.813    0.859  \n",
       "380  0.002509   0.814    0.851  \n",
       "410  0.002782   0.812    0.856  \n",
       "130  0.002784   0.816    0.850  \n",
       "28   0.002785   0.814    0.849  \n",
       "326  0.002790   0.814    0.851  \n",
       "498  0.002790   0.814    0.851  \n",
       "49   0.002791   0.814    0.851  \n",
       "149  0.003070   0.815    0.851  \n",
       "134  0.003070   0.814    0.851  \n",
       "264  0.003070   0.814    0.852  \n",
       "30   0.003071   0.814    0.851  \n",
       "404  0.003335   0.809    0.857  \n",
       "426  0.003344   0.814    0.854  \n",
       "464  0.003347   0.814    0.849  \n",
       "24   0.003351   0.814    0.851  \n",
       "84   0.003351   0.814    0.851  \n",
       "480  0.003351   0.814    0.851  \n",
       "124  0.003625   0.814    0.854  \n",
       "223  0.003627   0.814    0.849  \n",
       "191  0.003627   0.814    0.849  \n",
       "363  0.003632   0.810    0.856  \n",
       "127  0.003634   0.815    0.846  \n",
       "..        ...     ...      ...  \n",
       "182  0.017099   0.809    0.841  \n",
       "447  0.017365   0.816    0.843  \n",
       "419  0.017367   0.819    0.847  \n",
       "222  0.017377   0.819    0.849  \n",
       "306  0.017378   0.811    0.836  \n",
       "487  0.017381   0.809    0.846  \n",
       "67   0.017654   0.810    0.851  \n",
       "106  0.017661   0.821    0.845  \n",
       "437  0.017918   0.814    0.847  \n",
       "256  0.018204   0.812    0.849  \n",
       "14   0.018497   0.809    0.843  \n",
       "175  0.018769   0.812    0.852  \n",
       "454  0.018781   0.825    0.843  \n",
       "360  0.018784   0.820    0.846  \n",
       "226  0.019029   0.820    0.851  \n",
       "161  0.019051   0.810    0.838  \n",
       "283  0.019054   0.819    0.847  \n",
       "234  0.019073   0.821    0.846  \n",
       "273  0.019349   0.814    0.851  \n",
       "205  0.019638   0.811    0.855  \n",
       "101  0.019899   0.818    0.847  \n",
       "257  0.021310   0.821    0.842  \n",
       "362  0.021852   0.813    0.841  \n",
       "85   0.022978   0.818    0.853  \n",
       "269  0.025219   0.815    0.846  \n",
       "180  0.027741   0.808    0.840  \n",
       "224  0.029426   0.810    0.829  \n",
       "321  0.030288   0.811    0.847  \n",
       "329  0.030563   0.799    0.840  \n",
       "240  0.034767   0.823    0.851  \n",
       "\n",
       "[502 rows x 6 columns]"
      ]
     },
     "execution_count": 96,
     "metadata": {},
     "output_type": "execute_result"
    }
   ],
   "source": [
    "soft_report = score_df(soft_combo_score_std,lowest_precision=3,highest_precision=3)\n",
    "\n",
    "sorted_soft_report = soft_report.sort_values(by=['diff'],ascending=[True])\n",
    "\n",
    "soft_estimators = get_estimators(sorted_report.iloc[0])\n",
    "\n",
    "sorted_soft_report"
   ]
  },
  {
   "cell_type": "code",
   "execution_count": 69,
   "metadata": {},
   "outputs": [],
   "source": [
    "best_soft_voter = [(est_key,estimator_dict[est_key]) for est_key in soft_estimators]"
   ]
  },
  {
   "cell_type": "code",
   "execution_count": 97,
   "metadata": {},
   "outputs": [],
   "source": [
    "soft_voting_clf = VotingClassifier(\n",
    "    estimators=best_soft_voter,\n",
    "    voting='soft')"
   ]
  },
  {
   "cell_type": "code",
   "execution_count": 98,
   "metadata": {},
   "outputs": [
    {
     "data": {
      "text/plain": [
       "0.8350493849358125"
      ]
     },
     "execution_count": 98,
     "metadata": {},
     "output_type": "execute_result"
    }
   ],
   "source": [
    "np.mean(cross_val_score(soft_voting_clf,X_train_full,y_train_full,cv=5,scoring='accuracy',n_jobs=-1))"
   ]
  },
  {
   "cell_type": "code",
   "execution_count": 99,
   "metadata": {},
   "outputs": [
    {
     "data": {
      "image/png": "[encoded data removed]",
      "text/plain": [
       "<matplotlib.figure.Figure at 0x7fdcd3037a58>"
      ]
     },
     "metadata": {},
     "output_type": "display_data"
    }
   ],
   "source": [
    "plot_learning_curves_cv(soft_voting_clf,X_train_full,y_train_full_nm,accuracy_score,increments=5)"
   ]
  },
  {
   "cell_type": "code",
   "execution_count": 104,
   "metadata": {},
   "outputs": [],
   "source": [
    "hard_voting_clf.fit(X_train_full, y_train_full)\n",
    "est_y = hard_voting_clf.predict(test_data)\n",
    "test_data['Survived'] = est_y\n",
    "utils.save_csv(test_data[['Survived']],'results/result_{}.csv'.format('hard_voting'))"
   ]
  },
  {
   "cell_type": "code",
   "execution_count": 105,
   "metadata": {},
   "outputs": [],
   "source": [
    "soft_voting_clf.fit(X_train_full, y_train_full)\n",
    "est_y = soft_voting_clf.predict(test_data)\n",
    "test_data['Survived'] = est_y\n",
    "utils.save_csv(test_data[['Survived']],'results/result_{}.csv'.format('soft_voting'))"
   ]
  },
  {
   "cell_type": "code",
   "execution_count": 106,
   "metadata": {},
   "outputs": [],
   "source": [
    "for model, est in estimators:\n",
    "    est.fit(X_train_full,y_train_full)\n",
    "    est_y = est.predict(test_data)\n",
    "    test_data['Survived'] = est_y\n",
    "    utils.save_csv(test_data[['Survived']],'results/result_{}.csv'.format(model))\n"
   ]
  }
 ],
 "metadata": {
  "kernelspec": {
   "display_name": "Python 3",
   "language": "python",
   "name": "python3"
  },
  "language_info": {
   "codemirror_mode": {
    "name": "ipython",
    "version": 3
   },
   "file_extension": ".py",
   "mimetype": "text/x-python",
   "name": "python",
   "nbconvert_exporter": "python",
   "pygments_lexer": "ipython3",
   "version": "3.5.2"
  }
 },
 "nbformat": 4,
 "nbformat_minor": 2
}
